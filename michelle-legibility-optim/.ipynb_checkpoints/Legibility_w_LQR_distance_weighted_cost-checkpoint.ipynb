{
 "cells": [
  {
   "cell_type": "code",
   "execution_count": 1,
   "metadata": {},
   "outputs": [
    {
     "name": "stderr",
     "output_type": "stream",
     "text": [
      "\u001b[32m\u001b[1m  Activating\u001b[22m\u001b[39m environment at `~/Documents/ocrl_16745/legibility/Project.toml`\n"
     ]
    }
   ],
   "source": [
    "import Pkg; Pkg.activate(joinpath(@__DIR__,\"\")); \n",
    "Pkg.instantiate()\n",
    "using ForwardDiff\n",
    "using Test\n",
    "\n",
    "using LinearAlgebra\n",
    "using StaticArrays\n",
    "using Statistics\n",
    "using Plots\n",
    "using Printf\n",
    "using JLD2\n",
    "\n",
    "const FD = ForwardDiff;\n",
    "\n"
   ]
  },
  {
   "cell_type": "markdown",
   "metadata": {},
   "source": [
    "# Point Model"
   ]
  },
  {
   "cell_type": "code",
   "execution_count": 2,
   "metadata": {},
   "outputs": [
    {
     "data": {
      "text/plain": [
       "61"
      ]
     },
     "execution_count": 2,
     "metadata": {},
     "output_type": "execute_result"
    }
   ],
   "source": [
    "x0    = [0.0, 0.0]                    # initial state\n",
    "xgoal = [6.0, 5.0]                    # goal state\n",
    "nx = 2 \n",
    "nu = 2\n",
    "\n",
    "Q = I(2)\n",
    "R = I(2)\n",
    "Qf = I(2) .* 10\n",
    "\n",
    "dt = 0.025 \n",
    "# N = 61\n",
    "N = 61"
   ]
  },
  {
   "cell_type": "markdown",
   "metadata": {},
   "source": [
    "# Helper Functions"
   ]
  },
  {
   "cell_type": "code",
   "execution_count": 3,
   "metadata": {},
   "outputs": [
    {
     "data": {
      "text/plain": [
       "dist (generic function with 1 method)"
      ]
     },
     "execution_count": 3,
     "metadata": {},
     "output_type": "execute_result"
    }
   ],
   "source": [
    "function dist(x1, y1, x2, y2)\n",
    "    c = sqrt((x2 - x2)*(x2 - x1) + (y2 - y1)*(y2 - y1))\n",
    "    return c\n",
    "end"
   ]
  },
  {
   "cell_type": "code",
   "execution_count": 4,
   "metadata": {},
   "outputs": [
    {
     "data": {
      "text/plain": [
       "dynamics_jacobians (generic function with 1 method)"
      ]
     },
     "execution_count": 4,
     "metadata": {},
     "output_type": "execute_result"
    }
   ],
   "source": [
    "\n",
    "function dynamics(x,u)\n",
    "    A = [1 0; 0 1]\n",
    "    B = [1 0; 0 1]\n",
    "\n",
    "    xnext = A * x + B*u\n",
    "    return xnext\n",
    "end\n",
    "\n",
    "\n",
    "function rk4(x,u,dt)\n",
    "    # rk4 for integration\n",
    "    k1 = dt*dynamics(x,u)\n",
    "    k2 = dt*dynamics(x + k1/2,u)\n",
    "    k3 = dt*dynamics(x + k2/2,u)\n",
    "    k4 = dt*dynamics(x + k3,u)\n",
    "    return x + (1/6)*(k1 + 2*k2 + 2*k3 + k4)\n",
    "end\n",
    "\n",
    "\n",
    "function dynamics_jacobians(x,u,dt)\n",
    "    # returns the discrete time dynamics jacobians\n",
    "    A = FD.jacobian(_x -> rk4(_x,u,dt),x)\n",
    "    B = FD.jacobian(_u -> rk4(x,_u,dt),u)\n",
    "    return A,B\n",
    "end"
   ]
  },
  {
   "cell_type": "markdown",
   "metadata": {},
   "source": [
    "## LQR Cost Function\n",
    "\n",
    "The objective / cost function for our optimization problem is of the following form:\n",
    "\n",
    "$$\\ell(x_{1:N}, u_{1:N-1}) = J_N(x_N) + \\sum_{i=1}^{N-1} J(x_k,u_k) $$\n",
    "\n",
    "Where the *stage cost* $J(x_k,u_k)$ is defined as:\n",
    "\n",
    "$$J(x,u) = \\frac{1}{2}(x - x_{ref})^TQ(x - x_{ref}) + \\frac{1}{2}(u -u_{ref})^TR(u-u_{ref})$$\n",
    "\n",
    "And the *terminal cost* is\n",
    "\n",
    "$$J_N(x) = \\frac{1}{2}(x - x_{ref})^TQ_f(x - x_{ref})$$\n",
    "\n",
    "These cost functions penalize distance from a given reference trajectory. Quadratic cost functions of this form are often referred to as LQR costs."
   ]
  },
  {
   "cell_type": "markdown",
   "metadata": {},
   "source": [
    "## Legibility LQR Cost Function\n",
    "\n",
    "Legibility is defined as \n",
    "\n",
    "$$\\text{Legibility}(\\xi) = \\frac{\\int P(G^*|\\xi_{S \\rightarrow \\xi(t)}) f(t) dt} {\\int f(t) dt}$$\n",
    "\n",
    "When legibility is defined over an entire trajectory, $f(t) = T-t$ is a function to give more weight to earlier parts of a trajectory. \n",
    "\n",
    "$P(G^*|\\xi_{S \\rightarrow \\xi(t)})$ is computed using a cost function $C$. $Z$ is a normalization term across all goals.\n",
    "\n",
    "$$P(G^*|\\xi_{S \\rightarrow \\xi(t)}) = \\frac{1}{Z} \\frac{exp(-C[\\xi_{S \\rightarrow Q}] - C[\\xi^*_{Q \\rightarrow G^*}])} {exp(-C[\\xi_{S \\rightarrow G^*}])} P(G)$$\n",
    "\n",
    "The objective in generating legible trajectories is to maximize $\\text{Legibility}(\\xi)$.\n",
    "\n",
    "$$ \\underset{\\xi}{\\mathrm{argmax}} \\text{ Legibility}(\\xi) $$\n",
    "\n",
    "Since we want a step-cost formulation for legibility, we define $f(t)=1$ and redefine legibility:\n",
    "\n",
    "$$\\text{Legibility}(\\xi) = \\sum_t P(G^*|\\xi_{S \\rightarrow \\xi(t)}) = \\sum_t \\text{Legibility}(\\xi_t)$$\n",
    "\n",
    "Legibility at each timestep is \n",
    "$$\\text{Legibility}(\\xi_t) =  P(G^*|\\xi_{S \\rightarrow \\xi(t)}) $$\n",
    "\n",
    "$$ \\underset{\\xi}{\\mathrm{argmax}} \\text{ Legibility}(\\xi) = \\underset{\\xi}{\\mathrm{argmax}} P(G^*|\\xi_{S \\rightarrow \\xi(t)}) $$\n",
    "\n",
    "The trajectory that maximizes the probability of the intended goal $G^*$ also maximizes the log of the probability $\\ln (P(G^*|\\xi_{S \\rightarrow \\xi(t)}))$.\n",
    "\n",
    "$$ \\underset{\\xi}{\\mathrm{argmax}} P(G^*|\\xi_{S \\rightarrow \\xi(t)}) = \\underset{\\xi}{\\mathrm{argmax}} \\ln(P(G^*|\\xi_{S \\rightarrow \\xi(t)})) $$\n",
    "\n",
    "We use a uniform prior $P(G)$ over goals and remove it from the objective.\n",
    "$$ = \\ln \\left[ \\frac{1}{Z} \\frac{exp(-C[\\xi_{S \\rightarrow Q}] - C[\\xi^*_{Q \\rightarrow G^*}])} {exp(-C[\\xi_{S \\rightarrow G^*}])} \\right] $$\n",
    "\n",
    "$$ = \\ln \\left[ exp(-C[\\xi_{S \\rightarrow Q}] - C[\\xi^*_{Q \\rightarrow G^*}]) \\right] - \\ln \\left[exp(-C[\\xi_{S \\rightarrow G^*}]) \\right] - \\ln(Z)$$\n",
    "\n",
    "$$ = -C[\\xi_{S \\rightarrow Q}] - C[\\xi^*_{Q \\rightarrow G^*}]) + C[\\xi_{S \\rightarrow G^*}]) - \\ln(Z)$$\n"
   ]
  },
  {
   "cell_type": "markdown",
   "metadata": {},
   "source": [
    "## Redefined LQR Costs\n",
    "\n",
    "The *stage legibility* $Legibility(x_k,u_k)$ is defined as:\n",
    "\n",
    "$$Legibility(x_k,u_k) = -C[\\xi_{S \\rightarrow x_k}] - C[\\xi^*_{x_k \\rightarrow G^*}]) + C[\\xi_{S \\rightarrow G^*}]) - \\ln(Z_k)$$\n",
    "\n",
    "$$Legibility(x_k,u_k) = \\frac{1}{2}(x_{start} - G^*)^TQ(x_{start} - G^*) - \\frac{1}{2}(x_{start} - x_k)^TQ(x_{start} - x_k) - \\frac{1}{2}(x_k - G^*)^TQ(x_k - G^*) - \\ln(Z_k) $$\n",
    "\n",
    "where \n",
    "\n",
    "$$Z = \\sum_{G} P(G|\\xi_{S \\rightarrow \\xi(t)})$$\n",
    "\n",
    "The *stage cost* $J(x_k,u_k)$ is defined as:\n",
    "\n",
    "$$J(x,u) = - Legibility(x_k,u_k) + \\frac{1}{2}(u_k -u_{ref})^TR(u_k-u_{ref})$$\n"
   ]
  },
  {
   "cell_type": "code",
   "execution_count": 5,
   "metadata": {},
   "outputs": [
    {
     "data": {
      "text/plain": [
       "term_cost_expansion (generic function with 1 method)"
      ]
     },
     "execution_count": 5,
     "metadata": {},
     "output_type": "execute_result"
    }
   ],
   "source": [
    "function stage_cost(x,u,xref,uref, start, goal1, all_goals)\n",
    "\n",
    "    goal_idx = 1\n",
    "    \n",
    "    J_g1 = (start-goal1)'*Q*(start-goal1) - (start-x)'*Q*(start-x) - (x-goal1)'*Q*(x-goal1) \n",
    "    J_g1 *= 0.5\n",
    "\n",
    "    min_dist = 10000\n",
    "    for i=1:length(all_goals)\n",
    "        goal = all_goals[i]\n",
    "        curr_dist = dist(x[1], x[2], goal[1], goal[2])\n",
    "        if curr_dist < min_dist\n",
    "            min_dist = curr_dist\n",
    "        end\n",
    "    end\n",
    "    \n",
    "    log_sum = 0\n",
    "    for i=1:length(all_goals)\n",
    "        goal = all_goals[i]\n",
    "        scale = 1\n",
    "        if goal != goal1\n",
    "            scale = 1\n",
    "            if dist(x[1], x[2], goal[1], goal[2]) <= min_dist\n",
    "                scale = 500\n",
    "            end\n",
    "        end\n",
    "        n = -( (start-x)'*Q*(start-x) + (x-goal)'*Q*(x-goal))\n",
    "        d = (start-goal)'*Q*(start-goal)\n",
    "        \n",
    "        log_sum += (exp(n)/exp(d)) * scale\n",
    "\n",
    "    end\n",
    "    \n",
    "    \n",
    "    J = J_g1 - log(log_sum)\n",
    "\n",
    "    J *= -1\n",
    "    J += 0.5 *  (u-uref)'*R*(u-uref)\n",
    "\n",
    "    return J\n",
    "end\n",
    "\n",
    "\n",
    "function term_cost(x,xref)\n",
    "    # LQR terminal cost (depends on just x)\n",
    "    J = 0.5*(x-xref)'*Qf*(x-xref)\n",
    "    \n",
    "    return J*1000\n",
    "end\n",
    "\n",
    "\n",
    "function trajectory_cost(X,U,Xref,Uref, start, goal1, all_goals)\n",
    "    # calculate the cost of a given trajectory \n",
    "#     J = 0.0\n",
    "    N_len = length(Xref)\n",
    "    J = term_cost(X[N_len],Xref[N_len])\n",
    "    for i=1:length(Xref)-1\n",
    "        xref = Xref[i]\n",
    "        uref = Uref[i]\n",
    "        x = X[i]\n",
    "        u = U[i]\n",
    "        J = J + stage_cost(x,u,xref,uref, start, goal1, all_goals)\n",
    "    end\n",
    "    return J\n",
    "end\n",
    "        \n",
    "function stage_cost_expansion(x,u,xref,uref, start, goal1, all_goals)\n",
    "    # if the stage cost function is J, return the following derivatives:\n",
    "    # ∇²ₓJ,  ∇ₓJ, ∇²ᵤJ, ∇ᵤJ        \n",
    "    Jxx = FD.hessian(dx -> stage_cost(dx,u,xref,uref, start, goal1, all_goals), x)\n",
    "    Jx = FD.gradient(dx -> stage_cost(dx,u,xref,uref, start, goal1, all_goals), x)\n",
    "        \n",
    "    Juu = FD.hessian(du -> stage_cost(x,du,xref,uref, start, goal1, all_goals), u)\n",
    "    Ju = FD.gradient(du -> stage_cost(x,du,xref,uref, start, goal1, all_goals), u)\n",
    "        \n",
    "    \n",
    "    return Jxx, Jx, Juu, Ju\n",
    "end\n",
    "\n",
    "function term_cost_expansion(x,xref)\n",
    "    # if the terminal cost function is J, return the following derivatives:\n",
    "    # ∇²ₓJ,  ∇ₓJ\n",
    "    Jxx = FD.hessian(dx -> term_cost(dx, xref), x)\n",
    "    Jx = FD.gradient(dx -> term_cost(dx, xref), x)\n",
    "    \n",
    "    return Jxx, Jx\n",
    "end"
   ]
  },
  {
   "cell_type": "markdown",
   "metadata": {},
   "source": [
    "## Backward Pass and Forward Pass\n"
   ]
  },
  {
   "cell_type": "code",
   "execution_count": 6,
   "metadata": {},
   "outputs": [
    {
     "data": {
      "text/plain": [
       "forward_pass (generic function with 1 method)"
      ]
     },
     "execution_count": 6,
     "metadata": {},
     "output_type": "execute_result"
    }
   ],
   "source": [
    "\n",
    "function backward_pass(X,U,Xref,Uref, start, goal1, all_goals)\n",
    "\n",
    "    \n",
    "    P = [zeros(nx,nx) for i = 1:N]     # cost to go quadratic term\n",
    "    p = [zeros(nx) for i = 1:N]        # cost to go linear term \n",
    "    d = [zeros(nu)*NaN for i = 1:N-1]  # feedforward control\n",
    "    K = [zeros(nu,nx) for i = 1:N-1]   # feedback gain\n",
    "    ΔJ = 0.0                           # expected cost decrease\n",
    "    \n",
    "    Jxx_term, Jx_term = term_cost_expansion(X[end],Xref[end])\n",
    "\n",
    "    p[end] = Jx_term\n",
    "    P[end] = Jxx_term\n",
    "    \n",
    "    for i = reverse(1:N-1)\n",
    "        Jxx, Jx, Juu, Ju = stage_cost_expansion(X[i],U[i],Xref[i],Uref[i], start, goal1, all_goals)  \n",
    "        \n",
    "        A, B = dynamics_jacobians(X[i],U[i],dt)\n",
    "        \n",
    "        gx = Jx + A'*p[i+1]\n",
    "        gu = Ju + B'*p[i+1]\n",
    "        \n",
    "        Gxx = Jxx + A'*P[i+1]*A\n",
    "        Guu = Juu + B'*P[i+1]*B\n",
    "        \n",
    "        Gxu = A'*P[i+1]*B\n",
    "        Gux = B'*P[i+1]*A\n",
    "        \n",
    "        K_i = Guu\\ Gux\n",
    "        d_i = Guu\\ gu\n",
    "\n",
    "        P_i = Gxx + K_i'*Guu*K_i - Gxu*K_i - K_i'Gux\n",
    "        p_i = gx - K_i'*gu + K_i'*Guu*d_i - Gxu*d_i\n",
    "        \n",
    "        K[i] .= K_i\n",
    "        d[i] .= d_i\n",
    "        P[i] .= P_i\n",
    "        p[i] .= p_i\n",
    "        ΔJ +=  (gu' * d_i) \n",
    "        \n",
    "        \n",
    "    end\n",
    "    \n",
    "    return d, K, P, ΔJ\n",
    "end\n",
    "\n",
    "function forward_pass(X,U,Xref,Uref,K,d,ΔJ, start, goal1, all_goals; max_linesearch_iters = 10)\n",
    "    \n",
    "    Xn = deepcopy(X)\n",
    "    Un = deepcopy(U)\n",
    "    Jn = NaN\n",
    "    α = 1.0\n",
    "    \n",
    "    n_iters = 0\n",
    "    c = 0.5\n",
    "    \n",
    "    X_prev = deepcopy(X)\n",
    "    U_prev = deepcopy(U)\n",
    "    J = trajectory_cost(X,U,Xref,Uref, start, goal1, all_goals)\n",
    "    while n_iters <= max_linesearch_iters \n",
    "        for k=1:N-1\n",
    "            u_k = U_prev[k] - α * d[k] - K[k]*(Xn[k]-X_prev[k])\n",
    "            \n",
    "            x_k = rk4(Xn[k],u_k, dt)\n",
    "            \n",
    "            Xn[k+1] = x_k\n",
    "\n",
    "            Un[k] .= u_k\n",
    "            \n",
    "        end\n",
    "        \n",
    "        \n",
    "        Jn = trajectory_cost(Xn,Un,Xref,Uref, start, goal1, all_goals)\n",
    "        \n",
    "        if Jn < J - 0.01* α * ΔJ\n",
    "            break\n",
    "        end\n",
    "        α = c * α\n",
    "        n_iters += 1\n",
    "\n",
    "    end\n",
    "        \n",
    "        \n",
    "    return Xn, Un, Jn, α\n",
    "end"
   ]
  },
  {
   "cell_type": "markdown",
   "metadata": {},
   "source": [
    "## iLQR Algorithm\n"
   ]
  },
  {
   "cell_type": "code",
   "execution_count": 7,
   "metadata": {},
   "outputs": [
    {
     "data": {
      "text/plain": [
       "iLQR (generic function with 1 method)"
      ]
     },
     "execution_count": 7,
     "metadata": {},
     "output_type": "execute_result"
    }
   ],
   "source": [
    "\n",
    "function iLQR(x0,U,Xref,Uref, start, goal1, all_goals;atol=1e-5,max_iters = 100,verbose = true)\n",
    "\n",
    "    X = [copy(x0) for i = 1:N]\n",
    "    U = deepcopy(U)\n",
    "    K = [zeros(nu,nx) for i = 1:N-1]\n",
    "    P = [zeros(nx,nx) for i = 1:N]\n",
    "    iter = -1\n",
    "    \n",
    "    while iter < max_iters\n",
    "        iter += 1\n",
    "        d, K, P, ΔJ = backward_pass(X,U,Xref,Uref, start, goal1, all_goals)\n",
    "    \n",
    "        X, U, J, α = forward_pass(X,U,Xref,Uref,K,d,ΔJ, start, goal1, all_goals)\n",
    "\n",
    "        if maximum(norm.(d)) < atol\n",
    "            break\n",
    "        end\n",
    "\n",
    "    end\n",
    "    return X,U,K,P,iter\n",
    "\n",
    "end\n",
    "        "
   ]
  },
  {
   "cell_type": "markdown",
   "metadata": {},
   "source": [
    "## Test Legibility ILQR\n"
   ]
  },
  {
   "cell_type": "code",
   "execution_count": 8,
   "metadata": {},
   "outputs": [
    {
     "data": {
      "text/plain": [
       "2-element Vector{Float64}:\n",
       " 0.0\n",
       " 0.0"
      ]
     },
     "execution_count": 8,
     "metadata": {},
     "output_type": "execute_result"
    }
   ],
   "source": [
    "goal1 = [6.0, 5.0]\n",
    "goal2 = [7.0, 2.0]\n",
    "goal3 = [4.0, 1.0]\n",
    "start = [0.0, 0.0]"
   ]
  },
  {
   "cell_type": "code",
   "execution_count": 9,
   "metadata": {},
   "outputs": [
    {
     "data": {
      "text/plain": [
       "5-element Vector{Vector{Float64}}:\n",
       " [0.0, 3.0]\n",
       " [-0.5, 1.0]\n",
       " [0.5, 2.0]\n",
       " [1.0, 3.0]\n",
       " [-1.0, 3.0]"
      ]
     },
     "execution_count": 9,
     "metadata": {},
     "output_type": "execute_result"
    }
   ],
   "source": [
    "\n",
    "\n",
    "true_goal = [0.0, 3.0]\n",
    "goal4 = [1.0, 3.0]\n",
    "goal5 = [-1.0, 3.0]\n",
    "goal2 = [-0.5, 1.0]\n",
    "goal3 = [0.5, 2.0]\n",
    "start = [0.0, 0.0]\n",
    "    \n",
    "all_goals = [true_goal, goal2, goal3, goal4, goal5]\n"
   ]
  },
  {
   "cell_type": "code",
   "execution_count": 10,
   "metadata": {},
   "outputs": [
    {
     "name": "stdout",
     "output_type": "stream",
     "text": [
      "done\n"
     ]
    }
   ],
   "source": [
    "x0 = [0.0,0.0]\n",
    "xgoal = copy(true_goal)\n",
    "Xrefline = [copy(xgoal) for i = 1:N]\n",
    "Urefline = [copy([0.0,0.0]) for i = 1:N-1]\n",
    "\n",
    "Xline,Uline,Kline,Pline, iterline = iLQR(x0,Urefline,Xrefline,Urefline, start, true_goal, all_goals)\n",
    "println(\"done\")\n"
   ]
  },
  {
   "cell_type": "code",
   "execution_count": 11,
   "metadata": {},
   "outputs": [
    {
     "data": {
      "text/plain": [
       "61-element Vector{Vector{Float64}}:\n",
       " [0.0, 0.0]\n",
       " [0.005484917575946648, 0.07799676890651296]\n",
       " [0.010341381674771881, 0.15531976206986353]\n",
       " [0.01456635815669256, 0.23192065141135174]\n",
       " [0.018157207788480068, 0.3077515603970657]\n",
       " [0.021111687919150877, 0.3827650939884088]\n",
       " [0.023427953909682015, 0.4569143682935936]\n",
       " [0.02510456031569534, 0.5301530399014114]\n",
       " [0.02614046182212931, 0.6024353348787047]\n",
       " [0.026535013928982464, 0.673716077413094]\n",
       " [0.026287973387270173, 0.7439507180826317]\n",
       " [0.02539949838438736, 0.8130953617341878]\n",
       " [0.023870148478117043, 0.881106794952508]\n",
       " ⋮\n",
       " [-0.041426697544432865, 2.6977692121313313]\n",
       " [-0.03732063352697659, 2.7300342995550118]\n",
       " [-0.03333367073387316, 2.7613697092014196]\n",
       " [-0.029450722669296533, 2.7918193493248262]\n",
       " [-0.025657472550913, 2.8214246084265597]\n",
       " [-0.021940357684474502, 2.8502242487571734]\n",
       " [-0.01828654167255366, 2.8782543587200773]\n",
       " [-0.014683877417905427, 2.9055483541260827]\n",
       " [-0.011120863528064824, 2.9321370187831826]\n",
       " [-0.00758659633953573, 2.9580485757703254]\n",
       " [-0.0040707193925056395, 2.9833087817819486]\n",
       " [-0.0005633718236850642, 3.0079410380248097]"
      ]
     },
     "execution_count": 11,
     "metadata": {},
     "output_type": "execute_result"
    }
   ],
   "source": [
    "Xline"
   ]
  },
  {
   "cell_type": "code",
   "execution_count": 14,
   "metadata": {},
   "outputs": [
    {
     "data": {
      "image/svg+xml": [
       "<?xml version=\"1.0\" encoding=\"utf-8\"?>\n",
       "<svg xmlns=\"http://www.w3.org/2000/svg\" xmlns:xlink=\"http://www.w3.org/1999/xlink\" width=\"600\" height=\"400\" viewBox=\"0 0 2400 1600\">\n",
       "<defs>\n",
       "  <clipPath id=\"clip460\">\n",
       "    <rect x=\"0\" y=\"0\" width=\"2400\" height=\"1600\"/>\n",
       "  </clipPath>\n",
       "</defs>\n",
       "<path clip-path=\"url(#clip460)\" d=\"\n",
       "M0 1600 L2400 1600 L2400 0 L0 0  Z\n",
       "  \" fill=\"#ffffff\" fill-rule=\"evenodd\" fill-opacity=\"1\"/>\n",
       "<defs>\n",
       "  <clipPath id=\"clip461\">\n",
       "    <rect x=\"480\" y=\"0\" width=\"1681\" height=\"1600\"/>\n",
       "  </clipPath>\n",
       "</defs>\n",
       "<path clip-path=\"url(#clip460)\" d=\"\n",
       "M174.149 1423.18 L2352.76 1423.18 L2352.76 123.472 L174.149 123.472  Z\n",
       "  \" fill=\"#ffffff\" fill-rule=\"evenodd\" fill-opacity=\"1\"/>\n",
       "<defs>\n",
       "  <clipPath id=\"clip462\">\n",
       "    <rect x=\"174\" y=\"123\" width=\"2180\" height=\"1301\"/>\n",
       "  </clipPath>\n",
       "</defs>\n",
       "<polyline clip-path=\"url(#clip462)\" style=\"stroke:#000000; stroke-linecap:butt; stroke-linejoin:round; stroke-width:2; stroke-opacity:0.1; fill:none\" points=\"\n",
       "  235.808,1423.18 235.808,123.472 \n",
       "  \"/>\n",
       "<polyline clip-path=\"url(#clip462)\" style=\"stroke:#000000; stroke-linecap:butt; stroke-linejoin:round; stroke-width:2; stroke-opacity:0.1; fill:none\" points=\"\n",
       "  749.63,1423.18 749.63,123.472 \n",
       "  \"/>\n",
       "<polyline clip-path=\"url(#clip462)\" style=\"stroke:#000000; stroke-linecap:butt; stroke-linejoin:round; stroke-width:2; stroke-opacity:0.1; fill:none\" points=\"\n",
       "  1263.45,1423.18 1263.45,123.472 \n",
       "  \"/>\n",
       "<polyline clip-path=\"url(#clip462)\" style=\"stroke:#000000; stroke-linecap:butt; stroke-linejoin:round; stroke-width:2; stroke-opacity:0.1; fill:none\" points=\"\n",
       "  1777.27,1423.18 1777.27,123.472 \n",
       "  \"/>\n",
       "<polyline clip-path=\"url(#clip462)\" style=\"stroke:#000000; stroke-linecap:butt; stroke-linejoin:round; stroke-width:2; stroke-opacity:0.1; fill:none\" points=\"\n",
       "  2291.1,1423.18 2291.1,123.472 \n",
       "  \"/>\n",
       "<polyline clip-path=\"url(#clip460)\" style=\"stroke:#000000; stroke-linecap:butt; stroke-linejoin:round; stroke-width:4; stroke-opacity:1; fill:none\" points=\"\n",
       "  174.149,1423.18 2352.76,1423.18 \n",
       "  \"/>\n",
       "<polyline clip-path=\"url(#clip460)\" style=\"stroke:#000000; stroke-linecap:butt; stroke-linejoin:round; stroke-width:4; stroke-opacity:1; fill:none\" points=\"\n",
       "  235.808,1423.18 235.808,1404.28 \n",
       "  \"/>\n",
       "<polyline clip-path=\"url(#clip460)\" style=\"stroke:#000000; stroke-linecap:butt; stroke-linejoin:round; stroke-width:4; stroke-opacity:1; fill:none\" points=\"\n",
       "  749.63,1423.18 749.63,1404.28 \n",
       "  \"/>\n",
       "<polyline clip-path=\"url(#clip460)\" style=\"stroke:#000000; stroke-linecap:butt; stroke-linejoin:round; stroke-width:4; stroke-opacity:1; fill:none\" points=\"\n",
       "  1263.45,1423.18 1263.45,1404.28 \n",
       "  \"/>\n",
       "<polyline clip-path=\"url(#clip460)\" style=\"stroke:#000000; stroke-linecap:butt; stroke-linejoin:round; stroke-width:4; stroke-opacity:1; fill:none\" points=\"\n",
       "  1777.27,1423.18 1777.27,1404.28 \n",
       "  \"/>\n",
       "<polyline clip-path=\"url(#clip460)\" style=\"stroke:#000000; stroke-linecap:butt; stroke-linejoin:round; stroke-width:4; stroke-opacity:1; fill:none\" points=\"\n",
       "  2291.1,1423.18 2291.1,1404.28 \n",
       "  \"/>\n",
       "<path clip-path=\"url(#clip460)\" d=\"M182.336 1468.75 L212.011 1468.75 L212.011 1472.69 L182.336 1472.69 L182.336 1468.75 Z\" fill=\"#000000\" fill-rule=\"evenodd\" fill-opacity=\"1\" /><path clip-path=\"url(#clip460)\" d=\"M222.914 1481.64 L230.553 1481.64 L230.553 1455.28 L222.243 1456.95 L222.243 1452.69 L230.507 1451.02 L235.183 1451.02 L235.183 1481.64 L242.821 1481.64 L242.821 1485.58 L222.914 1485.58 L222.914 1481.64 Z\" fill=\"#000000\" fill-rule=\"evenodd\" fill-opacity=\"1\" /><path clip-path=\"url(#clip460)\" d=\"M252.266 1479.7 L257.15 1479.7 L257.15 1485.58 L252.266 1485.58 L252.266 1479.7 Z\" fill=\"#000000\" fill-rule=\"evenodd\" fill-opacity=\"1\" /><path clip-path=\"url(#clip460)\" d=\"M277.335 1454.1 Q273.724 1454.1 271.895 1457.66 Q270.09 1461.2 270.09 1468.33 Q270.09 1475.44 271.895 1479.01 Q273.724 1482.55 277.335 1482.55 Q280.969 1482.55 282.775 1479.01 Q284.604 1475.44 284.604 1468.33 Q284.604 1461.2 282.775 1457.66 Q280.969 1454.1 277.335 1454.1 M277.335 1450.39 Q283.145 1450.39 286.201 1455 Q289.28 1459.58 289.28 1468.33 Q289.28 1477.06 286.201 1481.67 Q283.145 1486.25 277.335 1486.25 Q271.525 1486.25 268.446 1481.67 Q265.391 1477.06 265.391 1468.33 Q265.391 1459.58 268.446 1455 Q271.525 1450.39 277.335 1450.39 Z\" fill=\"#000000\" fill-rule=\"evenodd\" fill-opacity=\"1\" /><path clip-path=\"url(#clip460)\" d=\"M696.656 1468.75 L726.332 1468.75 L726.332 1472.69 L696.656 1472.69 L696.656 1468.75 Z\" fill=\"#000000\" fill-rule=\"evenodd\" fill-opacity=\"1\" /><path clip-path=\"url(#clip460)\" d=\"M746.424 1454.1 Q742.813 1454.1 740.984 1457.66 Q739.179 1461.2 739.179 1468.33 Q739.179 1475.44 740.984 1479.01 Q742.813 1482.55 746.424 1482.55 Q750.058 1482.55 751.864 1479.01 Q753.692 1475.44 753.692 1468.33 Q753.692 1461.2 751.864 1457.66 Q750.058 1454.1 746.424 1454.1 M746.424 1450.39 Q752.234 1450.39 755.29 1455 Q758.368 1459.58 758.368 1468.33 Q758.368 1477.06 755.29 1481.67 Q752.234 1486.25 746.424 1486.25 Q740.614 1486.25 737.535 1481.67 Q734.48 1477.06 734.48 1468.33 Q734.48 1459.58 737.535 1455 Q740.614 1450.39 746.424 1450.39 Z\" fill=\"#000000\" fill-rule=\"evenodd\" fill-opacity=\"1\" /><path clip-path=\"url(#clip460)\" d=\"M766.586 1479.7 L771.47 1479.7 L771.47 1485.58 L766.586 1485.58 L766.586 1479.7 Z\" fill=\"#000000\" fill-rule=\"evenodd\" fill-opacity=\"1\" /><path clip-path=\"url(#clip460)\" d=\"M781.702 1451.02 L800.058 1451.02 L800.058 1454.96 L785.984 1454.96 L785.984 1463.43 Q787.002 1463.08 788.021 1462.92 Q789.04 1462.73 790.058 1462.73 Q795.845 1462.73 799.225 1465.9 Q802.604 1469.08 802.604 1474.49 Q802.604 1480.07 799.132 1483.17 Q795.66 1486.25 789.34 1486.25 Q787.165 1486.25 784.896 1485.88 Q782.651 1485.51 780.243 1484.77 L780.243 1480.07 Q782.327 1481.2 784.549 1481.76 Q786.771 1482.32 789.248 1482.32 Q793.252 1482.32 795.59 1480.21 Q797.928 1478.1 797.928 1474.49 Q797.928 1470.88 795.59 1468.77 Q793.252 1466.67 789.248 1466.67 Q787.373 1466.67 785.498 1467.08 Q783.646 1467.5 781.702 1468.38 L781.702 1451.02 Z\" fill=\"#000000\" fill-rule=\"evenodd\" fill-opacity=\"1\" /><path clip-path=\"url(#clip460)\" d=\"M1240.84 1454.1 Q1237.23 1454.1 1235.4 1457.66 Q1233.59 1461.2 1233.59 1468.33 Q1233.59 1475.44 1235.4 1479.01 Q1237.23 1482.55 1240.84 1482.55 Q1244.47 1482.55 1246.28 1479.01 Q1248.11 1475.44 1248.11 1468.33 Q1248.11 1461.2 1246.28 1457.66 Q1244.47 1454.1 1240.84 1454.1 M1240.84 1450.39 Q1246.65 1450.39 1249.7 1455 Q1252.78 1459.58 1252.78 1468.33 Q1252.78 1477.06 1249.7 1481.67 Q1246.65 1486.25 1240.84 1486.25 Q1235.03 1486.25 1231.95 1481.67 Q1228.89 1477.06 1228.89 1468.33 Q1228.89 1459.58 1231.95 1455 Q1235.03 1450.39 1240.84 1450.39 Z\" fill=\"#000000\" fill-rule=\"evenodd\" fill-opacity=\"1\" /><path clip-path=\"url(#clip460)\" d=\"M1261 1479.7 L1265.88 1479.7 L1265.88 1485.58 L1261 1485.58 L1261 1479.7 Z\" fill=\"#000000\" fill-rule=\"evenodd\" fill-opacity=\"1\" /><path clip-path=\"url(#clip460)\" d=\"M1286.07 1454.1 Q1282.46 1454.1 1280.63 1457.66 Q1278.82 1461.2 1278.82 1468.33 Q1278.82 1475.44 1280.63 1479.01 Q1282.46 1482.55 1286.07 1482.55 Q1289.7 1482.55 1291.51 1479.01 Q1293.34 1475.44 1293.34 1468.33 Q1293.34 1461.2 1291.51 1457.66 Q1289.7 1454.1 1286.07 1454.1 M1286.07 1450.39 Q1291.88 1450.39 1294.93 1455 Q1298.01 1459.58 1298.01 1468.33 Q1298.01 1477.06 1294.93 1481.67 Q1291.88 1486.25 1286.07 1486.25 Q1280.26 1486.25 1277.18 1481.67 Q1274.12 1477.06 1274.12 1468.33 Q1274.12 1459.58 1277.18 1455 Q1280.26 1450.39 1286.07 1450.39 Z\" fill=\"#000000\" fill-rule=\"evenodd\" fill-opacity=\"1\" /><path clip-path=\"url(#clip460)\" d=\"M1755.16 1454.1 Q1751.55 1454.1 1749.72 1457.66 Q1747.91 1461.2 1747.91 1468.33 Q1747.91 1475.44 1749.72 1479.01 Q1751.55 1482.55 1755.16 1482.55 Q1758.79 1482.55 1760.6 1479.01 Q1762.43 1475.44 1762.43 1468.33 Q1762.43 1461.2 1760.6 1457.66 Q1758.79 1454.1 1755.16 1454.1 M1755.16 1450.39 Q1760.97 1450.39 1764.02 1455 Q1767.1 1459.58 1767.1 1468.33 Q1767.1 1477.06 1764.02 1481.67 Q1760.97 1486.25 1755.16 1486.25 Q1749.35 1486.25 1746.27 1481.67 Q1743.21 1477.06 1743.21 1468.33 Q1743.21 1459.58 1746.27 1455 Q1749.35 1450.39 1755.16 1450.39 Z\" fill=\"#000000\" fill-rule=\"evenodd\" fill-opacity=\"1\" /><path clip-path=\"url(#clip460)\" d=\"M1775.32 1479.7 L1780.2 1479.7 L1780.2 1485.58 L1775.32 1485.58 L1775.32 1479.7 Z\" fill=\"#000000\" fill-rule=\"evenodd\" fill-opacity=\"1\" /><path clip-path=\"url(#clip460)\" d=\"M1790.43 1451.02 L1808.79 1451.02 L1808.79 1454.96 L1794.72 1454.96 L1794.72 1463.43 Q1795.74 1463.08 1796.75 1462.92 Q1797.77 1462.73 1798.79 1462.73 Q1804.58 1462.73 1807.96 1465.9 Q1811.34 1469.08 1811.34 1474.49 Q1811.34 1480.07 1807.86 1483.17 Q1804.39 1486.25 1798.07 1486.25 Q1795.9 1486.25 1793.63 1485.88 Q1791.38 1485.51 1788.98 1484.77 L1788.98 1480.07 Q1791.06 1481.2 1793.28 1481.76 Q1795.5 1482.32 1797.98 1482.32 Q1801.99 1482.32 1804.32 1480.21 Q1806.66 1478.1 1806.66 1474.49 Q1806.66 1470.88 1804.32 1468.77 Q1801.99 1466.67 1797.98 1466.67 Q1796.11 1466.67 1794.23 1467.08 Q1792.38 1467.5 1790.43 1468.38 L1790.43 1451.02 Z\" fill=\"#000000\" fill-rule=\"evenodd\" fill-opacity=\"1\" /><path clip-path=\"url(#clip460)\" d=\"M2258.25 1481.64 L2265.89 1481.64 L2265.89 1455.28 L2257.58 1456.95 L2257.58 1452.69 L2265.84 1451.02 L2270.52 1451.02 L2270.52 1481.64 L2278.16 1481.64 L2278.16 1485.58 L2258.25 1485.58 L2258.25 1481.64 Z\" fill=\"#000000\" fill-rule=\"evenodd\" fill-opacity=\"1\" /><path clip-path=\"url(#clip460)\" d=\"M2287.6 1479.7 L2292.49 1479.7 L2292.49 1485.58 L2287.6 1485.58 L2287.6 1479.7 Z\" fill=\"#000000\" fill-rule=\"evenodd\" fill-opacity=\"1\" /><path clip-path=\"url(#clip460)\" d=\"M2312.67 1454.1 Q2309.06 1454.1 2307.23 1457.66 Q2305.43 1461.2 2305.43 1468.33 Q2305.43 1475.44 2307.23 1479.01 Q2309.06 1482.55 2312.67 1482.55 Q2316.31 1482.55 2318.11 1479.01 Q2319.94 1475.44 2319.94 1468.33 Q2319.94 1461.2 2318.11 1457.66 Q2316.31 1454.1 2312.67 1454.1 M2312.67 1450.39 Q2318.48 1450.39 2321.54 1455 Q2324.62 1459.58 2324.62 1468.33 Q2324.62 1477.06 2321.54 1481.67 Q2318.48 1486.25 2312.67 1486.25 Q2306.86 1486.25 2303.78 1481.67 Q2300.73 1477.06 2300.73 1468.33 Q2300.73 1459.58 2303.78 1455 Q2306.86 1450.39 2312.67 1450.39 Z\" fill=\"#000000\" fill-rule=\"evenodd\" fill-opacity=\"1\" /><path clip-path=\"url(#clip460)\" d=\"M1245.28 1520.52 L1252.19 1520.52 L1263.99 1538.19 L1275.87 1520.52 L1282.77 1520.52 L1267.49 1543.34 L1283.79 1568.04 L1276.88 1568.04 L1263.52 1547.83 L1250.05 1568.04 L1243.11 1568.04 L1260.08 1542.68 L1245.28 1520.52 Z\" fill=\"#000000\" fill-rule=\"evenodd\" fill-opacity=\"1\" /><polyline clip-path=\"url(#clip462)\" style=\"stroke:#000000; stroke-linecap:butt; stroke-linejoin:round; stroke-width:2; stroke-opacity:0.1; fill:none\" points=\"\n",
       "  174.149,1386.4 2352.76,1386.4 \n",
       "  \"/>\n",
       "<polyline clip-path=\"url(#clip462)\" style=\"stroke:#000000; stroke-linecap:butt; stroke-linejoin:round; stroke-width:2; stroke-opacity:0.1; fill:none\" points=\"\n",
       "  174.149,978.762 2352.76,978.762 \n",
       "  \"/>\n",
       "<polyline clip-path=\"url(#clip462)\" style=\"stroke:#000000; stroke-linecap:butt; stroke-linejoin:round; stroke-width:2; stroke-opacity:0.1; fill:none\" points=\"\n",
       "  174.149,571.127 2352.76,571.127 \n",
       "  \"/>\n",
       "<polyline clip-path=\"url(#clip462)\" style=\"stroke:#000000; stroke-linecap:butt; stroke-linejoin:round; stroke-width:2; stroke-opacity:0.1; fill:none\" points=\"\n",
       "  174.149,163.493 2352.76,163.493 \n",
       "  \"/>\n",
       "<polyline clip-path=\"url(#clip460)\" style=\"stroke:#000000; stroke-linecap:butt; stroke-linejoin:round; stroke-width:4; stroke-opacity:1; fill:none\" points=\"\n",
       "  174.149,1423.18 174.149,123.472 \n",
       "  \"/>\n",
       "<polyline clip-path=\"url(#clip460)\" style=\"stroke:#000000; stroke-linecap:butt; stroke-linejoin:round; stroke-width:4; stroke-opacity:1; fill:none\" points=\"\n",
       "  174.149,1386.4 193.047,1386.4 \n",
       "  \"/>\n",
       "<polyline clip-path=\"url(#clip460)\" style=\"stroke:#000000; stroke-linecap:butt; stroke-linejoin:round; stroke-width:4; stroke-opacity:1; fill:none\" points=\"\n",
       "  174.149,978.762 193.047,978.762 \n",
       "  \"/>\n",
       "<polyline clip-path=\"url(#clip460)\" style=\"stroke:#000000; stroke-linecap:butt; stroke-linejoin:round; stroke-width:4; stroke-opacity:1; fill:none\" points=\"\n",
       "  174.149,571.127 193.047,571.127 \n",
       "  \"/>\n",
       "<polyline clip-path=\"url(#clip460)\" style=\"stroke:#000000; stroke-linecap:butt; stroke-linejoin:round; stroke-width:4; stroke-opacity:1; fill:none\" points=\"\n",
       "  174.149,163.493 193.047,163.493 \n",
       "  \"/>\n",
       "<path clip-path=\"url(#clip460)\" d=\"M126.205 1372.19 Q122.593 1372.19 120.765 1375.76 Q118.959 1379.3 118.959 1386.43 Q118.959 1393.54 120.765 1397.1 Q122.593 1400.64 126.205 1400.64 Q129.839 1400.64 131.644 1397.1 Q133.473 1393.54 133.473 1386.43 Q133.473 1379.3 131.644 1375.76 Q129.839 1372.19 126.205 1372.19 M126.205 1368.49 Q132.015 1368.49 135.07 1373.1 Q138.149 1377.68 138.149 1386.43 Q138.149 1395.16 135.07 1399.76 Q132.015 1404.35 126.205 1404.35 Q120.394 1404.35 117.316 1399.76 Q114.26 1395.16 114.26 1386.43 Q114.26 1377.68 117.316 1373.1 Q120.394 1368.49 126.205 1368.49 Z\" fill=\"#000000\" fill-rule=\"evenodd\" fill-opacity=\"1\" /><path clip-path=\"url(#clip460)\" d=\"M118.242 992.106 L125.88 992.106 L125.88 965.741 L117.57 967.407 L117.57 963.148 L125.834 961.482 L130.51 961.482 L130.51 992.106 L138.149 992.106 L138.149 996.042 L118.242 996.042 L118.242 992.106 Z\" fill=\"#000000\" fill-rule=\"evenodd\" fill-opacity=\"1\" /><path clip-path=\"url(#clip460)\" d=\"M121.83 584.472 L138.149 584.472 L138.149 588.407 L116.205 588.407 L116.205 584.472 Q118.867 581.718 123.45 577.088 Q128.056 572.435 129.237 571.093 Q131.482 568.57 132.362 566.833 Q133.265 565.074 133.265 563.384 Q133.265 560.63 131.32 558.894 Q129.399 557.158 126.297 557.158 Q124.098 557.158 121.644 557.922 Q119.214 558.685 116.436 560.236 L116.436 555.514 Q119.26 554.38 121.714 553.801 Q124.168 553.222 126.205 553.222 Q131.575 553.222 134.769 555.908 Q137.964 558.593 137.964 563.084 Q137.964 565.213 137.154 567.134 Q136.367 569.033 134.26 571.625 Q133.681 572.296 130.58 575.514 Q127.478 578.708 121.83 584.472 Z\" fill=\"#000000\" fill-rule=\"evenodd\" fill-opacity=\"1\" /><path clip-path=\"url(#clip460)\" d=\"M131.019 162.139 Q134.376 162.857 136.251 165.125 Q138.149 167.394 138.149 170.727 Q138.149 175.843 134.63 178.644 Q131.112 181.445 124.63 181.445 Q122.455 181.445 120.14 181.005 Q117.848 180.588 115.394 179.732 L115.394 175.218 Q117.339 176.352 119.654 176.931 Q121.968 177.509 124.492 177.509 Q128.89 177.509 131.181 175.773 Q133.496 174.037 133.496 170.727 Q133.496 167.672 131.343 165.959 Q129.214 164.223 125.394 164.223 L121.367 164.223 L121.367 160.38 L125.58 160.38 Q129.029 160.38 130.857 159.014 Q132.686 157.625 132.686 155.033 Q132.686 152.371 130.788 150.959 Q128.913 149.524 125.394 149.524 Q123.473 149.524 121.274 149.94 Q119.075 150.357 116.436 151.236 L116.436 147.07 Q119.098 146.329 121.413 145.959 Q123.751 145.588 125.811 145.588 Q131.135 145.588 134.237 148.019 Q137.339 150.426 137.339 154.547 Q137.339 157.417 135.695 159.408 Q134.052 161.375 131.019 162.139 Z\" fill=\"#000000\" fill-rule=\"evenodd\" fill-opacity=\"1\" /><path clip-path=\"url(#clip460)\" d=\"M16.4842 793.362 L16.4842 786.455 L36.0269 773.278 L16.4842 760.197 L16.4842 753.29 L41.3741 770.095 L64.0042 770.095 L64.0042 776.557 L41.3741 776.557 L16.4842 793.362 Z\" fill=\"#000000\" fill-rule=\"evenodd\" fill-opacity=\"1\" /><path clip-path=\"url(#clip460)\" d=\"M435.488 12.096 L443.671 12.096 L443.671 65.6895 L473.121 65.6895 L473.121 72.576 L435.488 72.576 L435.488 12.096 Z\" fill=\"#000000\" fill-rule=\"evenodd\" fill-opacity=\"1\" /><path clip-path=\"url(#clip460)\" d=\"M518.734 48.0275 L518.734 51.6733 L484.464 51.6733 Q484.95 59.3701 489.082 63.421 Q493.254 67.4314 500.667 67.4314 Q504.961 67.4314 508.972 66.3781 Q513.022 65.3249 516.992 63.2184 L516.992 70.267 Q512.982 71.9684 508.769 72.8596 Q504.556 73.7508 500.222 73.7508 Q489.365 73.7508 483.005 67.4314 Q476.686 61.1119 476.686 50.3365 Q476.686 39.1965 482.681 32.6746 Q488.717 26.1121 498.925 26.1121 Q508.08 26.1121 513.387 32.0264 Q518.734 37.9003 518.734 48.0275 M511.281 45.84 Q511.199 39.7232 507.837 36.0774 Q504.516 32.4315 499.006 32.4315 Q492.768 32.4315 489.001 35.9558 Q485.274 39.4801 484.707 45.8805 L511.281 45.84 Z\" fill=\"#000000\" fill-rule=\"evenodd\" fill-opacity=\"1\" /><path clip-path=\"url(#clip460)\" d=\"M560.823 49.3643 Q560.823 41.2625 557.461 36.8065 Q554.139 32.3505 548.103 32.3505 Q542.108 32.3505 538.746 36.8065 Q535.424 41.2625 535.424 49.3643 Q535.424 57.4256 538.746 61.8816 Q542.108 66.3376 548.103 66.3376 Q554.139 66.3376 557.461 61.8816 Q560.823 57.4256 560.823 49.3643 M568.277 66.9452 Q568.277 78.5308 563.132 84.1616 Q557.987 89.8329 547.374 89.8329 Q543.445 89.8329 539.961 89.2252 Q536.477 88.6581 533.196 87.4428 L533.196 80.1917 Q536.477 81.9741 539.677 82.8248 Q542.878 83.6755 546.199 83.6755 Q553.531 83.6755 557.177 79.8271 Q560.823 76.0193 560.823 68.282 L560.823 64.5957 Q558.514 68.6061 554.909 70.5911 Q551.303 72.576 546.28 72.576 Q537.935 72.576 532.831 66.2161 Q527.727 59.8562 527.727 49.3643 Q527.727 38.832 532.831 32.472 Q537.935 26.1121 546.28 26.1121 Q551.303 26.1121 554.909 28.0971 Q558.514 30.082 560.823 34.0924 L560.823 27.2059 L568.277 27.2059 L568.277 66.9452 Z\" fill=\"#000000\" fill-rule=\"evenodd\" fill-opacity=\"1\" /><path clip-path=\"url(#clip460)\" d=\"M583.63 27.2059 L591.083 27.2059 L591.083 72.576 L583.63 72.576 L583.63 27.2059 M583.63 9.54393 L591.083 9.54393 L591.083 18.9825 L583.63 18.9825 L583.63 9.54393 Z\" fill=\"#000000\" fill-rule=\"evenodd\" fill-opacity=\"1\" /><path clip-path=\"url(#clip460)\" d=\"M639.249 49.9314 Q639.249 41.7081 635.846 37.0496 Q632.484 32.3505 626.569 32.3505 Q620.655 32.3505 617.252 37.0496 Q613.89 41.7081 613.89 49.9314 Q613.89 58.1548 617.252 62.8538 Q620.655 67.5124 626.569 67.5124 Q632.484 67.5124 635.846 62.8538 Q639.249 58.1548 639.249 49.9314 M613.89 34.0924 Q616.239 30.0415 619.804 28.0971 Q623.41 26.1121 628.392 26.1121 Q636.656 26.1121 641.801 32.6746 Q646.986 39.2371 646.986 49.9314 Q646.986 60.6258 641.801 67.1883 Q636.656 73.7508 628.392 73.7508 Q623.41 73.7508 619.804 71.8063 Q616.239 69.8214 613.89 65.7705 L613.89 72.576 L606.396 72.576 L606.396 9.54393 L613.89 9.54393 L613.89 34.0924 Z\" fill=\"#000000\" fill-rule=\"evenodd\" fill-opacity=\"1\" /><path clip-path=\"url(#clip460)\" d=\"M659.341 9.54393 L666.795 9.54393 L666.795 72.576 L659.341 72.576 L659.341 9.54393 Z\" fill=\"#000000\" fill-rule=\"evenodd\" fill-opacity=\"1\" /><path clip-path=\"url(#clip460)\" d=\"M721.198 48.0275 L721.198 51.6733 L686.928 51.6733 Q687.414 59.3701 691.546 63.421 Q695.718 67.4314 703.131 67.4314 Q707.425 67.4314 711.436 66.3781 Q715.487 65.3249 719.456 63.2184 L719.456 70.267 Q715.446 71.9684 711.233 72.8596 Q707.02 73.7508 702.686 73.7508 Q691.829 73.7508 685.469 67.4314 Q679.15 61.1119 679.15 50.3365 Q679.15 39.1965 685.145 32.6746 Q691.181 26.1121 701.389 26.1121 Q710.544 26.1121 715.851 32.0264 Q721.198 37.9003 721.198 48.0275 M713.745 45.84 Q713.664 39.7232 710.301 36.0774 Q706.98 32.4315 701.47 32.4315 Q695.232 32.4315 691.465 35.9558 Q687.738 39.4801 687.171 45.8805 L713.745 45.84 Z\" fill=\"#000000\" fill-rule=\"evenodd\" fill-opacity=\"1\" /><path clip-path=\"url(#clip460)\" d=\"M760.128 12.096 L772.321 12.096 L787.755 53.2532 L803.27 12.096 L815.463 12.096 L815.463 72.576 L807.483 72.576 L807.483 19.4686 L791.887 60.9499 L783.663 60.9499 L768.067 19.4686 L768.067 72.576 L760.128 72.576 L760.128 12.096 Z\" fill=\"#000000\" fill-rule=\"evenodd\" fill-opacity=\"1\" /><path clip-path=\"url(#clip460)\" d=\"M848.964 32.4315 Q842.969 32.4315 839.485 37.1306 Q836.001 41.7891 836.001 49.9314 Q836.001 58.0738 839.444 62.7728 Q842.928 67.4314 848.964 67.4314 Q854.919 67.4314 858.402 62.7323 Q861.886 58.0333 861.886 49.9314 Q861.886 41.8701 858.402 37.1711 Q854.919 32.4315 848.964 32.4315 M848.964 26.1121 Q858.686 26.1121 864.236 32.4315 Q869.786 38.7509 869.786 49.9314 Q869.786 61.0714 864.236 67.4314 Q858.686 73.7508 848.964 73.7508 Q839.201 73.7508 833.651 67.4314 Q828.142 61.0714 828.142 49.9314 Q828.142 38.7509 833.651 32.4315 Q839.201 26.1121 848.964 26.1121 Z\" fill=\"#000000\" fill-rule=\"evenodd\" fill-opacity=\"1\" /><path clip-path=\"url(#clip460)\" d=\"M889.513 14.324 L889.513 27.2059 L904.866 27.2059 L904.866 32.9987 L889.513 32.9987 L889.513 57.6282 Q889.513 63.1779 891.012 64.7578 Q892.552 66.3376 897.21 66.3376 L904.866 66.3376 L904.866 72.576 L897.21 72.576 Q888.582 72.576 885.301 69.3758 Q882.019 66.1351 882.019 57.6282 L882.019 32.9987 L876.551 32.9987 L876.551 27.2059 L882.019 27.2059 L882.019 14.324 L889.513 14.324 Z\" fill=\"#000000\" fill-rule=\"evenodd\" fill-opacity=\"1\" /><path clip-path=\"url(#clip460)\" d=\"M914.67 27.2059 L922.123 27.2059 L922.123 72.576 L914.67 72.576 L914.67 27.2059 M914.67 9.54393 L922.123 9.54393 L922.123 18.9825 L914.67 18.9825 L914.67 9.54393 Z\" fill=\"#000000\" fill-rule=\"evenodd\" fill-opacity=\"1\" /><path clip-path=\"url(#clip460)\" d=\"M955.3 32.4315 Q949.305 32.4315 945.821 37.1306 Q942.337 41.7891 942.337 49.9314 Q942.337 58.0738 945.781 62.7728 Q949.264 67.4314 955.3 67.4314 Q961.255 67.4314 964.739 62.7323 Q968.223 58.0333 968.223 49.9314 Q968.223 41.8701 964.739 37.1711 Q961.255 32.4315 955.3 32.4315 M955.3 26.1121 Q965.022 26.1121 970.572 32.4315 Q976.122 38.7509 976.122 49.9314 Q976.122 61.0714 970.572 67.4314 Q965.022 73.7508 955.3 73.7508 Q945.537 73.7508 939.988 67.4314 Q934.478 61.0714 934.478 49.9314 Q934.478 38.7509 939.988 32.4315 Q945.537 26.1121 955.3 26.1121 Z\" fill=\"#000000\" fill-rule=\"evenodd\" fill-opacity=\"1\" /><path clip-path=\"url(#clip460)\" d=\"M1026.19 45.1919 L1026.19 72.576 L1018.74 72.576 L1018.74 45.4349 Q1018.74 38.994 1016.23 35.7938 Q1013.71 32.5936 1008.69 32.5936 Q1002.66 32.5936 999.171 36.4419 Q995.688 40.2903 995.688 46.9338 L995.688 72.576 L988.193 72.576 L988.193 27.2059 L995.688 27.2059 L995.688 34.2544 Q998.361 30.163 1001.97 28.1376 Q1005.61 26.1121 1010.35 26.1121 Q1018.17 26.1121 1022.18 30.9732 Q1026.19 35.7938 1026.19 45.1919 Z\" fill=\"#000000\" fill-rule=\"evenodd\" fill-opacity=\"1\" /><path clip-path=\"url(#clip460)\" d=\"M1063.09 27.2059 L1070.55 27.2059 L1079.87 62.6108 L1089.14 27.2059 L1097.93 27.2059 L1107.25 62.6108 L1116.53 27.2059 L1123.98 27.2059 L1112.11 72.576 L1103.32 72.576 L1093.56 35.3887 L1083.75 72.576 L1074.96 72.576 L1063.09 27.2059 Z\" fill=\"#000000\" fill-rule=\"evenodd\" fill-opacity=\"1\" /><path clip-path=\"url(#clip460)\" d=\"M1135.28 27.2059 L1142.74 27.2059 L1142.74 72.576 L1135.28 72.576 L1135.28 27.2059 M1135.28 9.54393 L1142.74 9.54393 L1142.74 18.9825 L1135.28 18.9825 L1135.28 9.54393 Z\" fill=\"#000000\" fill-rule=\"evenodd\" fill-opacity=\"1\" /><path clip-path=\"url(#clip460)\" d=\"M1165.7 14.324 L1165.7 27.2059 L1181.06 27.2059 L1181.06 32.9987 L1165.7 32.9987 L1165.7 57.6282 Q1165.7 63.1779 1167.2 64.7578 Q1168.74 66.3376 1173.4 66.3376 L1181.06 66.3376 L1181.06 72.576 L1173.4 72.576 Q1164.77 72.576 1161.49 69.3758 Q1158.21 66.1351 1158.21 57.6282 L1158.21 32.9987 L1152.74 32.9987 L1152.74 27.2059 L1158.21 27.2059 L1158.21 14.324 L1165.7 14.324 Z\" fill=\"#000000\" fill-rule=\"evenodd\" fill-opacity=\"1\" /><path clip-path=\"url(#clip460)\" d=\"M1228.57 45.1919 L1228.57 72.576 L1221.12 72.576 L1221.12 45.4349 Q1221.12 38.994 1218.61 35.7938 Q1216.1 32.5936 1211.07 32.5936 Q1205.04 32.5936 1201.55 36.4419 Q1198.07 40.2903 1198.07 46.9338 L1198.07 72.576 L1190.58 72.576 L1190.58 9.54393 L1198.07 9.54393 L1198.07 34.2544 Q1200.74 30.163 1204.35 28.1376 Q1208 26.1121 1212.74 26.1121 Q1220.55 26.1121 1224.56 30.9732 Q1228.57 35.7938 1228.57 45.1919 Z\" fill=\"#000000\" fill-rule=\"evenodd\" fill-opacity=\"1\" /><path clip-path=\"url(#clip460)\" d=\"M1270.14 12.096 L1278.32 12.096 L1278.32 72.576 L1270.14 72.576 L1270.14 12.096 Z\" fill=\"#000000\" fill-rule=\"evenodd\" fill-opacity=\"1\" /><path clip-path=\"url(#clip460)\" d=\"M1294.6 12.096 L1302.79 12.096 L1302.79 65.6895 L1332.24 65.6895 L1332.24 72.576 L1294.6 72.576 L1294.6 12.096 Z\" fill=\"#000000\" fill-rule=\"evenodd\" fill-opacity=\"1\" /><path clip-path=\"url(#clip460)\" d=\"M1365.37 17.6457 Q1356.46 17.6457 1351.19 24.2892 Q1345.97 30.9327 1345.97 42.3968 Q1345.97 53.8203 1351.19 60.4638 Q1356.46 67.1073 1365.37 67.1073 Q1374.29 67.1073 1379.47 60.4638 Q1384.7 53.8203 1384.7 42.3968 Q1384.7 30.9327 1379.47 24.2892 Q1374.29 17.6457 1365.37 17.6457 M1376.84 71.4823 L1387.61 83.2704 L1377.73 83.2704 L1368.78 73.5887 Q1367.44 73.6697 1366.71 73.7103 Q1366.02 73.7508 1365.37 73.7508 Q1352.61 73.7508 1344.96 65.2439 Q1337.34 56.6965 1337.34 42.3968 Q1337.34 28.0566 1344.96 19.5497 Q1352.61 11.0023 1365.37 11.0023 Q1378.09 11.0023 1385.71 19.5497 Q1393.32 28.0566 1393.32 42.3968 Q1393.32 52.9291 1389.07 60.4233 Q1384.86 67.9175 1376.84 71.4823 Z\" fill=\"#000000\" fill-rule=\"evenodd\" fill-opacity=\"1\" /><path clip-path=\"url(#clip460)\" d=\"M1434.81 44.2197 Q1437.44 45.1109 1439.91 48.0275 Q1442.42 50.9442 1444.93 56.0483 L1453.24 72.576 L1444.45 72.576 L1436.71 57.061 Q1433.71 50.9847 1430.88 48.9997 Q1428.08 47.0148 1423.22 47.0148 L1414.31 47.0148 L1414.31 72.576 L1406.13 72.576 L1406.13 12.096 L1424.6 12.096 Q1434.97 12.096 1440.07 16.4305 Q1445.18 20.7649 1445.18 29.5149 Q1445.18 35.2267 1442.5 38.994 Q1439.87 42.7613 1434.81 44.2197 M1414.31 18.8205 L1414.31 40.2903 L1424.6 40.2903 Q1430.51 40.2903 1433.51 37.5762 Q1436.55 34.8216 1436.55 29.5149 Q1436.55 24.2082 1433.51 21.5346 Q1430.51 18.8205 1424.6 18.8205 L1414.31 18.8205 Z\" fill=\"#000000\" fill-rule=\"evenodd\" fill-opacity=\"1\" /><path clip-path=\"url(#clip460)\" d=\"M1462.8 62.2867 L1471.34 62.2867 L1471.34 72.576 L1462.8 72.576 L1462.8 62.2867 M1462.8 29.6769 L1471.34 29.6769 L1471.34 39.9662 L1462.8 39.9662 L1462.8 29.6769 Z\" fill=\"#000000\" fill-rule=\"evenodd\" fill-opacity=\"1\" /><path clip-path=\"url(#clip460)\" d=\"M1515.54 12.096 L1527.73 12.096 L1543.17 53.2532 L1558.68 12.096 L1570.88 12.096 L1570.88 72.576 L1562.9 72.576 L1562.9 19.4686 L1547.3 60.9499 L1539.08 60.9499 L1523.48 19.4686 L1523.48 72.576 L1515.54 72.576 L1515.54 12.096 Z\" fill=\"#000000\" fill-rule=\"evenodd\" fill-opacity=\"1\" /><path clip-path=\"url(#clip460)\" d=\"M1586.03 54.671 L1586.03 27.2059 L1593.48 27.2059 L1593.48 54.3874 Q1593.48 60.8284 1595.99 64.0691 Q1598.5 67.2693 1603.53 67.2693 Q1609.56 67.2693 1613.05 63.421 Q1616.57 59.5726 1616.57 52.9291 L1616.57 27.2059 L1624.02 27.2059 L1624.02 72.576 L1616.57 72.576 L1616.57 65.6084 Q1613.86 69.7404 1610.25 71.7658 Q1606.69 73.7508 1601.95 73.7508 Q1594.13 73.7508 1590.08 68.8897 Q1586.03 64.0286 1586.03 54.671 M1604.78 26.1121 L1604.78 26.1121 Z\" fill=\"#000000\" fill-rule=\"evenodd\" fill-opacity=\"1\" /><path clip-path=\"url(#clip460)\" d=\"M1639.38 9.54393 L1646.83 9.54393 L1646.83 72.576 L1639.38 72.576 L1639.38 9.54393 Z\" fill=\"#000000\" fill-rule=\"evenodd\" fill-opacity=\"1\" /><path clip-path=\"url(#clip460)\" d=\"M1669.8 14.324 L1669.8 27.2059 L1685.15 27.2059 L1685.15 32.9987 L1669.8 32.9987 L1669.8 57.6282 Q1669.8 63.1779 1671.3 64.7578 Q1672.84 66.3376 1677.5 66.3376 L1685.15 66.3376 L1685.15 72.576 L1677.5 72.576 Q1668.87 72.576 1665.59 69.3758 Q1662.3 66.1351 1662.3 57.6282 L1662.3 32.9987 L1656.84 32.9987 L1656.84 27.2059 L1662.3 27.2059 L1662.3 14.324 L1669.8 14.324 Z\" fill=\"#000000\" fill-rule=\"evenodd\" fill-opacity=\"1\" /><path clip-path=\"url(#clip460)\" d=\"M1694.95 27.2059 L1702.41 27.2059 L1702.41 72.576 L1694.95 72.576 L1694.95 27.2059 M1694.95 9.54393 L1702.41 9.54393 L1702.41 18.9825 L1694.95 18.9825 L1694.95 9.54393 Z\" fill=\"#000000\" fill-rule=\"evenodd\" fill-opacity=\"1\" /><path clip-path=\"url(#clip460)\" d=\"M1725.21 65.7705 L1725.21 89.8329 L1717.72 89.8329 L1717.72 27.2059 L1725.21 27.2059 L1725.21 34.0924 Q1727.56 30.0415 1731.13 28.0971 Q1734.73 26.1121 1739.72 26.1121 Q1747.98 26.1121 1753.13 32.6746 Q1758.31 39.2371 1758.31 49.9314 Q1758.31 60.6258 1753.13 67.1883 Q1747.98 73.7508 1739.72 73.7508 Q1734.73 73.7508 1731.13 71.8063 Q1727.56 69.8214 1725.21 65.7705 M1750.57 49.9314 Q1750.57 41.7081 1747.17 37.0496 Q1743.81 32.3505 1737.89 32.3505 Q1731.98 32.3505 1728.58 37.0496 Q1725.21 41.7081 1725.21 49.9314 Q1725.21 58.1548 1728.58 62.8538 Q1731.98 67.5124 1737.89 67.5124 Q1743.81 67.5124 1747.17 62.8538 Q1750.57 58.1548 1750.57 49.9314 Z\" fill=\"#000000\" fill-rule=\"evenodd\" fill-opacity=\"1\" /><path clip-path=\"url(#clip460)\" d=\"M1770.67 9.54393 L1778.12 9.54393 L1778.12 72.576 L1770.67 72.576 L1770.67 9.54393 Z\" fill=\"#000000\" fill-rule=\"evenodd\" fill-opacity=\"1\" /><path clip-path=\"url(#clip460)\" d=\"M1832.52 48.0275 L1832.52 51.6733 L1798.25 51.6733 Q1798.74 59.3701 1802.87 63.421 Q1807.04 67.4314 1814.46 67.4314 Q1818.75 67.4314 1822.76 66.3781 Q1826.81 65.3249 1830.78 63.2184 L1830.78 70.267 Q1826.77 71.9684 1822.56 72.8596 Q1818.35 73.7508 1814.01 73.7508 Q1803.15 73.7508 1796.79 67.4314 Q1790.48 61.1119 1790.48 50.3365 Q1790.48 39.1965 1796.47 32.6746 Q1802.51 26.1121 1812.71 26.1121 Q1821.87 26.1121 1827.18 32.0264 Q1832.52 37.9003 1832.52 48.0275 M1825.07 45.84 Q1824.99 39.7232 1821.63 36.0774 Q1818.3 32.4315 1812.8 32.4315 Q1806.56 32.4315 1802.79 35.9558 Q1799.06 39.4801 1798.5 45.8805 L1825.07 45.84 Z\" fill=\"#000000\" fill-rule=\"evenodd\" fill-opacity=\"1\" /><path clip-path=\"url(#clip460)\" d=\"M1912.69 63.9476 L1912.69 47.7034 L1899.32 47.7034 L1899.32 40.9789 L1920.79 40.9789 L1920.79 66.9452 Q1916.05 70.3075 1910.34 72.0494 Q1904.63 73.7508 1898.15 73.7508 Q1883.97 73.7508 1875.95 65.4869 Q1867.97 57.1826 1867.97 42.3968 Q1867.97 27.5705 1875.95 19.3066 Q1883.97 11.0023 1898.15 11.0023 Q1904.06 11.0023 1909.37 12.4606 Q1914.72 13.9189 1919.21 16.7545 L1919.21 25.464 Q1914.68 21.6156 1909.57 19.6712 Q1904.47 17.7268 1898.84 17.7268 Q1887.74 17.7268 1882.15 23.9246 Q1876.6 30.1225 1876.6 42.3968 Q1876.6 54.6305 1882.15 60.8284 Q1887.74 67.0263 1898.84 67.0263 Q1903.17 67.0263 1906.57 66.2971 Q1909.98 65.5274 1912.69 63.9476 Z\" fill=\"#000000\" fill-rule=\"evenodd\" fill-opacity=\"1\" /><path clip-path=\"url(#clip460)\" d=\"M1953 32.4315 Q1947 32.4315 1943.52 37.1306 Q1940.03 41.7891 1940.03 49.9314 Q1940.03 58.0738 1943.48 62.7728 Q1946.96 67.4314 1953 67.4314 Q1958.95 67.4314 1962.44 62.7323 Q1965.92 58.0333 1965.92 49.9314 Q1965.92 41.8701 1962.44 37.1711 Q1958.95 32.4315 1953 32.4315 M1953 26.1121 Q1962.72 26.1121 1968.27 32.4315 Q1973.82 38.7509 1973.82 49.9314 Q1973.82 61.0714 1968.27 67.4314 Q1962.72 73.7508 1953 73.7508 Q1943.23 73.7508 1937.68 67.4314 Q1932.18 61.0714 1932.18 49.9314 Q1932.18 38.7509 1937.68 32.4315 Q1943.23 26.1121 1953 26.1121 Z\" fill=\"#000000\" fill-rule=\"evenodd\" fill-opacity=\"1\" /><path clip-path=\"url(#clip460)\" d=\"M2006.79 49.7694 Q1997.76 49.7694 1994.28 51.8354 Q1990.79 53.9013 1990.79 58.8839 Q1990.79 62.8538 1993.38 65.2034 Q1996.02 67.5124 2000.51 67.5124 Q2006.71 67.5124 2010.44 63.1374 Q2014.21 58.7219 2014.21 51.4303 L2014.21 49.7694 L2006.79 49.7694 M2021.66 46.6907 L2021.66 72.576 L2014.21 72.576 L2014.21 65.6895 Q2011.65 69.8214 2007.85 71.8063 Q2004.04 73.7508 1998.53 73.7508 Q1991.56 73.7508 1987.43 69.8619 Q1983.34 65.9325 1983.34 59.3701 Q1983.34 51.7138 1988.44 47.825 Q1993.59 43.9361 2003.76 43.9361 L2014.21 43.9361 L2014.21 43.2069 Q2014.21 38.0623 2010.8 35.2672 Q2007.44 32.4315 2001.32 32.4315 Q1997.44 32.4315 1993.75 33.3632 Q1990.06 34.295 1986.66 36.1584 L1986.66 29.2718 Q1990.75 27.692 1994.6 26.9223 Q1998.45 26.1121 2002.09 26.1121 Q2011.94 26.1121 2016.8 31.2163 Q2021.66 36.3204 2021.66 46.6907 Z\" fill=\"#000000\" fill-rule=\"evenodd\" fill-opacity=\"1\" /><path clip-path=\"url(#clip460)\" d=\"M2037.01 9.54393 L2044.47 9.54393 L2044.47 72.576 L2037.01 72.576 L2037.01 9.54393 Z\" fill=\"#000000\" fill-rule=\"evenodd\" fill-opacity=\"1\" /><path clip-path=\"url(#clip460)\" d=\"M2088.99 28.5427 L2088.99 35.5912 Q2085.83 33.9709 2082.42 33.1607 Q2079.02 32.3505 2075.38 32.3505 Q2069.83 32.3505 2067.03 34.0519 Q2064.28 35.7533 2064.28 39.156 Q2064.28 41.7486 2066.26 43.2475 Q2068.25 44.7058 2074.24 46.0426 L2076.79 46.6097 Q2084.73 48.3111 2088.05 51.4303 Q2091.42 54.509 2091.42 60.0587 Q2091.42 66.3781 2086.39 70.0644 Q2081.41 73.7508 2072.66 73.7508 Q2069.02 73.7508 2065.05 73.0216 Q2061.12 72.3329 2056.74 70.9151 L2056.74 63.2184 Q2060.87 65.3654 2064.88 66.4591 Q2068.89 67.5124 2072.82 67.5124 Q2078.09 67.5124 2080.92 65.73 Q2083.76 63.9071 2083.76 60.6258 Q2083.76 57.5877 2081.69 55.9673 Q2079.67 54.3469 2072.74 52.8481 L2070.15 52.2405 Q2063.22 50.7821 2060.14 47.7845 Q2057.07 44.7463 2057.07 39.4801 Q2057.07 33.0797 2061.6 29.5959 Q2066.14 26.1121 2074.48 26.1121 Q2078.62 26.1121 2082.26 26.7198 Q2085.91 27.3274 2088.99 28.5427 Z\" fill=\"#000000\" fill-rule=\"evenodd\" fill-opacity=\"1\" /><circle clip-path=\"url(#clip462)\" cx=\"1263.45\" cy=\"1386.4\" r=\"14\" fill=\"#009af9\" fill-rule=\"evenodd\" fill-opacity=\"1\" stroke=\"#000000\" stroke-opacity=\"1\" stroke-width=\"3.2\"/>\n",
       "<circle clip-path=\"url(#clip462)\" cx=\"1263.45\" cy=\"163.493\" r=\"14\" fill=\"#e26f46\" fill-rule=\"evenodd\" fill-opacity=\"1\" stroke=\"#000000\" stroke-opacity=\"1\" stroke-width=\"3.2\"/>\n",
       "<circle clip-path=\"url(#clip462)\" cx=\"749.63\" cy=\"978.762\" r=\"14\" fill=\"#3da44d\" fill-rule=\"evenodd\" fill-opacity=\"1\" stroke=\"#000000\" stroke-opacity=\"1\" stroke-width=\"3.2\"/>\n",
       "<circle clip-path=\"url(#clip462)\" cx=\"1777.27\" cy=\"571.127\" r=\"14\" fill=\"#c271d2\" fill-rule=\"evenodd\" fill-opacity=\"1\" stroke=\"#000000\" stroke-opacity=\"1\" stroke-width=\"3.2\"/>\n",
       "<circle clip-path=\"url(#clip462)\" cx=\"2291.1\" cy=\"163.493\" r=\"14\" fill=\"#ac8d18\" fill-rule=\"evenodd\" fill-opacity=\"1\" stroke=\"#000000\" stroke-opacity=\"1\" stroke-width=\"3.2\"/>\n",
       "<circle clip-path=\"url(#clip462)\" cx=\"235.808\" cy=\"163.493\" r=\"14\" fill=\"#00a9ad\" fill-rule=\"evenodd\" fill-opacity=\"1\" stroke=\"#000000\" stroke-opacity=\"1\" stroke-width=\"3.2\"/>\n",
       "<polyline clip-path=\"url(#clip462)\" style=\"stroke:#ed5d92; stroke-linecap:butt; stroke-linejoin:round; stroke-width:4; stroke-opacity:1; fill:none\" points=\"\n",
       "  1263.45,1386.4 1269.09,1354.6 1274.08,1323.08 1278.42,1291.86 1282.11,1260.95 1285.15,1230.37 1287.53,1200.14 1289.25,1170.29 1290.32,1140.82 1290.72,1111.77 \n",
       "  1290.47,1083.14 1289.55,1054.95 1287.98,1027.23 1285.75,999.982 1282.87,973.234 1279.33,946.999 1275.14,921.293 1270.29,896.132 1264.81,871.533 1258.68,847.511 \n",
       "  1251.9,824.079 1244.5,801.255 1236.46,779.05 1227.8,757.48 1219.76,736.068 1212.34,714.825 1205.55,693.763 1199.4,672.895 1193.9,652.231 1189.06,631.784 \n",
       "  1184.88,611.565 1181.36,591.587 1178.51,571.859 1176.33,552.395 1174.83,533.206 1174.01,514.302 1173.87,495.695 1174.41,477.396 1175.64,459.416 1177.55,441.766 \n",
       "  1180.15,424.456 1183.43,407.497 1187.39,390.899 1192.03,374.672 1197.35,358.826 1202.44,343.481 1207.32,328.616 1212.01,314.211 1216.52,300.243 1220.88,286.693 \n",
       "  1225.1,273.541 1229.2,260.767 1233.19,248.355 1237.09,236.287 1240.91,224.547 1244.66,213.121 1248.36,201.995 1252.02,191.157 1255.66,180.594 1259.27,170.297 \n",
       "  1262.87,160.256 \n",
       "  \"/>\n",
       "<path clip-path=\"url(#clip460)\" d=\"\n",
       "M246.769 581.516 L985.153 581.516 L985.153 166.796 L246.769 166.796  Z\n",
       "  \" fill=\"#ffffff\" fill-rule=\"evenodd\" fill-opacity=\"1\"/>\n",
       "<polyline clip-path=\"url(#clip460)\" style=\"stroke:#000000; stroke-linecap:butt; stroke-linejoin:round; stroke-width:4; stroke-opacity:1; fill:none\" points=\"\n",
       "  246.769,581.516 985.153,581.516 985.153,166.796 246.769,166.796 246.769,581.516 \n",
       "  \"/>\n",
       "<circle clip-path=\"url(#clip460)\" cx=\"343.596\" cy=\"218.636\" r=\"23\" fill=\"#009af9\" fill-rule=\"evenodd\" fill-opacity=\"1\" stroke=\"#000000\" stroke-opacity=\"1\" stroke-width=\"5.12\"/>\n",
       "<path clip-path=\"url(#clip460)\" d=\"M458.849 210.754 L458.849 214.782 Q457.043 213.856 455.099 213.393 Q453.155 212.93 451.071 212.93 Q447.9 212.93 446.303 213.902 Q444.729 214.874 444.729 216.819 Q444.729 218.3 445.863 219.157 Q446.997 219.99 450.423 220.754 L451.881 221.078 Q456.418 222.05 458.317 223.832 Q460.238 225.592 460.238 228.763 Q460.238 232.374 457.367 234.481 Q454.52 236.587 449.52 236.587 Q447.437 236.587 445.168 236.17 Q442.923 235.777 440.423 234.967 L440.423 230.569 Q442.784 231.795 445.076 232.42 Q447.368 233.022 449.613 233.022 Q452.622 233.022 454.242 232.004 Q455.863 230.962 455.863 229.087 Q455.863 227.351 454.682 226.425 Q453.525 225.499 449.567 224.643 L448.085 224.295 Q444.127 223.462 442.368 221.749 Q440.608 220.013 440.608 217.004 Q440.608 213.346 443.201 211.356 Q445.793 209.365 450.562 209.365 Q452.923 209.365 455.006 209.712 Q457.09 210.059 458.849 210.754 Z\" fill=\"#000000\" fill-rule=\"evenodd\" fill-opacity=\"1\" /><path clip-path=\"url(#clip460)\" d=\"M471.233 202.629 L471.233 209.99 L480.006 209.99 L480.006 213.3 L471.233 213.3 L471.233 227.374 Q471.233 230.545 472.09 231.448 Q472.969 232.351 475.631 232.351 L480.006 232.351 L480.006 235.916 L475.631 235.916 Q470.701 235.916 468.826 234.087 Q466.951 232.235 466.951 227.374 L466.951 213.3 L463.826 213.3 L463.826 209.99 L466.951 209.99 L466.951 202.629 L471.233 202.629 Z\" fill=\"#000000\" fill-rule=\"evenodd\" fill-opacity=\"1\" /><path clip-path=\"url(#clip460)\" d=\"M497.39 222.883 Q492.228 222.883 490.238 224.064 Q488.247 225.244 488.247 228.092 Q488.247 230.36 489.728 231.703 Q491.233 233.022 493.802 233.022 Q497.344 233.022 499.474 230.522 Q501.626 227.999 501.626 223.832 L501.626 222.883 L497.39 222.883 M505.886 221.124 L505.886 235.916 L501.626 235.916 L501.626 231.981 Q500.168 234.342 497.992 235.476 Q495.816 236.587 492.668 236.587 Q488.687 236.587 486.326 234.365 Q483.988 232.119 483.988 228.369 Q483.988 223.994 486.904 221.772 Q489.844 219.55 495.654 219.55 L501.626 219.55 L501.626 219.133 Q501.626 216.194 499.682 214.596 Q497.761 212.976 494.265 212.976 Q492.043 212.976 489.937 213.508 Q487.83 214.041 485.886 215.106 L485.886 211.17 Q488.224 210.268 490.423 209.828 Q492.622 209.365 494.705 209.365 Q500.33 209.365 503.108 212.282 Q505.886 215.198 505.886 221.124 Z\" fill=\"#000000\" fill-rule=\"evenodd\" fill-opacity=\"1\" /><path clip-path=\"url(#clip460)\" d=\"M529.682 213.971 Q528.964 213.555 528.108 213.37 Q527.274 213.161 526.256 213.161 Q522.645 213.161 520.7 215.522 Q518.779 217.86 518.779 222.258 L518.779 235.916 L514.497 235.916 L514.497 209.99 L518.779 209.99 L518.779 214.018 Q520.122 211.657 522.275 210.522 Q524.427 209.365 527.506 209.365 Q527.946 209.365 528.478 209.434 Q529.011 209.481 529.659 209.596 L529.682 213.971 Z\" fill=\"#000000\" fill-rule=\"evenodd\" fill-opacity=\"1\" /><path clip-path=\"url(#clip460)\" d=\"M538.362 202.629 L538.362 209.99 L547.135 209.99 L547.135 213.3 L538.362 213.3 L538.362 227.374 Q538.362 230.545 539.219 231.448 Q540.098 232.351 542.761 232.351 L547.135 232.351 L547.135 235.916 L542.761 235.916 Q537.83 235.916 535.955 234.087 Q534.08 232.235 534.08 227.374 L534.08 213.3 L530.955 213.3 L530.955 209.99 L534.08 209.99 L534.08 202.629 L538.362 202.629 Z\" fill=\"#000000\" fill-rule=\"evenodd\" fill-opacity=\"1\" /><circle clip-path=\"url(#clip460)\" cx=\"343.596\" cy=\"270.476\" r=\"23\" fill=\"#e26f46\" fill-rule=\"evenodd\" fill-opacity=\"1\" stroke=\"#000000\" stroke-opacity=\"1\" stroke-width=\"5.12\"/>\n",
       "<path clip-path=\"url(#clip460)\" d=\"M465.979 282.825 L465.979 273.543 L458.34 273.543 L458.34 269.7 L470.608 269.7 L470.608 284.538 Q467.9 286.459 464.636 287.455 Q461.372 288.427 457.668 288.427 Q449.567 288.427 444.983 283.705 Q440.423 278.959 440.423 270.51 Q440.423 262.038 444.983 257.316 Q449.567 252.571 457.668 252.571 Q461.048 252.571 464.08 253.404 Q467.136 254.237 469.705 255.858 L469.705 260.835 Q467.113 258.636 464.196 257.524 Q461.279 256.413 458.062 256.413 Q451.719 256.413 448.525 259.955 Q445.354 263.497 445.354 270.51 Q445.354 277.501 448.525 281.043 Q451.719 284.584 458.062 284.584 Q460.539 284.584 462.483 284.168 Q464.428 283.728 465.979 282.825 Z\" fill=\"#000000\" fill-rule=\"evenodd\" fill-opacity=\"1\" /><path clip-path=\"url(#clip460)\" d=\"M489.011 264.816 Q485.585 264.816 483.594 267.501 Q481.603 270.163 481.603 274.816 Q481.603 279.469 483.571 282.154 Q485.562 284.816 489.011 284.816 Q492.414 284.816 494.404 282.131 Q496.395 279.446 496.395 274.816 Q496.395 270.21 494.404 267.524 Q492.414 264.816 489.011 264.816 M489.011 261.205 Q494.566 261.205 497.738 264.816 Q500.909 268.427 500.909 274.816 Q500.909 281.182 497.738 284.816 Q494.566 288.427 489.011 288.427 Q483.432 288.427 480.261 284.816 Q477.113 281.182 477.113 274.816 Q477.113 268.427 480.261 264.816 Q483.432 261.205 489.011 261.205 Z\" fill=\"#000000\" fill-rule=\"evenodd\" fill-opacity=\"1\" /><path clip-path=\"url(#clip460)\" d=\"M519.751 274.723 Q514.589 274.723 512.599 275.904 Q510.608 277.084 510.608 279.932 Q510.608 282.2 512.089 283.543 Q513.594 284.862 516.163 284.862 Q519.705 284.862 521.835 282.362 Q523.987 279.839 523.987 275.672 L523.987 274.723 L519.751 274.723 M528.247 272.964 L528.247 287.756 L523.987 287.756 L523.987 283.821 Q522.529 286.182 520.353 287.316 Q518.177 288.427 515.029 288.427 Q511.048 288.427 508.687 286.205 Q506.349 283.959 506.349 280.209 Q506.349 275.834 509.265 273.612 Q512.205 271.39 518.015 271.39 L523.987 271.39 L523.987 270.973 Q523.987 268.034 522.043 266.436 Q520.122 264.816 516.626 264.816 Q514.404 264.816 512.298 265.348 Q510.191 265.881 508.247 266.946 L508.247 263.01 Q510.585 262.108 512.784 261.668 Q514.983 261.205 517.066 261.205 Q522.691 261.205 525.469 264.122 Q528.247 267.038 528.247 272.964 Z\" fill=\"#000000\" fill-rule=\"evenodd\" fill-opacity=\"1\" /><path clip-path=\"url(#clip460)\" d=\"M537.02 251.737 L541.279 251.737 L541.279 287.756 L537.02 287.756 L537.02 251.737 Z\" fill=\"#000000\" fill-rule=\"evenodd\" fill-opacity=\"1\" /><path clip-path=\"url(#clip460)\" d=\"M566.672 283.821 L574.311 283.821 L574.311 257.455 L566.001 259.122 L566.001 254.862 L574.265 253.196 L578.941 253.196 L578.941 283.821 L586.58 283.821 L586.58 287.756 L566.672 287.756 L566.672 283.821 Z\" fill=\"#000000\" fill-rule=\"evenodd\" fill-opacity=\"1\" /><circle clip-path=\"url(#clip460)\" cx=\"343.596\" cy=\"322.316\" r=\"23\" fill=\"#3da44d\" fill-rule=\"evenodd\" fill-opacity=\"1\" stroke=\"#000000\" stroke-opacity=\"1\" stroke-width=\"5.12\"/>\n",
       "<path clip-path=\"url(#clip460)\" d=\"M465.979 334.665 L465.979 325.383 L458.34 325.383 L458.34 321.54 L470.608 321.54 L470.608 336.378 Q467.9 338.299 464.636 339.295 Q461.372 340.267 457.668 340.267 Q449.567 340.267 444.983 335.545 Q440.423 330.799 440.423 322.35 Q440.423 313.878 444.983 309.156 Q449.567 304.411 457.668 304.411 Q461.048 304.411 464.08 305.244 Q467.136 306.077 469.705 307.698 L469.705 312.675 Q467.113 310.476 464.196 309.364 Q461.279 308.253 458.062 308.253 Q451.719 308.253 448.525 311.795 Q445.354 315.337 445.354 322.35 Q445.354 329.341 448.525 332.883 Q451.719 336.424 458.062 336.424 Q460.539 336.424 462.483 336.008 Q464.428 335.568 465.979 334.665 Z\" fill=\"#000000\" fill-rule=\"evenodd\" fill-opacity=\"1\" /><path clip-path=\"url(#clip460)\" d=\"M489.011 316.656 Q485.585 316.656 483.594 319.341 Q481.603 322.003 481.603 326.656 Q481.603 331.309 483.571 333.994 Q485.562 336.656 489.011 336.656 Q492.414 336.656 494.404 333.971 Q496.395 331.286 496.395 326.656 Q496.395 322.05 494.404 319.364 Q492.414 316.656 489.011 316.656 M489.011 313.045 Q494.566 313.045 497.738 316.656 Q500.909 320.267 500.909 326.656 Q500.909 333.022 497.738 336.656 Q494.566 340.267 489.011 340.267 Q483.432 340.267 480.261 336.656 Q477.113 333.022 477.113 326.656 Q477.113 320.267 480.261 316.656 Q483.432 313.045 489.011 313.045 Z\" fill=\"#000000\" fill-rule=\"evenodd\" fill-opacity=\"1\" /><path clip-path=\"url(#clip460)\" d=\"M519.751 326.563 Q514.589 326.563 512.599 327.744 Q510.608 328.924 510.608 331.772 Q510.608 334.04 512.089 335.383 Q513.594 336.702 516.163 336.702 Q519.705 336.702 521.835 334.202 Q523.987 331.679 523.987 327.512 L523.987 326.563 L519.751 326.563 M528.247 324.804 L528.247 339.596 L523.987 339.596 L523.987 335.661 Q522.529 338.022 520.353 339.156 Q518.177 340.267 515.029 340.267 Q511.048 340.267 508.687 338.045 Q506.349 335.799 506.349 332.049 Q506.349 327.674 509.265 325.452 Q512.205 323.23 518.015 323.23 L523.987 323.23 L523.987 322.813 Q523.987 319.874 522.043 318.276 Q520.122 316.656 516.626 316.656 Q514.404 316.656 512.298 317.188 Q510.191 317.721 508.247 318.786 L508.247 314.85 Q510.585 313.948 512.784 313.508 Q514.983 313.045 517.066 313.045 Q522.691 313.045 525.469 315.962 Q528.247 318.878 528.247 324.804 Z\" fill=\"#000000\" fill-rule=\"evenodd\" fill-opacity=\"1\" /><path clip-path=\"url(#clip460)\" d=\"M537.02 303.577 L541.279 303.577 L541.279 339.596 L537.02 339.596 L537.02 303.577 Z\" fill=\"#000000\" fill-rule=\"evenodd\" fill-opacity=\"1\" /><path clip-path=\"url(#clip460)\" d=\"M569.89 335.661 L586.209 335.661 L586.209 339.596 L564.265 339.596 L564.265 335.661 Q566.927 332.906 571.51 328.276 Q576.117 323.624 577.297 322.281 Q579.543 319.758 580.422 318.022 Q581.325 316.263 581.325 314.573 Q581.325 311.818 579.381 310.082 Q577.459 308.346 574.358 308.346 Q572.159 308.346 569.705 309.11 Q567.274 309.874 564.497 311.425 L564.497 306.702 Q567.321 305.568 569.774 304.989 Q572.228 304.411 574.265 304.411 Q579.635 304.411 582.83 307.096 Q586.024 309.781 586.024 314.272 Q586.024 316.401 585.214 318.323 Q584.427 320.221 582.32 322.813 Q581.742 323.485 578.64 326.702 Q575.538 329.897 569.89 335.661 Z\" fill=\"#000000\" fill-rule=\"evenodd\" fill-opacity=\"1\" /><circle clip-path=\"url(#clip460)\" cx=\"343.596\" cy=\"374.156\" r=\"23\" fill=\"#c271d2\" fill-rule=\"evenodd\" fill-opacity=\"1\" stroke=\"#000000\" stroke-opacity=\"1\" stroke-width=\"5.12\"/>\n",
       "<path clip-path=\"url(#clip460)\" d=\"M465.979 386.505 L465.979 377.223 L458.34 377.223 L458.34 373.38 L470.608 373.38 L470.608 388.218 Q467.9 390.139 464.636 391.135 Q461.372 392.107 457.668 392.107 Q449.567 392.107 444.983 387.385 Q440.423 382.639 440.423 374.19 Q440.423 365.718 444.983 360.996 Q449.567 356.251 457.668 356.251 Q461.048 356.251 464.08 357.084 Q467.136 357.917 469.705 359.538 L469.705 364.515 Q467.113 362.316 464.196 361.204 Q461.279 360.093 458.062 360.093 Q451.719 360.093 448.525 363.635 Q445.354 367.177 445.354 374.19 Q445.354 381.181 448.525 384.723 Q451.719 388.264 458.062 388.264 Q460.539 388.264 462.483 387.848 Q464.428 387.408 465.979 386.505 Z\" fill=\"#000000\" fill-rule=\"evenodd\" fill-opacity=\"1\" /><path clip-path=\"url(#clip460)\" d=\"M489.011 368.496 Q485.585 368.496 483.594 371.181 Q481.603 373.843 481.603 378.496 Q481.603 383.149 483.571 385.834 Q485.562 388.496 489.011 388.496 Q492.414 388.496 494.404 385.811 Q496.395 383.126 496.395 378.496 Q496.395 373.89 494.404 371.204 Q492.414 368.496 489.011 368.496 M489.011 364.885 Q494.566 364.885 497.738 368.496 Q500.909 372.107 500.909 378.496 Q500.909 384.862 497.738 388.496 Q494.566 392.107 489.011 392.107 Q483.432 392.107 480.261 388.496 Q477.113 384.862 477.113 378.496 Q477.113 372.107 480.261 368.496 Q483.432 364.885 489.011 364.885 Z\" fill=\"#000000\" fill-rule=\"evenodd\" fill-opacity=\"1\" /><path clip-path=\"url(#clip460)\" d=\"M519.751 378.403 Q514.589 378.403 512.599 379.584 Q510.608 380.764 510.608 383.612 Q510.608 385.88 512.089 387.223 Q513.594 388.542 516.163 388.542 Q519.705 388.542 521.835 386.042 Q523.987 383.519 523.987 379.352 L523.987 378.403 L519.751 378.403 M528.247 376.644 L528.247 391.436 L523.987 391.436 L523.987 387.501 Q522.529 389.862 520.353 390.996 Q518.177 392.107 515.029 392.107 Q511.048 392.107 508.687 389.885 Q506.349 387.639 506.349 383.889 Q506.349 379.514 509.265 377.292 Q512.205 375.07 518.015 375.07 L523.987 375.07 L523.987 374.653 Q523.987 371.714 522.043 370.116 Q520.122 368.496 516.626 368.496 Q514.404 368.496 512.298 369.028 Q510.191 369.561 508.247 370.626 L508.247 366.69 Q510.585 365.788 512.784 365.348 Q514.983 364.885 517.066 364.885 Q522.691 364.885 525.469 367.802 Q528.247 370.718 528.247 376.644 Z\" fill=\"#000000\" fill-rule=\"evenodd\" fill-opacity=\"1\" /><path clip-path=\"url(#clip460)\" d=\"M537.02 355.417 L541.279 355.417 L541.279 391.436 L537.02 391.436 L537.02 355.417 Z\" fill=\"#000000\" fill-rule=\"evenodd\" fill-opacity=\"1\" /><path clip-path=\"url(#clip460)\" d=\"M580.029 372.802 Q583.385 373.519 585.26 375.788 Q587.158 378.056 587.158 381.389 Q587.158 386.505 583.64 389.306 Q580.121 392.107 573.64 392.107 Q571.464 392.107 569.149 391.667 Q566.858 391.251 564.404 390.394 L564.404 385.88 Q566.348 387.014 568.663 387.593 Q570.978 388.172 573.501 388.172 Q577.899 388.172 580.191 386.436 Q582.506 384.7 582.506 381.389 Q582.506 378.334 580.353 376.621 Q578.223 374.885 574.404 374.885 L570.376 374.885 L570.376 371.042 L574.589 371.042 Q578.038 371.042 579.867 369.677 Q581.695 368.288 581.695 365.695 Q581.695 363.033 579.797 361.621 Q577.922 360.186 574.404 360.186 Q572.483 360.186 570.284 360.603 Q568.084 361.019 565.446 361.899 L565.446 357.732 Q568.108 356.991 570.422 356.621 Q572.76 356.251 574.821 356.251 Q580.145 356.251 583.246 358.681 Q586.348 361.089 586.348 365.209 Q586.348 368.079 584.705 370.07 Q583.061 372.038 580.029 372.802 Z\" fill=\"#000000\" fill-rule=\"evenodd\" fill-opacity=\"1\" /><circle clip-path=\"url(#clip460)\" cx=\"343.596\" cy=\"425.996\" r=\"23\" fill=\"#ac8d18\" fill-rule=\"evenodd\" fill-opacity=\"1\" stroke=\"#000000\" stroke-opacity=\"1\" stroke-width=\"5.12\"/>\n",
       "<path clip-path=\"url(#clip460)\" d=\"M465.979 438.345 L465.979 429.063 L458.34 429.063 L458.34 425.22 L470.608 425.22 L470.608 440.058 Q467.9 441.979 464.636 442.975 Q461.372 443.947 457.668 443.947 Q449.567 443.947 444.983 439.225 Q440.423 434.479 440.423 426.03 Q440.423 417.558 444.983 412.836 Q449.567 408.091 457.668 408.091 Q461.048 408.091 464.08 408.924 Q467.136 409.757 469.705 411.378 L469.705 416.355 Q467.113 414.156 464.196 413.044 Q461.279 411.933 458.062 411.933 Q451.719 411.933 448.525 415.475 Q445.354 419.017 445.354 426.03 Q445.354 433.021 448.525 436.563 Q451.719 440.104 458.062 440.104 Q460.539 440.104 462.483 439.688 Q464.428 439.248 465.979 438.345 Z\" fill=\"#000000\" fill-rule=\"evenodd\" fill-opacity=\"1\" /><path clip-path=\"url(#clip460)\" d=\"M489.011 420.336 Q485.585 420.336 483.594 423.021 Q481.603 425.683 481.603 430.336 Q481.603 434.989 483.571 437.674 Q485.562 440.336 489.011 440.336 Q492.414 440.336 494.404 437.651 Q496.395 434.966 496.395 430.336 Q496.395 425.73 494.404 423.044 Q492.414 420.336 489.011 420.336 M489.011 416.725 Q494.566 416.725 497.738 420.336 Q500.909 423.947 500.909 430.336 Q500.909 436.702 497.738 440.336 Q494.566 443.947 489.011 443.947 Q483.432 443.947 480.261 440.336 Q477.113 436.702 477.113 430.336 Q477.113 423.947 480.261 420.336 Q483.432 416.725 489.011 416.725 Z\" fill=\"#000000\" fill-rule=\"evenodd\" fill-opacity=\"1\" /><path clip-path=\"url(#clip460)\" d=\"M519.751 430.243 Q514.589 430.243 512.599 431.424 Q510.608 432.604 510.608 435.452 Q510.608 437.72 512.089 439.063 Q513.594 440.382 516.163 440.382 Q519.705 440.382 521.835 437.882 Q523.987 435.359 523.987 431.192 L523.987 430.243 L519.751 430.243 M528.247 428.484 L528.247 443.276 L523.987 443.276 L523.987 439.341 Q522.529 441.702 520.353 442.836 Q518.177 443.947 515.029 443.947 Q511.048 443.947 508.687 441.725 Q506.349 439.479 506.349 435.729 Q506.349 431.354 509.265 429.132 Q512.205 426.91 518.015 426.91 L523.987 426.91 L523.987 426.493 Q523.987 423.554 522.043 421.956 Q520.122 420.336 516.626 420.336 Q514.404 420.336 512.298 420.868 Q510.191 421.401 508.247 422.466 L508.247 418.53 Q510.585 417.628 512.784 417.188 Q514.983 416.725 517.066 416.725 Q522.691 416.725 525.469 419.642 Q528.247 422.558 528.247 428.484 Z\" fill=\"#000000\" fill-rule=\"evenodd\" fill-opacity=\"1\" /><path clip-path=\"url(#clip460)\" d=\"M537.02 407.257 L541.279 407.257 L541.279 443.276 L537.02 443.276 L537.02 407.257 Z\" fill=\"#000000\" fill-rule=\"evenodd\" fill-opacity=\"1\" /><path clip-path=\"url(#clip460)\" d=\"M578.709 412.79 L566.904 431.239 L578.709 431.239 L578.709 412.79 M577.483 408.716 L583.362 408.716 L583.362 431.239 L588.293 431.239 L588.293 435.128 L583.362 435.128 L583.362 443.276 L578.709 443.276 L578.709 435.128 L563.108 435.128 L563.108 430.614 L577.483 408.716 Z\" fill=\"#000000\" fill-rule=\"evenodd\" fill-opacity=\"1\" /><circle clip-path=\"url(#clip460)\" cx=\"343.596\" cy=\"477.836\" r=\"23\" fill=\"#00a9ad\" fill-rule=\"evenodd\" fill-opacity=\"1\" stroke=\"#000000\" stroke-opacity=\"1\" stroke-width=\"5.12\"/>\n",
       "<path clip-path=\"url(#clip460)\" d=\"M465.979 490.185 L465.979 480.903 L458.34 480.903 L458.34 477.06 L470.608 477.06 L470.608 491.898 Q467.9 493.819 464.636 494.815 Q461.372 495.787 457.668 495.787 Q449.567 495.787 444.983 491.065 Q440.423 486.319 440.423 477.87 Q440.423 469.398 444.983 464.676 Q449.567 459.931 457.668 459.931 Q461.048 459.931 464.08 460.764 Q467.136 461.597 469.705 463.218 L469.705 468.195 Q467.113 465.996 464.196 464.884 Q461.279 463.773 458.062 463.773 Q451.719 463.773 448.525 467.315 Q445.354 470.857 445.354 477.87 Q445.354 484.861 448.525 488.403 Q451.719 491.944 458.062 491.944 Q460.539 491.944 462.483 491.528 Q464.428 491.088 465.979 490.185 Z\" fill=\"#000000\" fill-rule=\"evenodd\" fill-opacity=\"1\" /><path clip-path=\"url(#clip460)\" d=\"M489.011 472.176 Q485.585 472.176 483.594 474.861 Q481.603 477.523 481.603 482.176 Q481.603 486.829 483.571 489.514 Q485.562 492.176 489.011 492.176 Q492.414 492.176 494.404 489.491 Q496.395 486.806 496.395 482.176 Q496.395 477.57 494.404 474.884 Q492.414 472.176 489.011 472.176 M489.011 468.565 Q494.566 468.565 497.738 472.176 Q500.909 475.787 500.909 482.176 Q500.909 488.542 497.738 492.176 Q494.566 495.787 489.011 495.787 Q483.432 495.787 480.261 492.176 Q477.113 488.542 477.113 482.176 Q477.113 475.787 480.261 472.176 Q483.432 468.565 489.011 468.565 Z\" fill=\"#000000\" fill-rule=\"evenodd\" fill-opacity=\"1\" /><path clip-path=\"url(#clip460)\" d=\"M519.751 482.083 Q514.589 482.083 512.599 483.264 Q510.608 484.444 510.608 487.292 Q510.608 489.56 512.089 490.903 Q513.594 492.222 516.163 492.222 Q519.705 492.222 521.835 489.722 Q523.987 487.199 523.987 483.032 L523.987 482.083 L519.751 482.083 M528.247 480.324 L528.247 495.116 L523.987 495.116 L523.987 491.181 Q522.529 493.542 520.353 494.676 Q518.177 495.787 515.029 495.787 Q511.048 495.787 508.687 493.565 Q506.349 491.319 506.349 487.569 Q506.349 483.194 509.265 480.972 Q512.205 478.75 518.015 478.75 L523.987 478.75 L523.987 478.333 Q523.987 475.394 522.043 473.796 Q520.122 472.176 516.626 472.176 Q514.404 472.176 512.298 472.708 Q510.191 473.241 508.247 474.306 L508.247 470.37 Q510.585 469.468 512.784 469.028 Q514.983 468.565 517.066 468.565 Q522.691 468.565 525.469 471.482 Q528.247 474.398 528.247 480.324 Z\" fill=\"#000000\" fill-rule=\"evenodd\" fill-opacity=\"1\" /><path clip-path=\"url(#clip460)\" d=\"M537.02 459.097 L541.279 459.097 L541.279 495.116 L537.02 495.116 L537.02 459.097 Z\" fill=\"#000000\" fill-rule=\"evenodd\" fill-opacity=\"1\" /><path clip-path=\"url(#clip460)\" d=\"M565.909 460.556 L584.265 460.556 L584.265 464.491 L570.191 464.491 L570.191 472.963 Q571.209 472.616 572.228 472.454 Q573.246 472.269 574.265 472.269 Q580.052 472.269 583.432 475.44 Q586.811 478.611 586.811 484.028 Q586.811 489.606 583.339 492.708 Q579.867 495.787 573.547 495.787 Q571.371 495.787 569.103 495.417 Q566.858 495.046 564.45 494.306 L564.45 489.606 Q566.534 490.741 568.756 491.296 Q570.978 491.852 573.455 491.852 Q577.459 491.852 579.797 489.745 Q582.135 487.639 582.135 484.028 Q582.135 480.417 579.797 478.31 Q577.459 476.204 573.455 476.204 Q571.58 476.204 569.705 476.62 Q567.853 477.037 565.909 477.917 L565.909 460.556 Z\" fill=\"#000000\" fill-rule=\"evenodd\" fill-opacity=\"1\" /><polyline clip-path=\"url(#clip460)\" style=\"stroke:#ed5d92; stroke-linecap:butt; stroke-linejoin:round; stroke-width:4; stroke-opacity:1; fill:none\" points=\"\n",
       "  270.976,529.676 416.216,529.676 \n",
       "  \"/>\n",
       "<path clip-path=\"url(#clip460)\" d=\"M440.423 510.937 L444.682 510.937 L444.682 546.956 L440.423 546.956 L440.423 510.937 Z\" fill=\"#000000\" fill-rule=\"evenodd\" fill-opacity=\"1\" /><path clip-path=\"url(#clip460)\" d=\"M475.77 532.928 L475.77 535.011 L456.187 535.011 Q456.465 539.409 458.826 541.724 Q461.21 544.016 465.446 544.016 Q467.9 544.016 470.191 543.414 Q472.506 542.812 474.775 541.609 L474.775 545.636 Q472.483 546.608 470.076 547.118 Q467.668 547.627 465.191 547.627 Q458.988 547.627 455.354 544.016 Q451.742 540.405 451.742 534.247 Q451.742 527.882 455.168 524.155 Q458.617 520.405 464.451 520.405 Q469.682 520.405 472.715 523.785 Q475.77 527.141 475.77 532.928 M471.511 531.678 Q471.465 528.183 469.543 526.099 Q467.645 524.016 464.497 524.016 Q460.932 524.016 458.779 526.03 Q456.65 528.044 456.326 531.701 L471.511 531.678 Z\" fill=\"#000000\" fill-rule=\"evenodd\" fill-opacity=\"1\" /><path clip-path=\"url(#clip460)\" d=\"M499.821 533.692 Q499.821 529.062 497.9 526.516 Q496.002 523.97 492.552 523.97 Q489.127 523.97 487.205 526.516 Q485.307 529.062 485.307 533.692 Q485.307 538.298 487.205 540.845 Q489.127 543.391 492.552 543.391 Q496.002 543.391 497.9 540.845 Q499.821 538.298 499.821 533.692 M504.08 543.738 Q504.08 550.358 501.14 553.576 Q498.201 556.817 492.136 556.817 Q489.89 556.817 487.9 556.47 Q485.909 556.145 484.034 555.451 L484.034 551.308 Q485.909 552.326 487.738 552.812 Q489.566 553.298 491.464 553.298 Q495.654 553.298 497.738 551.099 Q499.821 548.923 499.821 544.502 L499.821 542.396 Q498.501 544.687 496.441 545.821 Q494.381 546.956 491.511 546.956 Q486.742 546.956 483.826 543.321 Q480.909 539.687 480.909 533.692 Q480.909 527.673 483.826 524.039 Q486.742 520.405 491.511 520.405 Q494.381 520.405 496.441 521.539 Q498.501 522.673 499.821 524.965 L499.821 521.03 L504.08 521.03 L504.08 543.738 Z\" fill=\"#000000\" fill-rule=\"evenodd\" fill-opacity=\"1\" /><path clip-path=\"url(#clip460)\" d=\"M512.853 521.03 L517.113 521.03 L517.113 546.956 L512.853 546.956 L512.853 521.03 M512.853 510.937 L517.113 510.937 L517.113 516.331 L512.853 516.331 L512.853 510.937 Z\" fill=\"#000000\" fill-rule=\"evenodd\" fill-opacity=\"1\" /><path clip-path=\"url(#clip460)\" d=\"M544.636 534.016 Q544.636 529.317 542.691 526.655 Q540.77 523.97 537.39 523.97 Q534.011 523.97 532.066 526.655 Q530.145 529.317 530.145 534.016 Q530.145 538.715 532.066 541.4 Q534.011 544.062 537.39 544.062 Q540.77 544.062 542.691 541.4 Q544.636 538.715 544.636 534.016 M530.145 524.965 Q531.487 522.65 533.524 521.539 Q535.585 520.405 538.432 520.405 Q543.154 520.405 546.094 524.155 Q549.057 527.905 549.057 534.016 Q549.057 540.127 546.094 543.877 Q543.154 547.627 538.432 547.627 Q535.585 547.627 533.524 546.516 Q531.487 545.382 530.145 543.067 L530.145 546.956 L525.862 546.956 L525.862 510.937 L530.145 510.937 L530.145 524.965 Z\" fill=\"#000000\" fill-rule=\"evenodd\" fill-opacity=\"1\" /><path clip-path=\"url(#clip460)\" d=\"M556.117 510.937 L560.376 510.937 L560.376 546.956 L556.117 546.956 L556.117 510.937 Z\" fill=\"#000000\" fill-rule=\"evenodd\" fill-opacity=\"1\" /><path clip-path=\"url(#clip460)\" d=\"M591.464 532.928 L591.464 535.011 L571.881 535.011 Q572.159 539.409 574.52 541.724 Q576.904 544.016 581.14 544.016 Q583.594 544.016 585.885 543.414 Q588.2 542.812 590.469 541.609 L590.469 545.636 Q588.177 546.608 585.77 547.118 Q583.362 547.627 580.885 547.627 Q574.682 547.627 571.047 544.016 Q567.436 540.405 567.436 534.247 Q567.436 527.882 570.862 524.155 Q574.311 520.405 580.145 520.405 Q585.376 520.405 588.408 523.785 Q591.464 527.141 591.464 532.928 M587.205 531.678 Q587.158 528.183 585.237 526.099 Q583.339 524.016 580.191 524.016 Q576.626 524.016 574.473 526.03 Q572.344 528.044 572.02 531.701 L587.205 531.678 Z\" fill=\"#000000\" fill-rule=\"evenodd\" fill-opacity=\"1\" /><path clip-path=\"url(#clip460)\" d=\"M617.644 543.067 L617.644 556.817 L613.362 556.817 L613.362 521.03 L617.644 521.03 L617.644 524.965 Q618.987 522.65 621.024 521.539 Q623.084 520.405 625.931 520.405 Q630.654 520.405 633.593 524.155 Q636.556 527.905 636.556 534.016 Q636.556 540.127 633.593 543.877 Q630.654 547.627 625.931 547.627 Q623.084 547.627 621.024 546.516 Q618.987 545.382 617.644 543.067 M632.135 534.016 Q632.135 529.317 630.191 526.655 Q628.269 523.97 624.89 523.97 Q621.51 523.97 619.566 526.655 Q617.644 529.317 617.644 534.016 Q617.644 538.715 619.566 541.4 Q621.51 544.062 624.89 544.062 Q628.269 544.062 630.191 541.4 Q632.135 538.715 632.135 534.016 Z\" fill=\"#000000\" fill-rule=\"evenodd\" fill-opacity=\"1\" /><path clip-path=\"url(#clip460)\" d=\"M655.399 533.923 Q650.237 533.923 648.246 535.104 Q646.255 536.284 646.255 539.132 Q646.255 541.4 647.737 542.743 Q649.241 544.062 651.811 544.062 Q655.353 544.062 657.482 541.562 Q659.635 539.039 659.635 534.872 L659.635 533.923 L655.399 533.923 M663.894 532.164 L663.894 546.956 L659.635 546.956 L659.635 543.021 Q658.177 545.382 656.001 546.516 Q653.825 547.627 650.677 547.627 Q646.695 547.627 644.334 545.405 Q641.996 543.159 641.996 539.409 Q641.996 535.034 644.913 532.812 Q647.853 530.59 653.663 530.59 L659.635 530.59 L659.635 530.173 Q659.635 527.234 657.69 525.636 Q655.769 524.016 652.274 524.016 Q650.052 524.016 647.945 524.548 Q645.839 525.081 643.894 526.146 L643.894 522.21 Q646.232 521.308 648.431 520.868 Q650.63 520.405 652.714 520.405 Q658.339 520.405 661.116 523.322 Q663.894 526.238 663.894 532.164 Z\" fill=\"#000000\" fill-rule=\"evenodd\" fill-opacity=\"1\" /><path clip-path=\"url(#clip460)\" d=\"M676.88 513.669 L676.88 521.03 L685.653 521.03 L685.653 524.34 L676.88 524.34 L676.88 538.414 Q676.88 541.585 677.737 542.488 Q678.616 543.391 681.278 543.391 L685.653 543.391 L685.653 546.956 L681.278 546.956 Q676.348 546.956 674.473 545.127 Q672.598 543.275 672.598 538.414 L672.598 524.34 L669.473 524.34 L669.473 521.03 L672.598 521.03 L672.598 513.669 L676.88 513.669 Z\" fill=\"#000000\" fill-rule=\"evenodd\" fill-opacity=\"1\" /><path clip-path=\"url(#clip460)\" d=\"M712.806 531.308 L712.806 546.956 L708.547 546.956 L708.547 531.447 Q708.547 527.766 707.111 525.937 Q705.676 524.109 702.806 524.109 Q699.357 524.109 697.366 526.308 Q695.375 528.507 695.375 532.303 L695.375 546.956 L691.093 546.956 L691.093 510.937 L695.375 510.937 L695.375 525.058 Q696.903 522.72 698.963 521.562 Q701.047 520.405 703.755 520.405 Q708.223 520.405 710.514 523.183 Q712.806 525.937 712.806 531.308 Z\" fill=\"#000000\" fill-rule=\"evenodd\" fill-opacity=\"1\" /><path clip-path=\"url(#clip460)\" d=\"M740.584 513.669 L740.584 521.03 L749.357 521.03 L749.357 524.34 L740.584 524.34 L740.584 538.414 Q740.584 541.585 741.44 542.488 Q742.32 543.391 744.982 543.391 L749.357 543.391 L749.357 546.956 L744.982 546.956 Q740.051 546.956 738.176 545.127 Q736.301 543.275 736.301 538.414 L736.301 524.34 L733.176 524.34 L733.176 521.03 L736.301 521.03 L736.301 513.669 L740.584 513.669 Z\" fill=\"#000000\" fill-rule=\"evenodd\" fill-opacity=\"1\" /><path clip-path=\"url(#clip460)\" d=\"M765.005 524.016 Q761.579 524.016 759.588 526.701 Q757.597 529.363 757.597 534.016 Q757.597 538.669 759.565 541.354 Q761.556 544.016 765.005 544.016 Q768.407 544.016 770.398 541.331 Q772.389 538.646 772.389 534.016 Q772.389 529.41 770.398 526.724 Q768.407 524.016 765.005 524.016 M765.005 520.405 Q770.56 520.405 773.732 524.016 Q776.903 527.627 776.903 534.016 Q776.903 540.382 773.732 544.016 Q770.56 547.627 765.005 547.627 Q759.426 547.627 756.255 544.016 Q753.107 540.382 753.107 534.016 Q753.107 527.627 756.255 524.016 Q759.426 520.405 765.005 520.405 Z\" fill=\"#000000\" fill-rule=\"evenodd\" fill-opacity=\"1\" /><path clip-path=\"url(#clip460)\" d=\"M816.092 533.692 Q816.092 529.062 814.171 526.516 Q812.273 523.97 808.824 523.97 Q805.398 523.97 803.477 526.516 Q801.579 529.062 801.579 533.692 Q801.579 538.298 803.477 540.845 Q805.398 543.391 808.824 543.391 Q812.273 543.391 814.171 540.845 Q816.092 538.298 816.092 533.692 M820.352 543.738 Q820.352 550.358 817.412 553.576 Q814.472 556.817 808.407 556.817 Q806.162 556.817 804.171 556.47 Q802.18 556.145 800.305 555.451 L800.305 551.308 Q802.18 552.326 804.009 552.812 Q805.838 553.298 807.736 553.298 Q811.926 553.298 814.009 551.099 Q816.092 548.923 816.092 544.502 L816.092 542.396 Q814.773 544.687 812.713 545.821 Q810.653 546.956 807.782 546.956 Q803.014 546.956 800.097 543.321 Q797.18 539.687 797.18 533.692 Q797.18 527.673 800.097 524.039 Q803.014 520.405 807.782 520.405 Q810.653 520.405 812.713 521.539 Q814.773 522.673 816.092 524.965 L816.092 521.03 L820.352 521.03 L820.352 543.738 Z\" fill=\"#000000\" fill-rule=\"evenodd\" fill-opacity=\"1\" /><path clip-path=\"url(#clip460)\" d=\"M839.171 524.016 Q835.745 524.016 833.754 526.701 Q831.764 529.363 831.764 534.016 Q831.764 538.669 833.731 541.354 Q835.722 544.016 839.171 544.016 Q842.574 544.016 844.564 541.331 Q846.555 538.646 846.555 534.016 Q846.555 529.41 844.564 526.724 Q842.574 524.016 839.171 524.016 M839.171 520.405 Q844.726 520.405 847.898 524.016 Q851.069 527.627 851.069 534.016 Q851.069 540.382 847.898 544.016 Q844.726 547.627 839.171 547.627 Q833.592 547.627 830.421 544.016 Q827.273 540.382 827.273 534.016 Q827.273 527.627 830.421 524.016 Q833.592 520.405 839.171 520.405 Z\" fill=\"#000000\" fill-rule=\"evenodd\" fill-opacity=\"1\" /><path clip-path=\"url(#clip460)\" d=\"M869.912 533.923 Q864.75 533.923 862.759 535.104 Q860.768 536.284 860.768 539.132 Q860.768 541.4 862.25 542.743 Q863.754 544.062 866.324 544.062 Q869.865 544.062 871.995 541.562 Q874.148 539.039 874.148 534.872 L874.148 533.923 L869.912 533.923 M878.407 532.164 L878.407 546.956 L874.148 546.956 L874.148 543.021 Q872.689 545.382 870.513 546.516 Q868.337 547.627 865.189 547.627 Q861.208 547.627 858.847 545.405 Q856.509 543.159 856.509 539.409 Q856.509 535.034 859.425 532.812 Q862.365 530.59 868.175 530.59 L874.148 530.59 L874.148 530.173 Q874.148 527.234 872.203 525.636 Q870.282 524.016 866.787 524.016 Q864.564 524.016 862.458 524.548 Q860.351 525.081 858.407 526.146 L858.407 522.21 Q860.745 521.308 862.944 520.868 Q865.143 520.405 867.226 520.405 Q872.851 520.405 875.629 523.322 Q878.407 526.238 878.407 532.164 Z\" fill=\"#000000\" fill-rule=\"evenodd\" fill-opacity=\"1\" /><path clip-path=\"url(#clip460)\" d=\"M887.18 510.937 L891.439 510.937 L891.439 546.956 L887.18 546.956 L887.18 510.937 Z\" fill=\"#000000\" fill-rule=\"evenodd\" fill-opacity=\"1\" /><path clip-path=\"url(#clip460)\" d=\"M916.833 543.021 L924.471 543.021 L924.471 516.655 L916.161 518.322 L916.161 514.062 L924.425 512.396 L929.101 512.396 L929.101 543.021 L936.74 543.021 L936.74 546.956 L916.833 546.956 L916.833 543.021 Z\" fill=\"#000000\" fill-rule=\"evenodd\" fill-opacity=\"1\" /></svg>\n"
      ]
     },
     "execution_count": 14,
     "metadata": {},
     "output_type": "execute_result"
    }
   ],
   "source": [
    "xvals_leg = [Xline[i][1] for i=1:N]\n",
    "yvals_leg = [Xline[i][2] for i=1:N]\n",
    "\n",
    "\n",
    "p = plot()\n",
    "scatter!([start[1]], [start[2]], label=\"start\")\n",
    "for i=1:length(all_goals)\n",
    "    goal = all_goals[i]\n",
    "    scatter!([goal[1]], [goal[2]], label=string(\"Goal \", i))\n",
    "    \n",
    "end\n",
    "\n",
    "plot!(xvals_leg, yvals_leg, legend=:topleft, label=\"legible path to goal 1\")\n",
    "\n",
    "\n",
    "xlabel!(\"X\")\n",
    "ylabel!(\"Y\")\n",
    "\n",
    "title!(\"Legible Motion with ILQR: Multiple Goals\")\n",
    "\n"
   ]
  },
  {
   "cell_type": "code",
   "execution_count": null,
   "metadata": {},
   "outputs": [],
   "source": []
  }
 ],
 "metadata": {
  "@webio": {
   "lastCommId": null,
   "lastKernelId": null
  },
  "kernelspec": {
   "display_name": "Julia 1.6.5",
   "language": "julia",
   "name": "julia-1.6"
  },
  "language_info": {
   "file_extension": ".jl",
   "mimetype": "application/julia",
   "name": "julia",
   "version": "1.6.5"
  }
 },
 "nbformat": 4,
 "nbformat_minor": 4
}
