{
 "cells": [
  {
   "cell_type": "code",
   "execution_count": 12,
   "metadata": {},
   "outputs": [
    {
     "name": "stderr",
     "output_type": "stream",
     "text": [
      "\u001b[32m\u001b[1m  Activating\u001b[22m\u001b[39m environment at `~/Documents/ocrl_16745/legibility/Project.toml`\n",
      "\u001b[32m\u001b[1m  Activating\u001b[22m\u001b[39m environment at `~/Documents/ocrl_16745/legibility/Project.toml`\n"
     ]
    }
   ],
   "source": [
    "import Pkg; Pkg.activate(joinpath(@__DIR__,\"\")); \n",
    "Pkg.instantiate()\n",
    "using ForwardDiff\n",
    "using Test\n",
    "\n",
    "using LinearAlgebra\n",
    "using StaticArrays\n",
    "using Statistics\n",
    "using Plots\n",
    "using Printf\n",
    "using JLD2\n",
    "\n",
    "const FD = ForwardDiff;\n",
    "\n"
   ]
  },
  {
   "cell_type": "markdown",
   "metadata": {},
   "source": [
    "# Point Model"
   ]
  },
  {
   "cell_type": "code",
   "execution_count": 13,
   "metadata": {},
   "outputs": [
    {
     "data": {
      "text/plain": [
       "61"
      ]
     },
     "execution_count": 13,
     "metadata": {},
     "output_type": "execute_result"
    },
    {
     "data": {
      "text/plain": [
       "61"
      ]
     },
     "execution_count": 13,
     "metadata": {},
     "output_type": "execute_result"
    }
   ],
   "source": [
    "x0    = [0.0, 0.0]                    # initial state\n",
    "xgoal = [6.0, 5.0]                    # goal state\n",
    "nx = 2 \n",
    "nu = 2\n",
    "\n",
    "Q = I(2)\n",
    "R = I(2)\n",
    "Qf = I(2) .* 10\n",
    "\n",
    "dt = 0.025 \n",
    "N = 61"
   ]
  },
  {
   "cell_type": "markdown",
   "metadata": {},
   "source": [
    "# Helper Functions"
   ]
  },
  {
   "cell_type": "code",
   "execution_count": 14,
   "metadata": {},
   "outputs": [
    {
     "data": {
      "text/plain": [
       "d (generic function with 1 method)"
      ]
     },
     "execution_count": 14,
     "metadata": {},
     "output_type": "execute_result"
    },
    {
     "data": {
      "text/plain": [
       "d (generic function with 1 method)"
      ]
     },
     "execution_count": 14,
     "metadata": {},
     "output_type": "execute_result"
    }
   ],
   "source": [
    "function d(x1, y1, x2, y2)\n",
    "    c = sqrt((x2 - x2)*(x2 - x1) + (y2 - y1)*(y2 - y1))\n",
    "    return c\n",
    "end"
   ]
  },
  {
   "cell_type": "code",
   "execution_count": 15,
   "metadata": {},
   "outputs": [
    {
     "data": {
      "text/plain": [
       "dynamics_jacobians (generic function with 1 method)"
      ]
     },
     "execution_count": 15,
     "metadata": {},
     "output_type": "execute_result"
    },
    {
     "data": {
      "text/plain": [
       "dynamics_jacobians (generic function with 1 method)"
      ]
     },
     "execution_count": 15,
     "metadata": {},
     "output_type": "execute_result"
    }
   ],
   "source": [
    "\n",
    "function dynamics(x,u)\n",
    "    A = [1 0; 0 1]\n",
    "    B = [1 0; 0 1]\n",
    "\n",
    "    xnext = A * x + B*u\n",
    "    return xnext\n",
    "end\n",
    "\n",
    "\n",
    "function rk4(x,u,dt)\n",
    "    # rk4 for integration\n",
    "    k1 = dt*dynamics(x,u)\n",
    "    k2 = dt*dynamics(x + k1/2,u)\n",
    "    k3 = dt*dynamics(x + k2/2,u)\n",
    "    k4 = dt*dynamics(x + k3,u)\n",
    "    return x + (1/6)*(k1 + 2*k2 + 2*k3 + k4)\n",
    "end\n",
    "\n",
    "\n",
    "function dynamics_jacobians(x,u,dt)\n",
    "    # returns the discrete time dynamics jacobians\n",
    "    A = FD.jacobian(_x -> rk4(_x,u,dt),x)\n",
    "    B = FD.jacobian(_u -> rk4(x,_u,dt),u)\n",
    "    return A,B\n",
    "end"
   ]
  },
  {
   "cell_type": "markdown",
   "metadata": {},
   "source": [
    "## LQR Cost Function\n",
    "\n",
    "The objective / cost function for our optimization problem is of the following form:\n",
    "\n",
    "$$\\ell(x_{1:N}, u_{1:N-1}) = J_N(x_N) + \\sum_{i=1}^{N-1} J(x_k,u_k) $$\n",
    "\n",
    "Where the *stage cost* $J(x_k,u_k)$ is defined as:\n",
    "\n",
    "$$J(x,u) = \\frac{1}{2}(x - x_{ref})^TQ(x - x_{ref}) + \\frac{1}{2}(u -u_{ref})^TR(u-u_{ref})$$\n",
    "\n",
    "And the *terminal cost* is\n",
    "\n",
    "$$J_N(x) = \\frac{1}{2}(x - x_{ref})^TQ_f(x - x_{ref})$$\n",
    "\n",
    "These cost functions penalize distance from a given reference trajectory. Quadratic cost functions of this form are often referred to as LQR costs."
   ]
  },
  {
   "cell_type": "markdown",
   "metadata": {},
   "source": [
    "## Legibility LQR Cost Function\n",
    "\n",
    "Legibility is defined as \n",
    "\n",
    "$$\\text{Legibility}(\\xi) = \\frac{\\int P(G^*|\\xi_{S \\rightarrow \\xi(t)}) f(t) dt} {\\int f(t) dt}$$\n",
    "\n",
    "When legibility is defined over an entire trajectory, $f(t) = T-t$ is a function to give more weight to earlier parts of a trajectory. \n",
    "\n",
    "$P(G^*|\\xi_{S \\rightarrow \\xi(t)})$ is computed using a cost function $C$. $Z$ is a normalization term across all goals.\n",
    "\n",
    "$$P(G^*|\\xi_{S \\rightarrow \\xi(t)}) = \\frac{1}{Z} \\frac{exp(-C[\\xi_{S \\rightarrow Q}] - C[\\xi^*_{Q \\rightarrow G^*}])} {exp(-C[\\xi_{S \\rightarrow G^*}])} P(G)$$\n",
    "\n",
    "The objective in generating legible trajectories is to maximize $\\text{Legibility}(\\xi)$.\n",
    "\n",
    "$$ \\underset{\\xi}{\\mathrm{argmax}} \\text{ Legibility}(\\xi) $$\n",
    "\n",
    "Since we want a step-cost formulation for legibility, we define $f(t)=1$ and redefine legibility:\n",
    "\n",
    "$$\\text{Legibility}(\\xi) = \\sum_t P(G^*|\\xi_{S \\rightarrow \\xi(t)}) = \\sum_t \\text{Legibility}(\\xi_t)$$\n",
    "\n",
    "Legibility at each timestep is \n",
    "$$\\text{Legibility}(\\xi_t) =  P(G^*|\\xi_{S \\rightarrow \\xi(t)}) $$\n",
    "\n",
    "$$ \\underset{\\xi}{\\mathrm{argmax}} \\text{ Legibility}(\\xi) = \\underset{\\xi}{\\mathrm{argmax}} P(G^*|\\xi_{S \\rightarrow \\xi(t)}) $$\n",
    "\n",
    "The trajectory that maximizes the probability of the intended goal $G^*$ also maximizes the log of the probability $\\ln (P(G^*|\\xi_{S \\rightarrow \\xi(t)}))$.\n",
    "\n",
    "$$ \\underset{\\xi}{\\mathrm{argmax}} P(G^*|\\xi_{S \\rightarrow \\xi(t)}) = \\underset{\\xi}{\\mathrm{argmax}} \\ln(P(G^*|\\xi_{S \\rightarrow \\xi(t)})) $$\n",
    "\n",
    "We use a uniform prior $P(G)$ over goals and remove it from the objective.\n",
    "$$ = \\ln \\left[ \\frac{1}{Z} \\frac{exp(-C[\\xi_{S \\rightarrow Q}] - C[\\xi^*_{Q \\rightarrow G^*}])} {exp(-C[\\xi_{S \\rightarrow G^*}])} \\right] $$\n",
    "\n",
    "$$ = \\ln \\left[ exp(-C[\\xi_{S \\rightarrow Q}] - C[\\xi^*_{Q \\rightarrow G^*}]) \\right] - \\ln \\left[exp(-C[\\xi_{S \\rightarrow G^*}]) \\right] - \\ln(Z)$$\n",
    "\n",
    "$$ = -C[\\xi_{S \\rightarrow Q}] - C[\\xi^*_{Q \\rightarrow G^*}]) + C[\\xi_{S \\rightarrow G^*}]) - \\ln(Z)$$\n"
   ]
  },
  {
   "cell_type": "markdown",
   "metadata": {},
   "source": [
    "## Redefined LQR Costs\n",
    "\n",
    "The *stage legibility* $Legibility(x_k,u_k)$ is defined as:\n",
    "\n",
    "$$Legibility(x_k,u_k) = -C[\\xi_{S \\rightarrow x_k}] - C[\\xi^*_{x_k \\rightarrow G^*}]) + C[\\xi_{S \\rightarrow G^*}]) - \\ln(Z_k)$$\n",
    "\n",
    "$$Legibility(x_k,u_k) = \\frac{1}{2}(x_{start} - G^*)^TQ(x_{start} - G^*) - \\frac{1}{2}(x_{start} - x_k)^TQ(x_{start} - x_k) - \\frac{1}{2}(x_k - G^*)^TQ(x_k - G^*) - \\ln(Z_k) $$\n",
    "\n",
    "where \n",
    "\n",
    "$$Z = \\sum_{G} P(G|\\xi_{S \\rightarrow \\xi(t)})$$\n",
    "\n",
    "The *stage cost* $J(x_k,u_k)$ is defined as:\n",
    "\n",
    "$$J(x,u) = - Legibility(x_k,u_k) + \\frac{1}{2}(u_k -u_{ref})^TR(u_k-u_{ref})$$\n"
   ]
  },
  {
   "cell_type": "code",
   "execution_count": 16,
   "metadata": {},
   "outputs": [
    {
     "data": {
      "text/plain": [
       "term_cost_expansion (generic function with 1 method)"
      ]
     },
     "execution_count": 16,
     "metadata": {},
     "output_type": "execute_result"
    },
    {
     "data": {
      "text/plain": [
       "term_cost_expansion (generic function with 1 method)"
      ]
     },
     "execution_count": 16,
     "metadata": {},
     "output_type": "execute_result"
    }
   ],
   "source": [
    "\n",
    "function stage_cost(x,u,xref,uref, start, goal1, all_goals, nongoal_scale)\n",
    "    # Legibility LQR cost at each knot point (depends on both x and u)    \n",
    "\n",
    "    goal_idx = 1    \n",
    "    \n",
    "    J_g1 = (start-goal1)'*Q*(start-goal1) - (start-x)'*Q*(start-x) +  - (x-goal1)'*Q*(x-goal1) \n",
    "    J_g1 *= 0.5\n",
    "\n",
    "    log_sum = 0\n",
    "    for i=1:length(all_goals)\n",
    "        goal = all_goals[i]\n",
    "        scale = 1\n",
    "        if goal != goal1\n",
    "            scale = nongoal_scale\n",
    "        end\n",
    "        n = - ((start-x)'*Q*(start-x) + 5) - ((x-goal)'*Q*(x-goal)+10)\n",
    "        d = (start-goal)'*Q*(start-goal)\n",
    "        log_sum += (exp(n )/exp(d))* scale\n",
    "\n",
    "    end\n",
    "    \n",
    "    \n",
    "    J = J_g1 - log(log_sum)\n",
    "\n",
    "    J *= -1\n",
    "    J += 0.5 *  (u-uref)'*R*(u-uref)\n",
    "\n",
    "    return J\n",
    "end\n",
    "\n",
    "\n",
    "function term_cost(x,xref)\n",
    "    # LQR terminal cost (depends on just x)\n",
    "    J = 0.5*(x-xref)'*Qf*(x-xref)\n",
    "    \n",
    "    return J*1000\n",
    "end\n",
    "\n",
    "\n",
    "function trajectory_cost(X,U,Xref,Uref, start, goal1, all_goals, nongoal_scale)\n",
    "    # calculate the cost of a given trajectory \n",
    "    N_len = length(Xref)\n",
    "    J = term_cost(X[N_len],Xref[N_len])\n",
    "    for i=1:length(Xref)-1\n",
    "        xref = Xref[i]\n",
    "        uref = Uref[i]\n",
    "        x = X[i]\n",
    "        u = U[i]\n",
    "        J = J + stage_cost(x,u,xref,uref, start, goal1, all_goals, nongoal_scale)\n",
    "    end\n",
    "    return J\n",
    "end\n",
    "        \n",
    "function stage_cost_expansion(x,u,xref,uref, start, goal1, all_goals, nongoal_scale)\n",
    "    # if the stage cost function is J, return the following derivatives:\n",
    "    # ∇²ₓJ,  ∇ₓJ, ∇²ᵤJ, ∇ᵤJ\n",
    "\n",
    "    Jxx = FD.hessian(dx -> stage_cost(dx,u,xref,uref, start, goal1, all_goals, nongoal_scale), x)\n",
    "    Jx = FD.gradient(dx -> stage_cost(dx,u,xref,uref, start, goal1, all_goals, nongoal_scale), x)\n",
    "        \n",
    "    Juu = FD.hessian(du -> stage_cost(x,du,xref,uref, start, goal1, all_goals, nongoal_scale), u)\n",
    "    Ju = FD.gradient(du -> stage_cost(x,du,xref,uref, start, goal1, all_goals, nongoal_scale), u)\n",
    "        \n",
    "    \n",
    "    return Jxx, Jx, Juu, Ju\n",
    "end\n",
    "\n",
    "function term_cost_expansion(x,xref)\n",
    "    # if the terminal cost function is J, return the following derivatives:\n",
    "    # ∇²ₓJ,  ∇ₓJ\n",
    "\n",
    "    Jxx = FD.hessian(dx -> term_cost(dx, xref), x)\n",
    "    Jx = FD.gradient(dx -> term_cost(dx, xref), x)\n",
    "    \n",
    "    return Jxx, Jx\n",
    "end"
   ]
  },
  {
   "cell_type": "markdown",
   "metadata": {},
   "source": [
    "## Backward Pass and Forward Pass\n"
   ]
  },
  {
   "cell_type": "code",
   "execution_count": 17,
   "metadata": {},
   "outputs": [
    {
     "data": {
      "text/plain": [
       "forward_pass (generic function with 1 method)"
      ]
     },
     "execution_count": 17,
     "metadata": {},
     "output_type": "execute_result"
    },
    {
     "data": {
      "text/plain": [
       "forward_pass (generic function with 1 method)"
      ]
     },
     "execution_count": 17,
     "metadata": {},
     "output_type": "execute_result"
    }
   ],
   "source": [
    "\n",
    "function backward_pass(X,U,Xref,Uref, start, goal1, all_goals, nongoal_scale)\n",
    "\n",
    "    \n",
    "    P = [zeros(nx,nx) for i = 1:N]     # cost to go quadratic term\n",
    "    p = [zeros(nx) for i = 1:N]        # cost to go linear term \n",
    "    d = [zeros(nu)*NaN for i = 1:N-1]  # feedforward control\n",
    "    K = [zeros(nu,nx) for i = 1:N-1]   # feedback gain\n",
    "    ΔJ = 0.0                           # expected cost decrease\n",
    "    \n",
    "    Jxx_term, Jx_term = term_cost_expansion(X[end],Xref[end])\n",
    "\n",
    "    p[end] = Jx_term\n",
    "    P[end] = Jxx_term\n",
    "    \n",
    "    for i = reverse(1:N-1)\n",
    "        Jxx, Jx, Juu, Ju = stage_cost_expansion(X[i],U[i],Xref[i],Uref[i], start, goal1, all_goals, nongoal_scale)  \n",
    "        \n",
    "        A, B = dynamics_jacobians(X[i],U[i],dt)\n",
    "        \n",
    "        gx = Jx + A'*p[i+1]\n",
    "        gu = Ju + B'*p[i+1]\n",
    "        \n",
    "        Gxx = Jxx + A'*P[i+1]*A\n",
    "        Guu = Juu + B'*P[i+1]*B\n",
    "        \n",
    "        Gxu = A'*P[i+1]*B\n",
    "        Gux = B'*P[i+1]*A\n",
    "        \n",
    "        K_i = Guu\\ Gux\n",
    "        d_i = Guu\\ gu\n",
    "\n",
    "        P_i = Gxx + K_i'*Guu*K_i - Gxu*K_i - K_i'Gux\n",
    "        p_i = gx - K_i'*gu + K_i'*Guu*d_i - Gxu*d_i\n",
    "        \n",
    "        K[i] .= K_i\n",
    "        d[i] .= d_i\n",
    "        P[i] .= P_i\n",
    "        p[i] .= p_i\n",
    "        ΔJ +=  (gu' * d_i) \n",
    "        \n",
    "        \n",
    "    end\n",
    "    \n",
    "    return d, K, P, ΔJ\n",
    "end\n",
    "\n",
    "function forward_pass(X,U,Xref,Uref,K,d,ΔJ, start, goal1, all_goals, nongoal_scale; max_linesearch_iters = 10)\n",
    "    \n",
    "    Xn = deepcopy(X)\n",
    "    Un = deepcopy(U)\n",
    "    Jn = NaN\n",
    "    α = 1.0\n",
    "    \n",
    "    n_iters = 0\n",
    "    c = 0.5\n",
    "    \n",
    "    X_prev = deepcopy(X)\n",
    "    U_prev = deepcopy(U)\n",
    "    J = trajectory_cost(X,U,Xref,Uref, start, goal1, all_goals, nongoal_scale)\n",
    "    while n_iters <= max_linesearch_iters \n",
    "        for k=1:N-1\n",
    "            u_k = U_prev[k] - α * d[k] - K[k]*(Xn[k]-X_prev[k])\n",
    "            \n",
    "            x_k = rk4(Xn[k],u_k, dt)\n",
    "            \n",
    "            Xn[k+1] = x_k\n",
    "\n",
    "            Un[k] .= u_k\n",
    "            \n",
    "        end\n",
    "        \n",
    "        \n",
    "        Jn = trajectory_cost(Xn,Un,Xref,Uref, start, goal1, all_goals, nongoal_scale)\n",
    "        \n",
    "        if Jn < J - 0.01* α * ΔJ\n",
    "            break\n",
    "        end\n",
    "        α = c * α\n",
    "        n_iters += 1\n",
    "\n",
    "    end\n",
    "        \n",
    "        \n",
    "    return Xn, Un, Jn, α\n",
    "end"
   ]
  },
  {
   "cell_type": "markdown",
   "metadata": {},
   "source": [
    "## iLQR Algorithm\n"
   ]
  },
  {
   "cell_type": "code",
   "execution_count": 18,
   "metadata": {},
   "outputs": [
    {
     "data": {
      "text/plain": [
       "iLQR (generic function with 1 method)"
      ]
     },
     "execution_count": 18,
     "metadata": {},
     "output_type": "execute_result"
    },
    {
     "data": {
      "text/plain": [
       "iLQR (generic function with 1 method)"
      ]
     },
     "execution_count": 18,
     "metadata": {},
     "output_type": "execute_result"
    }
   ],
   "source": [
    "\n",
    "function iLQR(x0,U,Xref,Uref, start, goal1, all_goals, nongoal_scale;atol=1e-5,max_iters = 100,verbose = true)\n",
    "\n",
    "    X = [copy(x0) for i = 1:N]\n",
    "    U = deepcopy(U)\n",
    "    K = [zeros(nu,nx) for i = 1:N-1]\n",
    "    P = [zeros(nx,nx) for i = 1:N]\n",
    "    iter = -1\n",
    "    \n",
    "    while iter < max_iters\n",
    "        iter += 1\n",
    "        d, K, P, ΔJ = backward_pass(X,U,Xref,Uref, start, goal1, all_goals, nongoal_scale)\n",
    "    \n",
    "        X, U, J, α = forward_pass(X,U,Xref,Uref,K,d,ΔJ, start, goal1, all_goals, nongoal_scale)\n",
    "\n",
    "        if maximum(norm.(d)) < atol\n",
    "            break\n",
    "        end\n",
    "\n",
    "    end\n",
    "    return X,U,K,P,iter\n",
    "\n",
    "end\n",
    "        "
   ]
  },
  {
   "cell_type": "markdown",
   "metadata": {},
   "source": [
    "## Test Legibility ILQR\n"
   ]
  },
  {
   "cell_type": "code",
   "execution_count": 19,
   "metadata": {},
   "outputs": [
    {
     "data": {
      "text/plain": [
       "2-element Vector{Float64}:\n",
       " 0.0\n",
       " 0.0"
      ]
     },
     "execution_count": 19,
     "metadata": {},
     "output_type": "execute_result"
    },
    {
     "data": {
      "text/plain": [
       "2-element Vector{Float64}:\n",
       " 0.0\n",
       " 0.0"
      ]
     },
     "execution_count": 19,
     "metadata": {},
     "output_type": "execute_result"
    }
   ],
   "source": [
    "goal1 = [6.0, 5.0]\n",
    "goal2 = [7.0, 2.0]\n",
    "goal3 = [4.0, 1.0]\n",
    "start = [0.0, 0.0]"
   ]
  },
  {
   "cell_type": "code",
   "execution_count": 23,
   "metadata": {},
   "outputs": [
    {
     "data": {
      "text/plain": [
       "2-element Vector{Vector{Float64}}:\n",
       " [4.0, 2.0]\n",
       " [1.0, 3.0]"
      ]
     },
     "execution_count": 23,
     "metadata": {},
     "output_type": "execute_result"
    },
    {
     "data": {
      "text/plain": [
       "2-element Vector{Vector{Float64}}:\n",
       " [4.0, 2.0]\n",
       " [1.0, 3.0]"
      ]
     },
     "execution_count": 23,
     "metadata": {},
     "output_type": "execute_result"
    }
   ],
   "source": [
    "true_goal = [8.0, 2.0]\n",
    "# goal2 = [2.0, 1.0]\n",
    "goal3 = [4.0, 1.0]\n",
    "start = [0.0, 0.0]\n",
    "\n",
    "\n",
    "true_goal = [4.0, 2.0]\n",
    "goal3 = [1.0, 3.0]\n",
    "    \n",
    "all_goals = [true_goal, goal3]\n"
   ]
  },
  {
   "cell_type": "code",
   "execution_count": 24,
   "metadata": {},
   "outputs": [
    {
     "name": "stdout",
     "output_type": "stream",
     "text": [
      "done\n",
      "done\n"
     ]
    }
   ],
   "source": [
    "x0 = [0.0,0.0]\n",
    "xgoal = true_goal\n",
    "Xrefline = [copy(xgoal) for i = 1:N]\n",
    "Urefline = [copy([0.0,0.0]) for i = 1:N-1]\n",
    "\n",
    "Xline,Uline,Kline,Pline, iterline = iLQR(x0,Urefline,Xrefline,Urefline, start, true_goal, all_goals, 50)\n",
    "println(\"done\")\n"
   ]
  },
  {
   "cell_type": "code",
   "execution_count": 25,
   "metadata": {},
   "outputs": [
    {
     "data": {
      "image/svg+xml": [
       "<?xml version=\"1.0\" encoding=\"utf-8\"?>\n",
       "<svg xmlns=\"http://www.w3.org/2000/svg\" xmlns:xlink=\"http://www.w3.org/1999/xlink\" width=\"600\" height=\"400\" viewBox=\"0 0 2400 1600\">\n",
       "<defs>\n",
       "  <clipPath id=\"clip980\">\n",
       "    <rect x=\"0\" y=\"0\" width=\"2400\" height=\"1600\"/>\n",
       "  </clipPath>\n",
       "</defs>\n",
       "<path clip-path=\"url(#clip980)\" d=\"\n",
       "M0 1600 L2400 1600 L2400 0 L0 0  Z\n",
       "  \" fill=\"#ffffff\" fill-rule=\"evenodd\" fill-opacity=\"1\"/>\n",
       "<defs>\n",
       "  <clipPath id=\"clip981\">\n",
       "    <rect x=\"480\" y=\"0\" width=\"1681\" height=\"1600\"/>\n",
       "  </clipPath>\n",
       "</defs>\n",
       "<path clip-path=\"url(#clip980)\" d=\"\n",
       "M174.149 1423.18 L2352.76 1423.18 L2352.76 123.472 L174.149 123.472  Z\n",
       "  \" fill=\"#ffffff\" fill-rule=\"evenodd\" fill-opacity=\"1\"/>\n",
       "<defs>\n",
       "  <clipPath id=\"clip982\">\n",
       "    <rect x=\"174\" y=\"123\" width=\"2180\" height=\"1301\"/>\n",
       "  </clipPath>\n",
       "</defs>\n",
       "<polyline clip-path=\"url(#clip982)\" style=\"stroke:#000000; stroke-linecap:butt; stroke-linejoin:round; stroke-width:2; stroke-opacity:0.1; fill:none\" points=\"\n",
       "  235.808,1423.18 235.808,123.472 \n",
       "  \"/>\n",
       "<polyline clip-path=\"url(#clip982)\" style=\"stroke:#000000; stroke-linecap:butt; stroke-linejoin:round; stroke-width:2; stroke-opacity:0.1; fill:none\" points=\"\n",
       "  735.061,1423.18 735.061,123.472 \n",
       "  \"/>\n",
       "<polyline clip-path=\"url(#clip982)\" style=\"stroke:#000000; stroke-linecap:butt; stroke-linejoin:round; stroke-width:2; stroke-opacity:0.1; fill:none\" points=\"\n",
       "  1234.31,1423.18 1234.31,123.472 \n",
       "  \"/>\n",
       "<polyline clip-path=\"url(#clip982)\" style=\"stroke:#000000; stroke-linecap:butt; stroke-linejoin:round; stroke-width:2; stroke-opacity:0.1; fill:none\" points=\"\n",
       "  1733.57,1423.18 1733.57,123.472 \n",
       "  \"/>\n",
       "<polyline clip-path=\"url(#clip982)\" style=\"stroke:#000000; stroke-linecap:butt; stroke-linejoin:round; stroke-width:2; stroke-opacity:0.1; fill:none\" points=\"\n",
       "  2232.82,1423.18 2232.82,123.472 \n",
       "  \"/>\n",
       "<polyline clip-path=\"url(#clip980)\" style=\"stroke:#000000; stroke-linecap:butt; stroke-linejoin:round; stroke-width:4; stroke-opacity:1; fill:none\" points=\"\n",
       "  174.149,1423.18 2352.76,1423.18 \n",
       "  \"/>\n",
       "<polyline clip-path=\"url(#clip980)\" style=\"stroke:#000000; stroke-linecap:butt; stroke-linejoin:round; stroke-width:4; stroke-opacity:1; fill:none\" points=\"\n",
       "  235.808,1423.18 235.808,1404.28 \n",
       "  \"/>\n",
       "<polyline clip-path=\"url(#clip980)\" style=\"stroke:#000000; stroke-linecap:butt; stroke-linejoin:round; stroke-width:4; stroke-opacity:1; fill:none\" points=\"\n",
       "  735.061,1423.18 735.061,1404.28 \n",
       "  \"/>\n",
       "<polyline clip-path=\"url(#clip980)\" style=\"stroke:#000000; stroke-linecap:butt; stroke-linejoin:round; stroke-width:4; stroke-opacity:1; fill:none\" points=\"\n",
       "  1234.31,1423.18 1234.31,1404.28 \n",
       "  \"/>\n",
       "<polyline clip-path=\"url(#clip980)\" style=\"stroke:#000000; stroke-linecap:butt; stroke-linejoin:round; stroke-width:4; stroke-opacity:1; fill:none\" points=\"\n",
       "  1733.57,1423.18 1733.57,1404.28 \n",
       "  \"/>\n",
       "<polyline clip-path=\"url(#clip980)\" style=\"stroke:#000000; stroke-linecap:butt; stroke-linejoin:round; stroke-width:4; stroke-opacity:1; fill:none\" points=\"\n",
       "  2232.82,1423.18 2232.82,1404.28 \n",
       "  \"/>\n",
       "<path clip-path=\"url(#clip980)\" d=\"M235.808 1454.1 Q232.197 1454.1 230.368 1457.66 Q228.562 1461.2 228.562 1468.33 Q228.562 1475.44 230.368 1479.01 Q232.197 1482.55 235.808 1482.55 Q239.442 1482.55 241.247 1479.01 Q243.076 1475.44 243.076 1468.33 Q243.076 1461.2 241.247 1457.66 Q239.442 1454.1 235.808 1454.1 M235.808 1450.39 Q241.618 1450.39 244.673 1455 Q247.752 1459.58 247.752 1468.33 Q247.752 1477.06 244.673 1481.67 Q241.618 1486.25 235.808 1486.25 Q229.997 1486.25 226.919 1481.67 Q223.863 1477.06 223.863 1468.33 Q223.863 1459.58 226.919 1455 Q229.997 1450.39 235.808 1450.39 Z\" fill=\"#000000\" fill-rule=\"evenodd\" fill-opacity=\"1\" /><path clip-path=\"url(#clip980)\" d=\"M725.443 1481.64 L733.082 1481.64 L733.082 1455.28 L724.772 1456.95 L724.772 1452.69 L733.036 1451.02 L737.712 1451.02 L737.712 1481.64 L745.35 1481.64 L745.35 1485.58 L725.443 1485.58 L725.443 1481.64 Z\" fill=\"#000000\" fill-rule=\"evenodd\" fill-opacity=\"1\" /><path clip-path=\"url(#clip980)\" d=\"M1228.97 1481.64 L1245.29 1481.64 L1245.29 1485.58 L1223.34 1485.58 L1223.34 1481.64 Q1226 1478.89 1230.59 1474.26 Q1235.19 1469.61 1236.37 1468.27 Q1238.62 1465.74 1239.5 1464.01 Q1240.4 1462.25 1240.4 1460.56 Q1240.4 1457.8 1238.46 1456.07 Q1236.54 1454.33 1233.43 1454.33 Q1231.24 1454.33 1228.78 1455.09 Q1226.35 1455.86 1223.57 1457.41 L1223.57 1452.69 Q1226.4 1451.55 1228.85 1450.97 Q1231.31 1450.39 1233.34 1450.39 Q1238.71 1450.39 1241.91 1453.08 Q1245.1 1455.77 1245.1 1460.26 Q1245.1 1462.39 1244.29 1464.31 Q1243.5 1466.2 1241.4 1468.8 Q1240.82 1469.47 1237.72 1472.69 Q1234.62 1475.88 1228.97 1481.64 Z\" fill=\"#000000\" fill-rule=\"evenodd\" fill-opacity=\"1\" /><path clip-path=\"url(#clip980)\" d=\"M1737.82 1466.95 Q1741.17 1467.66 1743.05 1469.93 Q1744.95 1472.2 1744.95 1475.53 Q1744.95 1480.65 1741.43 1483.45 Q1737.91 1486.25 1731.43 1486.25 Q1729.25 1486.25 1726.94 1485.81 Q1724.64 1485.39 1722.19 1484.54 L1722.19 1480.02 Q1724.14 1481.16 1726.45 1481.74 Q1728.76 1482.32 1731.29 1482.32 Q1735.69 1482.32 1737.98 1480.58 Q1740.29 1478.84 1740.29 1475.53 Q1740.29 1472.48 1738.14 1470.77 Q1736.01 1469.03 1732.19 1469.03 L1728.16 1469.03 L1728.16 1465.19 L1732.38 1465.19 Q1735.82 1465.19 1737.65 1463.82 Q1739.48 1462.43 1739.48 1459.84 Q1739.48 1457.18 1737.58 1455.77 Q1735.71 1454.33 1732.19 1454.33 Q1730.27 1454.33 1728.07 1454.75 Q1725.87 1455.16 1723.23 1456.04 L1723.23 1451.88 Q1725.89 1451.14 1728.21 1450.77 Q1730.55 1450.39 1732.61 1450.39 Q1737.93 1450.39 1741.03 1452.83 Q1744.14 1455.23 1744.14 1459.35 Q1744.14 1462.22 1742.49 1464.21 Q1740.85 1466.18 1737.82 1466.95 Z\" fill=\"#000000\" fill-rule=\"evenodd\" fill-opacity=\"1\" /><path clip-path=\"url(#clip980)\" d=\"M2235.83 1455.09 L2224.03 1473.54 L2235.83 1473.54 L2235.83 1455.09 M2234.6 1451.02 L2240.48 1451.02 L2240.48 1473.54 L2245.41 1473.54 L2245.41 1477.43 L2240.48 1477.43 L2240.48 1485.58 L2235.83 1485.58 L2235.83 1477.43 L2220.23 1477.43 L2220.23 1472.92 L2234.6 1451.02 Z\" fill=\"#000000\" fill-rule=\"evenodd\" fill-opacity=\"1\" /><path clip-path=\"url(#clip980)\" d=\"M1245.28 1520.52 L1252.19 1520.52 L1263.99 1538.19 L1275.87 1520.52 L1282.77 1520.52 L1267.49 1543.34 L1283.79 1568.04 L1276.88 1568.04 L1263.52 1547.83 L1250.05 1568.04 L1243.11 1568.04 L1260.08 1542.68 L1245.28 1520.52 Z\" fill=\"#000000\" fill-rule=\"evenodd\" fill-opacity=\"1\" /><polyline clip-path=\"url(#clip982)\" style=\"stroke:#000000; stroke-linecap:butt; stroke-linejoin:round; stroke-width:2; stroke-opacity:0.1; fill:none\" points=\"\n",
       "  174.149,1265.05 2352.76,1265.05 \n",
       "  \"/>\n",
       "<polyline clip-path=\"url(#clip982)\" style=\"stroke:#000000; stroke-linecap:butt; stroke-linejoin:round; stroke-width:2; stroke-opacity:0.1; fill:none\" points=\"\n",
       "  174.149,896.784 2352.76,896.784 \n",
       "  \"/>\n",
       "<polyline clip-path=\"url(#clip982)\" style=\"stroke:#000000; stroke-linecap:butt; stroke-linejoin:round; stroke-width:2; stroke-opacity:0.1; fill:none\" points=\"\n",
       "  174.149,528.52 2352.76,528.52 \n",
       "  \"/>\n",
       "<polyline clip-path=\"url(#clip982)\" style=\"stroke:#000000; stroke-linecap:butt; stroke-linejoin:round; stroke-width:2; stroke-opacity:0.1; fill:none\" points=\"\n",
       "  174.149,160.256 2352.76,160.256 \n",
       "  \"/>\n",
       "<polyline clip-path=\"url(#clip980)\" style=\"stroke:#000000; stroke-linecap:butt; stroke-linejoin:round; stroke-width:4; stroke-opacity:1; fill:none\" points=\"\n",
       "  174.149,1423.18 174.149,123.472 \n",
       "  \"/>\n",
       "<polyline clip-path=\"url(#clip980)\" style=\"stroke:#000000; stroke-linecap:butt; stroke-linejoin:round; stroke-width:4; stroke-opacity:1; fill:none\" points=\"\n",
       "  174.149,1265.05 193.047,1265.05 \n",
       "  \"/>\n",
       "<polyline clip-path=\"url(#clip980)\" style=\"stroke:#000000; stroke-linecap:butt; stroke-linejoin:round; stroke-width:4; stroke-opacity:1; fill:none\" points=\"\n",
       "  174.149,896.784 193.047,896.784 \n",
       "  \"/>\n",
       "<polyline clip-path=\"url(#clip980)\" style=\"stroke:#000000; stroke-linecap:butt; stroke-linejoin:round; stroke-width:4; stroke-opacity:1; fill:none\" points=\"\n",
       "  174.149,528.52 193.047,528.52 \n",
       "  \"/>\n",
       "<polyline clip-path=\"url(#clip980)\" style=\"stroke:#000000; stroke-linecap:butt; stroke-linejoin:round; stroke-width:4; stroke-opacity:1; fill:none\" points=\"\n",
       "  174.149,160.256 193.047,160.256 \n",
       "  \"/>\n",
       "<path clip-path=\"url(#clip980)\" d=\"M126.205 1250.85 Q122.593 1250.85 120.765 1254.41 Q118.959 1257.95 118.959 1265.08 Q118.959 1272.19 120.765 1275.75 Q122.593 1279.3 126.205 1279.3 Q129.839 1279.3 131.644 1275.75 Q133.473 1272.19 133.473 1265.08 Q133.473 1257.95 131.644 1254.41 Q129.839 1250.85 126.205 1250.85 M126.205 1247.14 Q132.015 1247.14 135.07 1251.75 Q138.149 1256.33 138.149 1265.08 Q138.149 1273.81 135.07 1278.42 Q132.015 1283 126.205 1283 Q120.394 1283 117.316 1278.42 Q114.26 1273.81 114.26 1265.08 Q114.26 1256.33 117.316 1251.75 Q120.394 1247.14 126.205 1247.14 Z\" fill=\"#000000\" fill-rule=\"evenodd\" fill-opacity=\"1\" /><path clip-path=\"url(#clip980)\" d=\"M118.242 910.129 L125.88 910.129 L125.88 883.763 L117.57 885.43 L117.57 881.171 L125.834 879.504 L130.51 879.504 L130.51 910.129 L138.149 910.129 L138.149 914.064 L118.242 914.064 L118.242 910.129 Z\" fill=\"#000000\" fill-rule=\"evenodd\" fill-opacity=\"1\" /><path clip-path=\"url(#clip980)\" d=\"M121.83 541.865 L138.149 541.865 L138.149 545.8 L116.205 545.8 L116.205 541.865 Q118.867 539.11 123.45 534.481 Q128.056 529.828 129.237 528.485 Q131.482 525.962 132.362 524.226 Q133.265 522.467 133.265 520.777 Q133.265 518.022 131.32 516.286 Q129.399 514.55 126.297 514.55 Q124.098 514.55 121.644 515.314 Q119.214 516.078 116.436 517.629 L116.436 512.907 Q119.26 511.773 121.714 511.194 Q124.168 510.615 126.205 510.615 Q131.575 510.615 134.769 513.3 Q137.964 515.985 137.964 520.476 Q137.964 522.606 137.154 524.527 Q136.367 526.425 134.26 529.018 Q133.681 529.689 130.58 532.907 Q127.478 536.101 121.83 541.865 Z\" fill=\"#000000\" fill-rule=\"evenodd\" fill-opacity=\"1\" /><path clip-path=\"url(#clip980)\" d=\"M131.019 158.902 Q134.376 159.62 136.251 161.888 Q138.149 164.157 138.149 167.49 Q138.149 172.606 134.63 175.407 Q131.112 178.208 124.63 178.208 Q122.455 178.208 120.14 177.768 Q117.848 177.351 115.394 176.495 L115.394 171.981 Q117.339 173.115 119.654 173.694 Q121.968 174.272 124.492 174.272 Q128.89 174.272 131.181 172.536 Q133.496 170.8 133.496 167.49 Q133.496 164.435 131.343 162.722 Q129.214 160.985 125.394 160.985 L121.367 160.985 L121.367 157.143 L125.58 157.143 Q129.029 157.143 130.857 155.777 Q132.686 154.388 132.686 151.796 Q132.686 149.134 130.788 147.722 Q128.913 146.286 125.394 146.286 Q123.473 146.286 121.274 146.703 Q119.075 147.12 116.436 147.999 L116.436 143.833 Q119.098 143.092 121.413 142.722 Q123.751 142.351 125.811 142.351 Q131.135 142.351 134.237 144.782 Q137.339 147.189 137.339 151.31 Q137.339 154.18 135.695 156.171 Q134.052 158.138 131.019 158.902 Z\" fill=\"#000000\" fill-rule=\"evenodd\" fill-opacity=\"1\" /><path clip-path=\"url(#clip980)\" d=\"M16.4842 793.362 L16.4842 786.455 L36.0269 773.278 L16.4842 760.197 L16.4842 753.29 L41.3741 770.095 L64.0042 770.095 L64.0042 776.557 L41.3741 776.557 L16.4842 793.362 Z\" fill=\"#000000\" fill-rule=\"evenodd\" fill-opacity=\"1\" /><path clip-path=\"url(#clip980)\" d=\"M754.578 12.096 L762.761 12.096 L762.761 65.6895 L792.211 65.6895 L792.211 72.576 L754.578 72.576 L754.578 12.096 Z\" fill=\"#000000\" fill-rule=\"evenodd\" fill-opacity=\"1\" /><path clip-path=\"url(#clip980)\" d=\"M837.824 48.0275 L837.824 51.6733 L803.553 51.6733 Q804.039 59.3701 808.171 63.421 Q812.344 67.4314 819.757 67.4314 Q824.051 67.4314 828.061 66.3781 Q832.112 65.3249 836.082 63.2184 L836.082 70.267 Q832.072 71.9684 827.859 72.8596 Q823.646 73.7508 819.311 73.7508 Q808.455 73.7508 802.095 67.4314 Q795.776 61.1119 795.776 50.3365 Q795.776 39.1965 801.771 32.6746 Q807.807 26.1121 818.015 26.1121 Q827.17 26.1121 832.477 32.0264 Q837.824 37.9003 837.824 48.0275 M830.37 45.84 Q830.289 39.7232 826.927 36.0774 Q823.605 32.4315 818.096 32.4315 Q811.858 32.4315 808.09 35.9558 Q804.363 39.4801 803.796 45.8805 L830.37 45.84 Z\" fill=\"#000000\" fill-rule=\"evenodd\" fill-opacity=\"1\" /><path clip-path=\"url(#clip980)\" d=\"M879.913 49.3643 Q879.913 41.2625 876.551 36.8065 Q873.229 32.3505 867.193 32.3505 Q861.198 32.3505 857.835 36.8065 Q854.514 41.2625 854.514 49.3643 Q854.514 57.4256 857.835 61.8816 Q861.198 66.3376 867.193 66.3376 Q873.229 66.3376 876.551 61.8816 Q879.913 57.4256 879.913 49.3643 M887.366 66.9452 Q887.366 78.5308 882.222 84.1616 Q877.077 89.8329 866.464 89.8329 Q862.534 89.8329 859.051 89.2252 Q855.567 88.6581 852.286 87.4428 L852.286 80.1917 Q855.567 81.9741 858.767 82.8248 Q861.967 83.6755 865.289 83.6755 Q872.621 83.6755 876.267 79.8271 Q879.913 76.0193 879.913 68.282 L879.913 64.5957 Q877.604 68.6061 873.998 70.5911 Q870.393 72.576 865.37 72.576 Q857.025 72.576 851.921 66.2161 Q846.817 59.8562 846.817 49.3643 Q846.817 38.832 851.921 32.472 Q857.025 26.1121 865.37 26.1121 Q870.393 26.1121 873.998 28.0971 Q877.604 30.082 879.913 34.0924 L879.913 27.2059 L887.366 27.2059 L887.366 66.9452 Z\" fill=\"#000000\" fill-rule=\"evenodd\" fill-opacity=\"1\" /><path clip-path=\"url(#clip980)\" d=\"M902.719 27.2059 L910.173 27.2059 L910.173 72.576 L902.719 72.576 L902.719 27.2059 M902.719 9.54393 L910.173 9.54393 L910.173 18.9825 L902.719 18.9825 L902.719 9.54393 Z\" fill=\"#000000\" fill-rule=\"evenodd\" fill-opacity=\"1\" /><path clip-path=\"url(#clip980)\" d=\"M958.338 49.9314 Q958.338 41.7081 954.936 37.0496 Q951.573 32.3505 945.659 32.3505 Q939.745 32.3505 936.342 37.0496 Q932.98 41.7081 932.98 49.9314 Q932.98 58.1548 936.342 62.8538 Q939.745 67.5124 945.659 67.5124 Q951.573 67.5124 954.936 62.8538 Q958.338 58.1548 958.338 49.9314 M932.98 34.0924 Q935.329 30.0415 938.894 28.0971 Q942.499 26.1121 947.482 26.1121 Q955.746 26.1121 960.89 32.6746 Q966.076 39.2371 966.076 49.9314 Q966.076 60.6258 960.89 67.1883 Q955.746 73.7508 947.482 73.7508 Q942.499 73.7508 938.894 71.8063 Q935.329 69.8214 932.98 65.7705 L932.98 72.576 L925.485 72.576 L925.485 9.54393 L932.98 9.54393 L932.98 34.0924 Z\" fill=\"#000000\" fill-rule=\"evenodd\" fill-opacity=\"1\" /><path clip-path=\"url(#clip980)\" d=\"M978.431 9.54393 L985.884 9.54393 L985.884 72.576 L978.431 72.576 L978.431 9.54393 Z\" fill=\"#000000\" fill-rule=\"evenodd\" fill-opacity=\"1\" /><path clip-path=\"url(#clip980)\" d=\"M1040.29 48.0275 L1040.29 51.6733 L1006.02 51.6733 Q1006.5 59.3701 1010.64 63.421 Q1014.81 67.4314 1022.22 67.4314 Q1026.52 67.4314 1030.53 66.3781 Q1034.58 65.3249 1038.55 63.2184 L1038.55 70.267 Q1034.54 71.9684 1030.32 72.8596 Q1026.11 73.7508 1021.78 73.7508 Q1010.92 73.7508 1004.56 67.4314 Q998.24 61.1119 998.24 50.3365 Q998.24 39.1965 1004.24 32.6746 Q1010.27 26.1121 1020.48 26.1121 Q1029.63 26.1121 1034.94 32.0264 Q1040.29 37.9003 1040.29 48.0275 M1032.83 45.84 Q1032.75 39.7232 1029.39 36.0774 Q1026.07 32.4315 1020.56 32.4315 Q1014.32 32.4315 1010.55 35.9558 Q1006.83 39.4801 1006.26 45.8805 L1032.83 45.84 Z\" fill=\"#000000\" fill-rule=\"evenodd\" fill-opacity=\"1\" /><path clip-path=\"url(#clip980)\" d=\"M1079.22 12.096 L1091.41 12.096 L1106.84 53.2532 L1122.36 12.096 L1134.55 12.096 L1134.55 72.576 L1126.57 72.576 L1126.57 19.4686 L1110.98 60.9499 L1102.75 60.9499 L1087.16 19.4686 L1087.16 72.576 L1079.22 72.576 L1079.22 12.096 Z\" fill=\"#000000\" fill-rule=\"evenodd\" fill-opacity=\"1\" /><path clip-path=\"url(#clip980)\" d=\"M1168.05 32.4315 Q1162.06 32.4315 1158.57 37.1306 Q1155.09 41.7891 1155.09 49.9314 Q1155.09 58.0738 1158.53 62.7728 Q1162.02 67.4314 1168.05 67.4314 Q1174.01 67.4314 1177.49 62.7323 Q1180.98 58.0333 1180.98 49.9314 Q1180.98 41.8701 1177.49 37.1711 Q1174.01 32.4315 1168.05 32.4315 M1168.05 26.1121 Q1177.78 26.1121 1183.33 32.4315 Q1188.88 38.7509 1188.88 49.9314 Q1188.88 61.0714 1183.33 67.4314 Q1177.78 73.7508 1168.05 73.7508 Q1158.29 73.7508 1152.74 67.4314 Q1147.23 61.0714 1147.23 49.9314 Q1147.23 38.7509 1152.74 32.4315 Q1158.29 26.1121 1168.05 26.1121 Z\" fill=\"#000000\" fill-rule=\"evenodd\" fill-opacity=\"1\" /><path clip-path=\"url(#clip980)\" d=\"M1208.6 14.324 L1208.6 27.2059 L1223.96 27.2059 L1223.96 32.9987 L1208.6 32.9987 L1208.6 57.6282 Q1208.6 63.1779 1210.1 64.7578 Q1211.64 66.3376 1216.3 66.3376 L1223.96 66.3376 L1223.96 72.576 L1216.3 72.576 Q1207.67 72.576 1204.39 69.3758 Q1201.11 66.1351 1201.11 57.6282 L1201.11 32.9987 L1195.64 32.9987 L1195.64 27.2059 L1201.11 27.2059 L1201.11 14.324 L1208.6 14.324 Z\" fill=\"#000000\" fill-rule=\"evenodd\" fill-opacity=\"1\" /><path clip-path=\"url(#clip980)\" d=\"M1233.76 27.2059 L1241.21 27.2059 L1241.21 72.576 L1233.76 72.576 L1233.76 27.2059 M1233.76 9.54393 L1241.21 9.54393 L1241.21 18.9825 L1233.76 18.9825 L1233.76 9.54393 Z\" fill=\"#000000\" fill-rule=\"evenodd\" fill-opacity=\"1\" /><path clip-path=\"url(#clip980)\" d=\"M1274.39 32.4315 Q1268.39 32.4315 1264.91 37.1306 Q1261.43 41.7891 1261.43 49.9314 Q1261.43 58.0738 1264.87 62.7728 Q1268.35 67.4314 1274.39 67.4314 Q1280.34 67.4314 1283.83 62.7323 Q1287.31 58.0333 1287.31 49.9314 Q1287.31 41.8701 1283.83 37.1711 Q1280.34 32.4315 1274.39 32.4315 M1274.39 26.1121 Q1284.11 26.1121 1289.66 32.4315 Q1295.21 38.7509 1295.21 49.9314 Q1295.21 61.0714 1289.66 67.4314 Q1284.11 73.7508 1274.39 73.7508 Q1264.63 73.7508 1259.08 67.4314 Q1253.57 61.0714 1253.57 49.9314 Q1253.57 38.7509 1259.08 32.4315 Q1264.63 26.1121 1274.39 26.1121 Z\" fill=\"#000000\" fill-rule=\"evenodd\" fill-opacity=\"1\" /><path clip-path=\"url(#clip980)\" d=\"M1345.28 45.1919 L1345.28 72.576 L1337.83 72.576 L1337.83 45.4349 Q1337.83 38.994 1335.32 35.7938 Q1332.8 32.5936 1327.78 32.5936 Q1321.74 32.5936 1318.26 36.4419 Q1314.78 40.2903 1314.78 46.9338 L1314.78 72.576 L1307.28 72.576 L1307.28 27.2059 L1314.78 27.2059 L1314.78 34.2544 Q1317.45 30.163 1321.06 28.1376 Q1324.7 26.1121 1329.44 26.1121 Q1337.26 26.1121 1341.27 30.9732 Q1345.28 35.7938 1345.28 45.1919 Z\" fill=\"#000000\" fill-rule=\"evenodd\" fill-opacity=\"1\" /><path clip-path=\"url(#clip980)\" d=\"M1382.18 27.2059 L1389.64 27.2059 L1398.96 62.6108 L1408.23 27.2059 L1417.02 27.2059 L1426.34 62.6108 L1435.62 27.2059 L1443.07 27.2059 L1431.2 72.576 L1422.41 72.576 L1412.65 35.3887 L1402.84 72.576 L1394.05 72.576 L1382.18 27.2059 Z\" fill=\"#000000\" fill-rule=\"evenodd\" fill-opacity=\"1\" /><path clip-path=\"url(#clip980)\" d=\"M1454.37 27.2059 L1461.83 27.2059 L1461.83 72.576 L1454.37 72.576 L1454.37 27.2059 M1454.37 9.54393 L1461.83 9.54393 L1461.83 18.9825 L1454.37 18.9825 L1454.37 9.54393 Z\" fill=\"#000000\" fill-rule=\"evenodd\" fill-opacity=\"1\" /><path clip-path=\"url(#clip980)\" d=\"M1484.79 14.324 L1484.79 27.2059 L1500.15 27.2059 L1500.15 32.9987 L1484.79 32.9987 L1484.79 57.6282 Q1484.79 63.1779 1486.29 64.7578 Q1487.83 66.3376 1492.49 66.3376 L1500.15 66.3376 L1500.15 72.576 L1492.49 72.576 Q1483.86 72.576 1480.58 69.3758 Q1477.3 66.1351 1477.3 57.6282 L1477.3 32.9987 L1471.83 32.9987 L1471.83 27.2059 L1477.3 27.2059 L1477.3 14.324 L1484.79 14.324 Z\" fill=\"#000000\" fill-rule=\"evenodd\" fill-opacity=\"1\" /><path clip-path=\"url(#clip980)\" d=\"M1547.66 45.1919 L1547.66 72.576 L1540.21 72.576 L1540.21 45.4349 Q1540.21 38.994 1537.7 35.7938 Q1535.19 32.5936 1530.16 32.5936 Q1524.13 32.5936 1520.64 36.4419 Q1517.16 40.2903 1517.16 46.9338 L1517.16 72.576 L1509.67 72.576 L1509.67 9.54393 L1517.16 9.54393 L1517.16 34.2544 Q1519.83 30.163 1523.44 28.1376 Q1527.09 26.1121 1531.82 26.1121 Q1539.64 26.1121 1543.65 30.9732 Q1547.66 35.7938 1547.66 45.1919 Z\" fill=\"#000000\" fill-rule=\"evenodd\" fill-opacity=\"1\" /><path clip-path=\"url(#clip980)\" d=\"M1589.23 12.096 L1597.41 12.096 L1597.41 72.576 L1589.23 72.576 L1589.23 12.096 Z\" fill=\"#000000\" fill-rule=\"evenodd\" fill-opacity=\"1\" /><path clip-path=\"url(#clip980)\" d=\"M1613.69 12.096 L1621.88 12.096 L1621.88 65.6895 L1651.33 65.6895 L1651.33 72.576 L1613.69 72.576 L1613.69 12.096 Z\" fill=\"#000000\" fill-rule=\"evenodd\" fill-opacity=\"1\" /><path clip-path=\"url(#clip980)\" d=\"M1684.46 17.6457 Q1675.55 17.6457 1670.28 24.2892 Q1665.06 30.9327 1665.06 42.3968 Q1665.06 53.8203 1670.28 60.4638 Q1675.55 67.1073 1684.46 67.1073 Q1693.37 67.1073 1698.56 60.4638 Q1703.79 53.8203 1703.79 42.3968 Q1703.79 30.9327 1698.56 24.2892 Q1693.37 17.6457 1684.46 17.6457 M1695.93 71.4823 L1706.7 83.2704 L1696.82 83.2704 L1687.87 73.5887 Q1686.53 73.6697 1685.8 73.7103 Q1685.11 73.7508 1684.46 73.7508 Q1671.7 73.7508 1664.05 65.2439 Q1656.43 56.6965 1656.43 42.3968 Q1656.43 28.0566 1664.05 19.5497 Q1671.7 11.0023 1684.46 11.0023 Q1697.18 11.0023 1704.8 19.5497 Q1712.41 28.0566 1712.41 42.3968 Q1712.41 52.9291 1708.16 60.4233 Q1703.95 67.9175 1695.93 71.4823 Z\" fill=\"#000000\" fill-rule=\"evenodd\" fill-opacity=\"1\" /><path clip-path=\"url(#clip980)\" d=\"M1753.9 44.2197 Q1756.53 45.1109 1759 48.0275 Q1761.51 50.9442 1764.02 56.0483 L1772.33 72.576 L1763.54 72.576 L1755.8 57.061 Q1752.8 50.9847 1749.97 48.9997 Q1747.17 47.0148 1742.31 47.0148 L1733.4 47.0148 L1733.4 72.576 L1725.21 72.576 L1725.21 12.096 L1743.69 12.096 Q1754.06 12.096 1759.16 16.4305 Q1764.27 20.7649 1764.27 29.5149 Q1764.27 35.2267 1761.59 38.994 Q1758.96 42.7613 1753.9 44.2197 M1733.4 18.8205 L1733.4 40.2903 L1743.69 40.2903 Q1749.6 40.2903 1752.6 37.5762 Q1755.64 34.8216 1755.64 29.5149 Q1755.64 24.2082 1752.6 21.5346 Q1749.6 18.8205 1743.69 18.8205 L1733.4 18.8205 Z\" fill=\"#000000\" fill-rule=\"evenodd\" fill-opacity=\"1\" /><circle clip-path=\"url(#clip982)\" cx=\"235.808\" cy=\"1265.05\" r=\"14\" fill=\"#009af9\" fill-rule=\"evenodd\" fill-opacity=\"1\" stroke=\"#000000\" stroke-opacity=\"1\" stroke-width=\"3.2\"/>\n",
       "<circle clip-path=\"url(#clip982)\" cx=\"2232.82\" cy=\"528.52\" r=\"14\" fill=\"#e26f46\" fill-rule=\"evenodd\" fill-opacity=\"1\" stroke=\"#000000\" stroke-opacity=\"1\" stroke-width=\"3.2\"/>\n",
       "<circle clip-path=\"url(#clip982)\" cx=\"735.061\" cy=\"160.256\" r=\"14\" fill=\"#3da44d\" fill-rule=\"evenodd\" fill-opacity=\"1\" stroke=\"#000000\" stroke-opacity=\"1\" stroke-width=\"3.2\"/>\n",
       "<polyline clip-path=\"url(#clip982)\" style=\"stroke:#c271d2; stroke-linecap:butt; stroke-linejoin:round; stroke-width:4; stroke-opacity:1; fill:none\" points=\"\n",
       "  235.808,1265.05 306.371,1279.84 376.266,1293.71 445.449,1306.63 513.877,1318.61 581.507,1329.64 648.297,1339.7 714.205,1348.8 779.19,1356.92 843.211,1364.06 \n",
       "  906.229,1370.23 968.203,1375.4 1029.1,1379.59 1088.87,1382.78 1147.48,1384.98 1204.9,1386.19 1261.1,1386.4 1316.02,1385.61 1369.65,1383.82 1421.94,1381.04 \n",
       "  1472.87,1377.27 1522.41,1372.51 1570.51,1366.75 1617.16,1360.02 1662.32,1352.3 1705.97,1343.62 1748.09,1333.96 1788.64,1323.34 1827.61,1311.76 1864.98,1299.25 \n",
       "  1900.74,1285.79 1934.87,1271.42 1967.38,1256.13 1998.26,1239.95 2027.51,1222.88 2055.15,1204.96 2081.18,1186.19 2105.63,1166.59 2128.52,1146.19 2149.86,1125.01 \n",
       "  2169.68,1103.08 2187.99,1080.4 2204.81,1057 2220.16,1032.91 2234.03,1008.13 2246.43,982.699 2257.36,956.62 2266.81,929.913 2274.76,902.591 2281.18,874.668 \n",
       "  2286.06,846.156 2289.36,817.065 2291.05,787.407 2291.1,757.192 2289.46,726.43 2286.12,695.132 2281.03,663.308 2274.16,630.972 2265.5,598.136 2255.02,564.816 \n",
       "  2242.72,531.027 \n",
       "  \"/>\n",
       "<path clip-path=\"url(#clip980)\" d=\"\n",
       "M246.769 425.996 L985.153 425.996 L985.153 166.796 L246.769 166.796  Z\n",
       "  \" fill=\"#ffffff\" fill-rule=\"evenodd\" fill-opacity=\"1\"/>\n",
       "<polyline clip-path=\"url(#clip980)\" style=\"stroke:#000000; stroke-linecap:butt; stroke-linejoin:round; stroke-width:4; stroke-opacity:1; fill:none\" points=\"\n",
       "  246.769,425.996 985.153,425.996 985.153,166.796 246.769,166.796 246.769,425.996 \n",
       "  \"/>\n",
       "<circle clip-path=\"url(#clip980)\" cx=\"343.596\" cy=\"218.636\" r=\"23\" fill=\"#009af9\" fill-rule=\"evenodd\" fill-opacity=\"1\" stroke=\"#000000\" stroke-opacity=\"1\" stroke-width=\"5.12\"/>\n",
       "<path clip-path=\"url(#clip980)\" d=\"M458.849 210.754 L458.849 214.782 Q457.043 213.856 455.099 213.393 Q453.155 212.93 451.071 212.93 Q447.9 212.93 446.303 213.902 Q444.729 214.874 444.729 216.819 Q444.729 218.3 445.863 219.157 Q446.997 219.99 450.423 220.754 L451.881 221.078 Q456.418 222.05 458.317 223.832 Q460.238 225.592 460.238 228.763 Q460.238 232.374 457.367 234.481 Q454.52 236.587 449.52 236.587 Q447.437 236.587 445.168 236.17 Q442.923 235.777 440.423 234.967 L440.423 230.569 Q442.784 231.795 445.076 232.42 Q447.368 233.022 449.613 233.022 Q452.622 233.022 454.242 232.004 Q455.863 230.962 455.863 229.087 Q455.863 227.351 454.682 226.425 Q453.525 225.499 449.567 224.643 L448.085 224.295 Q444.127 223.462 442.368 221.749 Q440.608 220.013 440.608 217.004 Q440.608 213.346 443.201 211.356 Q445.793 209.365 450.562 209.365 Q452.923 209.365 455.006 209.712 Q457.09 210.059 458.849 210.754 Z\" fill=\"#000000\" fill-rule=\"evenodd\" fill-opacity=\"1\" /><path clip-path=\"url(#clip980)\" d=\"M471.233 202.629 L471.233 209.99 L480.006 209.99 L480.006 213.3 L471.233 213.3 L471.233 227.374 Q471.233 230.545 472.09 231.448 Q472.969 232.351 475.631 232.351 L480.006 232.351 L480.006 235.916 L475.631 235.916 Q470.701 235.916 468.826 234.087 Q466.951 232.235 466.951 227.374 L466.951 213.3 L463.826 213.3 L463.826 209.99 L466.951 209.99 L466.951 202.629 L471.233 202.629 Z\" fill=\"#000000\" fill-rule=\"evenodd\" fill-opacity=\"1\" /><path clip-path=\"url(#clip980)\" d=\"M497.39 222.883 Q492.228 222.883 490.238 224.064 Q488.247 225.244 488.247 228.092 Q488.247 230.36 489.728 231.703 Q491.233 233.022 493.802 233.022 Q497.344 233.022 499.474 230.522 Q501.626 227.999 501.626 223.832 L501.626 222.883 L497.39 222.883 M505.886 221.124 L505.886 235.916 L501.626 235.916 L501.626 231.981 Q500.168 234.342 497.992 235.476 Q495.816 236.587 492.668 236.587 Q488.687 236.587 486.326 234.365 Q483.988 232.119 483.988 228.369 Q483.988 223.994 486.904 221.772 Q489.844 219.55 495.654 219.55 L501.626 219.55 L501.626 219.133 Q501.626 216.194 499.682 214.596 Q497.761 212.976 494.265 212.976 Q492.043 212.976 489.937 213.508 Q487.83 214.041 485.886 215.106 L485.886 211.17 Q488.224 210.268 490.423 209.828 Q492.622 209.365 494.705 209.365 Q500.33 209.365 503.108 212.282 Q505.886 215.198 505.886 221.124 Z\" fill=\"#000000\" fill-rule=\"evenodd\" fill-opacity=\"1\" /><path clip-path=\"url(#clip980)\" d=\"M529.682 213.971 Q528.964 213.555 528.108 213.37 Q527.274 213.161 526.256 213.161 Q522.645 213.161 520.7 215.522 Q518.779 217.86 518.779 222.258 L518.779 235.916 L514.497 235.916 L514.497 209.99 L518.779 209.99 L518.779 214.018 Q520.122 211.657 522.275 210.522 Q524.427 209.365 527.506 209.365 Q527.946 209.365 528.478 209.434 Q529.011 209.481 529.659 209.596 L529.682 213.971 Z\" fill=\"#000000\" fill-rule=\"evenodd\" fill-opacity=\"1\" /><path clip-path=\"url(#clip980)\" d=\"M538.362 202.629 L538.362 209.99 L547.135 209.99 L547.135 213.3 L538.362 213.3 L538.362 227.374 Q538.362 230.545 539.219 231.448 Q540.098 232.351 542.761 232.351 L547.135 232.351 L547.135 235.916 L542.761 235.916 Q537.83 235.916 535.955 234.087 Q534.08 232.235 534.08 227.374 L534.08 213.3 L530.955 213.3 L530.955 209.99 L534.08 209.99 L534.08 202.629 L538.362 202.629 Z\" fill=\"#000000\" fill-rule=\"evenodd\" fill-opacity=\"1\" /><circle clip-path=\"url(#clip980)\" cx=\"343.596\" cy=\"270.476\" r=\"23\" fill=\"#e26f46\" fill-rule=\"evenodd\" fill-opacity=\"1\" stroke=\"#000000\" stroke-opacity=\"1\" stroke-width=\"5.12\"/>\n",
       "<path clip-path=\"url(#clip980)\" d=\"M465.979 282.825 L465.979 273.543 L458.34 273.543 L458.34 269.7 L470.608 269.7 L470.608 284.538 Q467.9 286.459 464.636 287.455 Q461.372 288.427 457.668 288.427 Q449.567 288.427 444.983 283.705 Q440.423 278.959 440.423 270.51 Q440.423 262.038 444.983 257.316 Q449.567 252.571 457.668 252.571 Q461.048 252.571 464.08 253.404 Q467.136 254.237 469.705 255.858 L469.705 260.835 Q467.113 258.636 464.196 257.524 Q461.279 256.413 458.062 256.413 Q451.719 256.413 448.525 259.955 Q445.354 263.497 445.354 270.51 Q445.354 277.501 448.525 281.043 Q451.719 284.584 458.062 284.584 Q460.539 284.584 462.483 284.168 Q464.428 283.728 465.979 282.825 Z\" fill=\"#000000\" fill-rule=\"evenodd\" fill-opacity=\"1\" /><path clip-path=\"url(#clip980)\" d=\"M489.011 264.816 Q485.585 264.816 483.594 267.501 Q481.603 270.163 481.603 274.816 Q481.603 279.469 483.571 282.154 Q485.562 284.816 489.011 284.816 Q492.414 284.816 494.404 282.131 Q496.395 279.446 496.395 274.816 Q496.395 270.21 494.404 267.524 Q492.414 264.816 489.011 264.816 M489.011 261.205 Q494.566 261.205 497.738 264.816 Q500.909 268.427 500.909 274.816 Q500.909 281.182 497.738 284.816 Q494.566 288.427 489.011 288.427 Q483.432 288.427 480.261 284.816 Q477.113 281.182 477.113 274.816 Q477.113 268.427 480.261 264.816 Q483.432 261.205 489.011 261.205 Z\" fill=\"#000000\" fill-rule=\"evenodd\" fill-opacity=\"1\" /><path clip-path=\"url(#clip980)\" d=\"M519.751 274.723 Q514.589 274.723 512.599 275.904 Q510.608 277.084 510.608 279.932 Q510.608 282.2 512.089 283.543 Q513.594 284.862 516.163 284.862 Q519.705 284.862 521.835 282.362 Q523.987 279.839 523.987 275.672 L523.987 274.723 L519.751 274.723 M528.247 272.964 L528.247 287.756 L523.987 287.756 L523.987 283.821 Q522.529 286.182 520.353 287.316 Q518.177 288.427 515.029 288.427 Q511.048 288.427 508.687 286.205 Q506.349 283.959 506.349 280.209 Q506.349 275.834 509.265 273.612 Q512.205 271.39 518.015 271.39 L523.987 271.39 L523.987 270.973 Q523.987 268.034 522.043 266.436 Q520.122 264.816 516.626 264.816 Q514.404 264.816 512.298 265.348 Q510.191 265.881 508.247 266.946 L508.247 263.01 Q510.585 262.108 512.784 261.668 Q514.983 261.205 517.066 261.205 Q522.691 261.205 525.469 264.122 Q528.247 267.038 528.247 272.964 Z\" fill=\"#000000\" fill-rule=\"evenodd\" fill-opacity=\"1\" /><path clip-path=\"url(#clip980)\" d=\"M537.02 251.737 L541.279 251.737 L541.279 287.756 L537.02 287.756 L537.02 251.737 Z\" fill=\"#000000\" fill-rule=\"evenodd\" fill-opacity=\"1\" /><path clip-path=\"url(#clip980)\" d=\"M566.672 283.821 L574.311 283.821 L574.311 257.455 L566.001 259.122 L566.001 254.862 L574.265 253.196 L578.941 253.196 L578.941 283.821 L586.58 283.821 L586.58 287.756 L566.672 287.756 L566.672 283.821 Z\" fill=\"#000000\" fill-rule=\"evenodd\" fill-opacity=\"1\" /><circle clip-path=\"url(#clip980)\" cx=\"343.596\" cy=\"322.316\" r=\"23\" fill=\"#3da44d\" fill-rule=\"evenodd\" fill-opacity=\"1\" stroke=\"#000000\" stroke-opacity=\"1\" stroke-width=\"5.12\"/>\n",
       "<path clip-path=\"url(#clip980)\" d=\"M465.979 334.665 L465.979 325.383 L458.34 325.383 L458.34 321.54 L470.608 321.54 L470.608 336.378 Q467.9 338.299 464.636 339.295 Q461.372 340.267 457.668 340.267 Q449.567 340.267 444.983 335.545 Q440.423 330.799 440.423 322.35 Q440.423 313.878 444.983 309.156 Q449.567 304.411 457.668 304.411 Q461.048 304.411 464.08 305.244 Q467.136 306.077 469.705 307.698 L469.705 312.675 Q467.113 310.476 464.196 309.364 Q461.279 308.253 458.062 308.253 Q451.719 308.253 448.525 311.795 Q445.354 315.337 445.354 322.35 Q445.354 329.341 448.525 332.883 Q451.719 336.424 458.062 336.424 Q460.539 336.424 462.483 336.008 Q464.428 335.568 465.979 334.665 Z\" fill=\"#000000\" fill-rule=\"evenodd\" fill-opacity=\"1\" /><path clip-path=\"url(#clip980)\" d=\"M489.011 316.656 Q485.585 316.656 483.594 319.341 Q481.603 322.003 481.603 326.656 Q481.603 331.309 483.571 333.994 Q485.562 336.656 489.011 336.656 Q492.414 336.656 494.404 333.971 Q496.395 331.286 496.395 326.656 Q496.395 322.05 494.404 319.364 Q492.414 316.656 489.011 316.656 M489.011 313.045 Q494.566 313.045 497.738 316.656 Q500.909 320.267 500.909 326.656 Q500.909 333.022 497.738 336.656 Q494.566 340.267 489.011 340.267 Q483.432 340.267 480.261 336.656 Q477.113 333.022 477.113 326.656 Q477.113 320.267 480.261 316.656 Q483.432 313.045 489.011 313.045 Z\" fill=\"#000000\" fill-rule=\"evenodd\" fill-opacity=\"1\" /><path clip-path=\"url(#clip980)\" d=\"M519.751 326.563 Q514.589 326.563 512.599 327.744 Q510.608 328.924 510.608 331.772 Q510.608 334.04 512.089 335.383 Q513.594 336.702 516.163 336.702 Q519.705 336.702 521.835 334.202 Q523.987 331.679 523.987 327.512 L523.987 326.563 L519.751 326.563 M528.247 324.804 L528.247 339.596 L523.987 339.596 L523.987 335.661 Q522.529 338.022 520.353 339.156 Q518.177 340.267 515.029 340.267 Q511.048 340.267 508.687 338.045 Q506.349 335.799 506.349 332.049 Q506.349 327.674 509.265 325.452 Q512.205 323.23 518.015 323.23 L523.987 323.23 L523.987 322.813 Q523.987 319.874 522.043 318.276 Q520.122 316.656 516.626 316.656 Q514.404 316.656 512.298 317.188 Q510.191 317.721 508.247 318.786 L508.247 314.85 Q510.585 313.948 512.784 313.508 Q514.983 313.045 517.066 313.045 Q522.691 313.045 525.469 315.962 Q528.247 318.878 528.247 324.804 Z\" fill=\"#000000\" fill-rule=\"evenodd\" fill-opacity=\"1\" /><path clip-path=\"url(#clip980)\" d=\"M537.02 303.577 L541.279 303.577 L541.279 339.596 L537.02 339.596 L537.02 303.577 Z\" fill=\"#000000\" fill-rule=\"evenodd\" fill-opacity=\"1\" /><path clip-path=\"url(#clip980)\" d=\"M569.89 335.661 L586.209 335.661 L586.209 339.596 L564.265 339.596 L564.265 335.661 Q566.927 332.906 571.51 328.276 Q576.117 323.624 577.297 322.281 Q579.543 319.758 580.422 318.022 Q581.325 316.263 581.325 314.573 Q581.325 311.818 579.381 310.082 Q577.459 308.346 574.358 308.346 Q572.159 308.346 569.705 309.11 Q567.274 309.874 564.497 311.425 L564.497 306.702 Q567.321 305.568 569.774 304.989 Q572.228 304.411 574.265 304.411 Q579.635 304.411 582.83 307.096 Q586.024 309.781 586.024 314.272 Q586.024 316.401 585.214 318.323 Q584.427 320.221 582.32 322.813 Q581.742 323.485 578.64 326.702 Q575.538 329.897 569.89 335.661 Z\" fill=\"#000000\" fill-rule=\"evenodd\" fill-opacity=\"1\" /><polyline clip-path=\"url(#clip980)\" style=\"stroke:#c271d2; stroke-linecap:butt; stroke-linejoin:round; stroke-width:4; stroke-opacity:1; fill:none\" points=\"\n",
       "  270.976,374.156 416.216,374.156 \n",
       "  \"/>\n",
       "<path clip-path=\"url(#clip980)\" d=\"M440.423 355.417 L444.682 355.417 L444.682 391.436 L440.423 391.436 L440.423 355.417 Z\" fill=\"#000000\" fill-rule=\"evenodd\" fill-opacity=\"1\" /><path clip-path=\"url(#clip980)\" d=\"M475.77 377.408 L475.77 379.491 L456.187 379.491 Q456.465 383.889 458.826 386.204 Q461.21 388.496 465.446 388.496 Q467.9 388.496 470.191 387.894 Q472.506 387.292 474.775 386.089 L474.775 390.116 Q472.483 391.088 470.076 391.598 Q467.668 392.107 465.191 392.107 Q458.988 392.107 455.354 388.496 Q451.742 384.885 451.742 378.727 Q451.742 372.362 455.168 368.635 Q458.617 364.885 464.451 364.885 Q469.682 364.885 472.715 368.265 Q475.77 371.621 475.77 377.408 M471.511 376.158 Q471.465 372.663 469.543 370.579 Q467.645 368.496 464.497 368.496 Q460.932 368.496 458.779 370.51 Q456.65 372.524 456.326 376.181 L471.511 376.158 Z\" fill=\"#000000\" fill-rule=\"evenodd\" fill-opacity=\"1\" /><path clip-path=\"url(#clip980)\" d=\"M499.821 378.172 Q499.821 373.542 497.9 370.996 Q496.002 368.45 492.552 368.45 Q489.127 368.45 487.205 370.996 Q485.307 373.542 485.307 378.172 Q485.307 382.778 487.205 385.325 Q489.127 387.871 492.552 387.871 Q496.002 387.871 497.9 385.325 Q499.821 382.778 499.821 378.172 M504.08 388.218 Q504.08 394.838 501.14 398.056 Q498.201 401.297 492.136 401.297 Q489.89 401.297 487.9 400.95 Q485.909 400.625 484.034 399.931 L484.034 395.788 Q485.909 396.806 487.738 397.292 Q489.566 397.778 491.464 397.778 Q495.654 397.778 497.738 395.579 Q499.821 393.403 499.821 388.982 L499.821 386.876 Q498.501 389.167 496.441 390.301 Q494.381 391.436 491.511 391.436 Q486.742 391.436 483.826 387.801 Q480.909 384.167 480.909 378.172 Q480.909 372.153 483.826 368.519 Q486.742 364.885 491.511 364.885 Q494.381 364.885 496.441 366.019 Q498.501 367.153 499.821 369.445 L499.821 365.51 L504.08 365.51 L504.08 388.218 Z\" fill=\"#000000\" fill-rule=\"evenodd\" fill-opacity=\"1\" /><path clip-path=\"url(#clip980)\" d=\"M512.853 365.51 L517.113 365.51 L517.113 391.436 L512.853 391.436 L512.853 365.51 M512.853 355.417 L517.113 355.417 L517.113 360.811 L512.853 360.811 L512.853 355.417 Z\" fill=\"#000000\" fill-rule=\"evenodd\" fill-opacity=\"1\" /><path clip-path=\"url(#clip980)\" d=\"M544.636 378.496 Q544.636 373.797 542.691 371.135 Q540.77 368.45 537.39 368.45 Q534.011 368.45 532.066 371.135 Q530.145 373.797 530.145 378.496 Q530.145 383.195 532.066 385.88 Q534.011 388.542 537.39 388.542 Q540.77 388.542 542.691 385.88 Q544.636 383.195 544.636 378.496 M530.145 369.445 Q531.487 367.13 533.524 366.019 Q535.585 364.885 538.432 364.885 Q543.154 364.885 546.094 368.635 Q549.057 372.385 549.057 378.496 Q549.057 384.607 546.094 388.357 Q543.154 392.107 538.432 392.107 Q535.585 392.107 533.524 390.996 Q531.487 389.862 530.145 387.547 L530.145 391.436 L525.862 391.436 L525.862 355.417 L530.145 355.417 L530.145 369.445 Z\" fill=\"#000000\" fill-rule=\"evenodd\" fill-opacity=\"1\" /><path clip-path=\"url(#clip980)\" d=\"M556.117 355.417 L560.376 355.417 L560.376 391.436 L556.117 391.436 L556.117 355.417 Z\" fill=\"#000000\" fill-rule=\"evenodd\" fill-opacity=\"1\" /><path clip-path=\"url(#clip980)\" d=\"M591.464 377.408 L591.464 379.491 L571.881 379.491 Q572.159 383.889 574.52 386.204 Q576.904 388.496 581.14 388.496 Q583.594 388.496 585.885 387.894 Q588.2 387.292 590.469 386.089 L590.469 390.116 Q588.177 391.088 585.77 391.598 Q583.362 392.107 580.885 392.107 Q574.682 392.107 571.047 388.496 Q567.436 384.885 567.436 378.727 Q567.436 372.362 570.862 368.635 Q574.311 364.885 580.145 364.885 Q585.376 364.885 588.408 368.265 Q591.464 371.621 591.464 377.408 M587.205 376.158 Q587.158 372.663 585.237 370.579 Q583.339 368.496 580.191 368.496 Q576.626 368.496 574.473 370.51 Q572.344 372.524 572.02 376.181 L587.205 376.158 Z\" fill=\"#000000\" fill-rule=\"evenodd\" fill-opacity=\"1\" /><path clip-path=\"url(#clip980)\" d=\"M617.644 387.547 L617.644 401.297 L613.362 401.297 L613.362 365.51 L617.644 365.51 L617.644 369.445 Q618.987 367.13 621.024 366.019 Q623.084 364.885 625.931 364.885 Q630.654 364.885 633.593 368.635 Q636.556 372.385 636.556 378.496 Q636.556 384.607 633.593 388.357 Q630.654 392.107 625.931 392.107 Q623.084 392.107 621.024 390.996 Q618.987 389.862 617.644 387.547 M632.135 378.496 Q632.135 373.797 630.191 371.135 Q628.269 368.45 624.89 368.45 Q621.51 368.45 619.566 371.135 Q617.644 373.797 617.644 378.496 Q617.644 383.195 619.566 385.88 Q621.51 388.542 624.89 388.542 Q628.269 388.542 630.191 385.88 Q632.135 383.195 632.135 378.496 Z\" fill=\"#000000\" fill-rule=\"evenodd\" fill-opacity=\"1\" /><path clip-path=\"url(#clip980)\" d=\"M655.399 378.403 Q650.237 378.403 648.246 379.584 Q646.255 380.764 646.255 383.612 Q646.255 385.88 647.737 387.223 Q649.241 388.542 651.811 388.542 Q655.353 388.542 657.482 386.042 Q659.635 383.519 659.635 379.352 L659.635 378.403 L655.399 378.403 M663.894 376.644 L663.894 391.436 L659.635 391.436 L659.635 387.501 Q658.177 389.862 656.001 390.996 Q653.825 392.107 650.677 392.107 Q646.695 392.107 644.334 389.885 Q641.996 387.639 641.996 383.889 Q641.996 379.514 644.913 377.292 Q647.853 375.07 653.663 375.07 L659.635 375.07 L659.635 374.653 Q659.635 371.714 657.69 370.116 Q655.769 368.496 652.274 368.496 Q650.052 368.496 647.945 369.028 Q645.839 369.561 643.894 370.626 L643.894 366.69 Q646.232 365.788 648.431 365.348 Q650.63 364.885 652.714 364.885 Q658.339 364.885 661.116 367.802 Q663.894 370.718 663.894 376.644 Z\" fill=\"#000000\" fill-rule=\"evenodd\" fill-opacity=\"1\" /><path clip-path=\"url(#clip980)\" d=\"M676.88 358.149 L676.88 365.51 L685.653 365.51 L685.653 368.82 L676.88 368.82 L676.88 382.894 Q676.88 386.065 677.737 386.968 Q678.616 387.871 681.278 387.871 L685.653 387.871 L685.653 391.436 L681.278 391.436 Q676.348 391.436 674.473 389.607 Q672.598 387.755 672.598 382.894 L672.598 368.82 L669.473 368.82 L669.473 365.51 L672.598 365.51 L672.598 358.149 L676.88 358.149 Z\" fill=\"#000000\" fill-rule=\"evenodd\" fill-opacity=\"1\" /><path clip-path=\"url(#clip980)\" d=\"M712.806 375.788 L712.806 391.436 L708.547 391.436 L708.547 375.927 Q708.547 372.246 707.111 370.417 Q705.676 368.589 702.806 368.589 Q699.357 368.589 697.366 370.788 Q695.375 372.987 695.375 376.783 L695.375 391.436 L691.093 391.436 L691.093 355.417 L695.375 355.417 L695.375 369.538 Q696.903 367.2 698.963 366.042 Q701.047 364.885 703.755 364.885 Q708.223 364.885 710.514 367.663 Q712.806 370.417 712.806 375.788 Z\" fill=\"#000000\" fill-rule=\"evenodd\" fill-opacity=\"1\" /><path clip-path=\"url(#clip980)\" d=\"M740.584 358.149 L740.584 365.51 L749.357 365.51 L749.357 368.82 L740.584 368.82 L740.584 382.894 Q740.584 386.065 741.44 386.968 Q742.32 387.871 744.982 387.871 L749.357 387.871 L749.357 391.436 L744.982 391.436 Q740.051 391.436 738.176 389.607 Q736.301 387.755 736.301 382.894 L736.301 368.82 L733.176 368.82 L733.176 365.51 L736.301 365.51 L736.301 358.149 L740.584 358.149 Z\" fill=\"#000000\" fill-rule=\"evenodd\" fill-opacity=\"1\" /><path clip-path=\"url(#clip980)\" d=\"M765.005 368.496 Q761.579 368.496 759.588 371.181 Q757.597 373.843 757.597 378.496 Q757.597 383.149 759.565 385.834 Q761.556 388.496 765.005 388.496 Q768.407 388.496 770.398 385.811 Q772.389 383.126 772.389 378.496 Q772.389 373.89 770.398 371.204 Q768.407 368.496 765.005 368.496 M765.005 364.885 Q770.56 364.885 773.732 368.496 Q776.903 372.107 776.903 378.496 Q776.903 384.862 773.732 388.496 Q770.56 392.107 765.005 392.107 Q759.426 392.107 756.255 388.496 Q753.107 384.862 753.107 378.496 Q753.107 372.107 756.255 368.496 Q759.426 364.885 765.005 364.885 Z\" fill=\"#000000\" fill-rule=\"evenodd\" fill-opacity=\"1\" /><path clip-path=\"url(#clip980)\" d=\"M816.092 378.172 Q816.092 373.542 814.171 370.996 Q812.273 368.45 808.824 368.45 Q805.398 368.45 803.477 370.996 Q801.579 373.542 801.579 378.172 Q801.579 382.778 803.477 385.325 Q805.398 387.871 808.824 387.871 Q812.273 387.871 814.171 385.325 Q816.092 382.778 816.092 378.172 M820.352 388.218 Q820.352 394.838 817.412 398.056 Q814.472 401.297 808.407 401.297 Q806.162 401.297 804.171 400.95 Q802.18 400.625 800.305 399.931 L800.305 395.788 Q802.18 396.806 804.009 397.292 Q805.838 397.778 807.736 397.778 Q811.926 397.778 814.009 395.579 Q816.092 393.403 816.092 388.982 L816.092 386.876 Q814.773 389.167 812.713 390.301 Q810.653 391.436 807.782 391.436 Q803.014 391.436 800.097 387.801 Q797.18 384.167 797.18 378.172 Q797.18 372.153 800.097 368.519 Q803.014 364.885 807.782 364.885 Q810.653 364.885 812.713 366.019 Q814.773 367.153 816.092 369.445 L816.092 365.51 L820.352 365.51 L820.352 388.218 Z\" fill=\"#000000\" fill-rule=\"evenodd\" fill-opacity=\"1\" /><path clip-path=\"url(#clip980)\" d=\"M839.171 368.496 Q835.745 368.496 833.754 371.181 Q831.764 373.843 831.764 378.496 Q831.764 383.149 833.731 385.834 Q835.722 388.496 839.171 388.496 Q842.574 388.496 844.564 385.811 Q846.555 383.126 846.555 378.496 Q846.555 373.89 844.564 371.204 Q842.574 368.496 839.171 368.496 M839.171 364.885 Q844.726 364.885 847.898 368.496 Q851.069 372.107 851.069 378.496 Q851.069 384.862 847.898 388.496 Q844.726 392.107 839.171 392.107 Q833.592 392.107 830.421 388.496 Q827.273 384.862 827.273 378.496 Q827.273 372.107 830.421 368.496 Q833.592 364.885 839.171 364.885 Z\" fill=\"#000000\" fill-rule=\"evenodd\" fill-opacity=\"1\" /><path clip-path=\"url(#clip980)\" d=\"M869.912 378.403 Q864.75 378.403 862.759 379.584 Q860.768 380.764 860.768 383.612 Q860.768 385.88 862.25 387.223 Q863.754 388.542 866.324 388.542 Q869.865 388.542 871.995 386.042 Q874.148 383.519 874.148 379.352 L874.148 378.403 L869.912 378.403 M878.407 376.644 L878.407 391.436 L874.148 391.436 L874.148 387.501 Q872.689 389.862 870.513 390.996 Q868.337 392.107 865.189 392.107 Q861.208 392.107 858.847 389.885 Q856.509 387.639 856.509 383.889 Q856.509 379.514 859.425 377.292 Q862.365 375.07 868.175 375.07 L874.148 375.07 L874.148 374.653 Q874.148 371.714 872.203 370.116 Q870.282 368.496 866.787 368.496 Q864.564 368.496 862.458 369.028 Q860.351 369.561 858.407 370.626 L858.407 366.69 Q860.745 365.788 862.944 365.348 Q865.143 364.885 867.226 364.885 Q872.851 364.885 875.629 367.802 Q878.407 370.718 878.407 376.644 Z\" fill=\"#000000\" fill-rule=\"evenodd\" fill-opacity=\"1\" /><path clip-path=\"url(#clip980)\" d=\"M887.18 355.417 L891.439 355.417 L891.439 391.436 L887.18 391.436 L887.18 355.417 Z\" fill=\"#000000\" fill-rule=\"evenodd\" fill-opacity=\"1\" /><path clip-path=\"url(#clip980)\" d=\"M916.833 387.501 L924.471 387.501 L924.471 361.135 L916.161 362.802 L916.161 358.542 L924.425 356.876 L929.101 356.876 L929.101 387.501 L936.74 387.501 L936.74 391.436 L916.833 391.436 L916.833 387.501 Z\" fill=\"#000000\" fill-rule=\"evenodd\" fill-opacity=\"1\" /></svg>\n"
      ]
     },
     "execution_count": 25,
     "metadata": {},
     "output_type": "execute_result"
    },
    {
     "data": {
      "image/svg+xml": [
       "<?xml version=\"1.0\" encoding=\"utf-8\"?>\n",
       "<svg xmlns=\"http://www.w3.org/2000/svg\" xmlns:xlink=\"http://www.w3.org/1999/xlink\" width=\"600\" height=\"400\" viewBox=\"0 0 2400 1600\">\n",
       "<defs>\n",
       "  <clipPath id=\"clip980\">\n",
       "    <rect x=\"0\" y=\"0\" width=\"2400\" height=\"1600\"/>\n",
       "  </clipPath>\n",
       "</defs>\n",
       "<path clip-path=\"url(#clip980)\" d=\"\n",
       "M0 1600 L2400 1600 L2400 0 L0 0  Z\n",
       "  \" fill=\"#ffffff\" fill-rule=\"evenodd\" fill-opacity=\"1\"/>\n",
       "<defs>\n",
       "  <clipPath id=\"clip981\">\n",
       "    <rect x=\"480\" y=\"0\" width=\"1681\" height=\"1600\"/>\n",
       "  </clipPath>\n",
       "</defs>\n",
       "<path clip-path=\"url(#clip980)\" d=\"\n",
       "M174.149 1423.18 L2352.76 1423.18 L2352.76 123.472 L174.149 123.472  Z\n",
       "  \" fill=\"#ffffff\" fill-rule=\"evenodd\" fill-opacity=\"1\"/>\n",
       "<defs>\n",
       "  <clipPath id=\"clip982\">\n",
       "    <rect x=\"174\" y=\"123\" width=\"2180\" height=\"1301\"/>\n",
       "  </clipPath>\n",
       "</defs>\n",
       "<polyline clip-path=\"url(#clip982)\" style=\"stroke:#000000; stroke-linecap:butt; stroke-linejoin:round; stroke-width:2; stroke-opacity:0.1; fill:none\" points=\"\n",
       "  235.808,1423.18 235.808,123.472 \n",
       "  \"/>\n",
       "<polyline clip-path=\"url(#clip982)\" style=\"stroke:#000000; stroke-linecap:butt; stroke-linejoin:round; stroke-width:2; stroke-opacity:0.1; fill:none\" points=\"\n",
       "  735.061,1423.18 735.061,123.472 \n",
       "  \"/>\n",
       "<polyline clip-path=\"url(#clip982)\" style=\"stroke:#000000; stroke-linecap:butt; stroke-linejoin:round; stroke-width:2; stroke-opacity:0.1; fill:none\" points=\"\n",
       "  1234.31,1423.18 1234.31,123.472 \n",
       "  \"/>\n",
       "<polyline clip-path=\"url(#clip982)\" style=\"stroke:#000000; stroke-linecap:butt; stroke-linejoin:round; stroke-width:2; stroke-opacity:0.1; fill:none\" points=\"\n",
       "  1733.57,1423.18 1733.57,123.472 \n",
       "  \"/>\n",
       "<polyline clip-path=\"url(#clip982)\" style=\"stroke:#000000; stroke-linecap:butt; stroke-linejoin:round; stroke-width:2; stroke-opacity:0.1; fill:none\" points=\"\n",
       "  2232.82,1423.18 2232.82,123.472 \n",
       "  \"/>\n",
       "<polyline clip-path=\"url(#clip980)\" style=\"stroke:#000000; stroke-linecap:butt; stroke-linejoin:round; stroke-width:4; stroke-opacity:1; fill:none\" points=\"\n",
       "  174.149,1423.18 2352.76,1423.18 \n",
       "  \"/>\n",
       "<polyline clip-path=\"url(#clip980)\" style=\"stroke:#000000; stroke-linecap:butt; stroke-linejoin:round; stroke-width:4; stroke-opacity:1; fill:none\" points=\"\n",
       "  235.808,1423.18 235.808,1404.28 \n",
       "  \"/>\n",
       "<polyline clip-path=\"url(#clip980)\" style=\"stroke:#000000; stroke-linecap:butt; stroke-linejoin:round; stroke-width:4; stroke-opacity:1; fill:none\" points=\"\n",
       "  735.061,1423.18 735.061,1404.28 \n",
       "  \"/>\n",
       "<polyline clip-path=\"url(#clip980)\" style=\"stroke:#000000; stroke-linecap:butt; stroke-linejoin:round; stroke-width:4; stroke-opacity:1; fill:none\" points=\"\n",
       "  1234.31,1423.18 1234.31,1404.28 \n",
       "  \"/>\n",
       "<polyline clip-path=\"url(#clip980)\" style=\"stroke:#000000; stroke-linecap:butt; stroke-linejoin:round; stroke-width:4; stroke-opacity:1; fill:none\" points=\"\n",
       "  1733.57,1423.18 1733.57,1404.28 \n",
       "  \"/>\n",
       "<polyline clip-path=\"url(#clip980)\" style=\"stroke:#000000; stroke-linecap:butt; stroke-linejoin:round; stroke-width:4; stroke-opacity:1; fill:none\" points=\"\n",
       "  2232.82,1423.18 2232.82,1404.28 \n",
       "  \"/>\n",
       "<path clip-path=\"url(#clip980)\" d=\"M235.808 1454.1 Q232.197 1454.1 230.368 1457.66 Q228.562 1461.2 228.562 1468.33 Q228.562 1475.44 230.368 1479.01 Q232.197 1482.55 235.808 1482.55 Q239.442 1482.55 241.247 1479.01 Q243.076 1475.44 243.076 1468.33 Q243.076 1461.2 241.247 1457.66 Q239.442 1454.1 235.808 1454.1 M235.808 1450.39 Q241.618 1450.39 244.673 1455 Q247.752 1459.58 247.752 1468.33 Q247.752 1477.06 244.673 1481.67 Q241.618 1486.25 235.808 1486.25 Q229.997 1486.25 226.919 1481.67 Q223.863 1477.06 223.863 1468.33 Q223.863 1459.58 226.919 1455 Q229.997 1450.39 235.808 1450.39 Z\" fill=\"#000000\" fill-rule=\"evenodd\" fill-opacity=\"1\" /><path clip-path=\"url(#clip980)\" d=\"M725.443 1481.64 L733.082 1481.64 L733.082 1455.28 L724.772 1456.95 L724.772 1452.69 L733.036 1451.02 L737.712 1451.02 L737.712 1481.64 L745.35 1481.64 L745.35 1485.58 L725.443 1485.58 L725.443 1481.64 Z\" fill=\"#000000\" fill-rule=\"evenodd\" fill-opacity=\"1\" /><path clip-path=\"url(#clip980)\" d=\"M1228.97 1481.64 L1245.29 1481.64 L1245.29 1485.58 L1223.34 1485.58 L1223.34 1481.64 Q1226 1478.89 1230.59 1474.26 Q1235.19 1469.61 1236.37 1468.27 Q1238.62 1465.74 1239.5 1464.01 Q1240.4 1462.25 1240.4 1460.56 Q1240.4 1457.8 1238.46 1456.07 Q1236.54 1454.33 1233.43 1454.33 Q1231.24 1454.33 1228.78 1455.09 Q1226.35 1455.86 1223.57 1457.41 L1223.57 1452.69 Q1226.4 1451.55 1228.85 1450.97 Q1231.31 1450.39 1233.34 1450.39 Q1238.71 1450.39 1241.91 1453.08 Q1245.1 1455.77 1245.1 1460.26 Q1245.1 1462.39 1244.29 1464.31 Q1243.5 1466.2 1241.4 1468.8 Q1240.82 1469.47 1237.72 1472.69 Q1234.62 1475.88 1228.97 1481.64 Z\" fill=\"#000000\" fill-rule=\"evenodd\" fill-opacity=\"1\" /><path clip-path=\"url(#clip980)\" d=\"M1737.82 1466.95 Q1741.17 1467.66 1743.05 1469.93 Q1744.95 1472.2 1744.95 1475.53 Q1744.95 1480.65 1741.43 1483.45 Q1737.91 1486.25 1731.43 1486.25 Q1729.25 1486.25 1726.94 1485.81 Q1724.64 1485.39 1722.19 1484.54 L1722.19 1480.02 Q1724.14 1481.16 1726.45 1481.74 Q1728.76 1482.32 1731.29 1482.32 Q1735.69 1482.32 1737.98 1480.58 Q1740.29 1478.84 1740.29 1475.53 Q1740.29 1472.48 1738.14 1470.77 Q1736.01 1469.03 1732.19 1469.03 L1728.16 1469.03 L1728.16 1465.19 L1732.38 1465.19 Q1735.82 1465.19 1737.65 1463.82 Q1739.48 1462.43 1739.48 1459.84 Q1739.48 1457.18 1737.58 1455.77 Q1735.71 1454.33 1732.19 1454.33 Q1730.27 1454.33 1728.07 1454.75 Q1725.87 1455.16 1723.23 1456.04 L1723.23 1451.88 Q1725.89 1451.14 1728.21 1450.77 Q1730.55 1450.39 1732.61 1450.39 Q1737.93 1450.39 1741.03 1452.83 Q1744.14 1455.23 1744.14 1459.35 Q1744.14 1462.22 1742.49 1464.21 Q1740.85 1466.18 1737.82 1466.95 Z\" fill=\"#000000\" fill-rule=\"evenodd\" fill-opacity=\"1\" /><path clip-path=\"url(#clip980)\" d=\"M2235.83 1455.09 L2224.03 1473.54 L2235.83 1473.54 L2235.83 1455.09 M2234.6 1451.02 L2240.48 1451.02 L2240.48 1473.54 L2245.41 1473.54 L2245.41 1477.43 L2240.48 1477.43 L2240.48 1485.58 L2235.83 1485.58 L2235.83 1477.43 L2220.23 1477.43 L2220.23 1472.92 L2234.6 1451.02 Z\" fill=\"#000000\" fill-rule=\"evenodd\" fill-opacity=\"1\" /><path clip-path=\"url(#clip980)\" d=\"M1245.28 1520.52 L1252.19 1520.52 L1263.99 1538.19 L1275.87 1520.52 L1282.77 1520.52 L1267.49 1543.34 L1283.79 1568.04 L1276.88 1568.04 L1263.52 1547.83 L1250.05 1568.04 L1243.11 1568.04 L1260.08 1542.68 L1245.28 1520.52 Z\" fill=\"#000000\" fill-rule=\"evenodd\" fill-opacity=\"1\" /><polyline clip-path=\"url(#clip982)\" style=\"stroke:#000000; stroke-linecap:butt; stroke-linejoin:round; stroke-width:2; stroke-opacity:0.1; fill:none\" points=\"\n",
       "  174.149,1265.05 2352.76,1265.05 \n",
       "  \"/>\n",
       "<polyline clip-path=\"url(#clip982)\" style=\"stroke:#000000; stroke-linecap:butt; stroke-linejoin:round; stroke-width:2; stroke-opacity:0.1; fill:none\" points=\"\n",
       "  174.149,896.784 2352.76,896.784 \n",
       "  \"/>\n",
       "<polyline clip-path=\"url(#clip982)\" style=\"stroke:#000000; stroke-linecap:butt; stroke-linejoin:round; stroke-width:2; stroke-opacity:0.1; fill:none\" points=\"\n",
       "  174.149,528.52 2352.76,528.52 \n",
       "  \"/>\n",
       "<polyline clip-path=\"url(#clip982)\" style=\"stroke:#000000; stroke-linecap:butt; stroke-linejoin:round; stroke-width:2; stroke-opacity:0.1; fill:none\" points=\"\n",
       "  174.149,160.256 2352.76,160.256 \n",
       "  \"/>\n",
       "<polyline clip-path=\"url(#clip980)\" style=\"stroke:#000000; stroke-linecap:butt; stroke-linejoin:round; stroke-width:4; stroke-opacity:1; fill:none\" points=\"\n",
       "  174.149,1423.18 174.149,123.472 \n",
       "  \"/>\n",
       "<polyline clip-path=\"url(#clip980)\" style=\"stroke:#000000; stroke-linecap:butt; stroke-linejoin:round; stroke-width:4; stroke-opacity:1; fill:none\" points=\"\n",
       "  174.149,1265.05 193.047,1265.05 \n",
       "  \"/>\n",
       "<polyline clip-path=\"url(#clip980)\" style=\"stroke:#000000; stroke-linecap:butt; stroke-linejoin:round; stroke-width:4; stroke-opacity:1; fill:none\" points=\"\n",
       "  174.149,896.784 193.047,896.784 \n",
       "  \"/>\n",
       "<polyline clip-path=\"url(#clip980)\" style=\"stroke:#000000; stroke-linecap:butt; stroke-linejoin:round; stroke-width:4; stroke-opacity:1; fill:none\" points=\"\n",
       "  174.149,528.52 193.047,528.52 \n",
       "  \"/>\n",
       "<polyline clip-path=\"url(#clip980)\" style=\"stroke:#000000; stroke-linecap:butt; stroke-linejoin:round; stroke-width:4; stroke-opacity:1; fill:none\" points=\"\n",
       "  174.149,160.256 193.047,160.256 \n",
       "  \"/>\n",
       "<path clip-path=\"url(#clip980)\" d=\"M126.205 1250.85 Q122.593 1250.85 120.765 1254.41 Q118.959 1257.95 118.959 1265.08 Q118.959 1272.19 120.765 1275.75 Q122.593 1279.3 126.205 1279.3 Q129.839 1279.3 131.644 1275.75 Q133.473 1272.19 133.473 1265.08 Q133.473 1257.95 131.644 1254.41 Q129.839 1250.85 126.205 1250.85 M126.205 1247.14 Q132.015 1247.14 135.07 1251.75 Q138.149 1256.33 138.149 1265.08 Q138.149 1273.81 135.07 1278.42 Q132.015 1283 126.205 1283 Q120.394 1283 117.316 1278.42 Q114.26 1273.81 114.26 1265.08 Q114.26 1256.33 117.316 1251.75 Q120.394 1247.14 126.205 1247.14 Z\" fill=\"#000000\" fill-rule=\"evenodd\" fill-opacity=\"1\" /><path clip-path=\"url(#clip980)\" d=\"M118.242 910.129 L125.88 910.129 L125.88 883.763 L117.57 885.43 L117.57 881.171 L125.834 879.504 L130.51 879.504 L130.51 910.129 L138.149 910.129 L138.149 914.064 L118.242 914.064 L118.242 910.129 Z\" fill=\"#000000\" fill-rule=\"evenodd\" fill-opacity=\"1\" /><path clip-path=\"url(#clip980)\" d=\"M121.83 541.865 L138.149 541.865 L138.149 545.8 L116.205 545.8 L116.205 541.865 Q118.867 539.11 123.45 534.481 Q128.056 529.828 129.237 528.485 Q131.482 525.962 132.362 524.226 Q133.265 522.467 133.265 520.777 Q133.265 518.022 131.32 516.286 Q129.399 514.55 126.297 514.55 Q124.098 514.55 121.644 515.314 Q119.214 516.078 116.436 517.629 L116.436 512.907 Q119.26 511.773 121.714 511.194 Q124.168 510.615 126.205 510.615 Q131.575 510.615 134.769 513.3 Q137.964 515.985 137.964 520.476 Q137.964 522.606 137.154 524.527 Q136.367 526.425 134.26 529.018 Q133.681 529.689 130.58 532.907 Q127.478 536.101 121.83 541.865 Z\" fill=\"#000000\" fill-rule=\"evenodd\" fill-opacity=\"1\" /><path clip-path=\"url(#clip980)\" d=\"M131.019 158.902 Q134.376 159.62 136.251 161.888 Q138.149 164.157 138.149 167.49 Q138.149 172.606 134.63 175.407 Q131.112 178.208 124.63 178.208 Q122.455 178.208 120.14 177.768 Q117.848 177.351 115.394 176.495 L115.394 171.981 Q117.339 173.115 119.654 173.694 Q121.968 174.272 124.492 174.272 Q128.89 174.272 131.181 172.536 Q133.496 170.8 133.496 167.49 Q133.496 164.435 131.343 162.722 Q129.214 160.985 125.394 160.985 L121.367 160.985 L121.367 157.143 L125.58 157.143 Q129.029 157.143 130.857 155.777 Q132.686 154.388 132.686 151.796 Q132.686 149.134 130.788 147.722 Q128.913 146.286 125.394 146.286 Q123.473 146.286 121.274 146.703 Q119.075 147.12 116.436 147.999 L116.436 143.833 Q119.098 143.092 121.413 142.722 Q123.751 142.351 125.811 142.351 Q131.135 142.351 134.237 144.782 Q137.339 147.189 137.339 151.31 Q137.339 154.18 135.695 156.171 Q134.052 158.138 131.019 158.902 Z\" fill=\"#000000\" fill-rule=\"evenodd\" fill-opacity=\"1\" /><path clip-path=\"url(#clip980)\" d=\"M16.4842 793.362 L16.4842 786.455 L36.0269 773.278 L16.4842 760.197 L16.4842 753.29 L41.3741 770.095 L64.0042 770.095 L64.0042 776.557 L41.3741 776.557 L16.4842 793.362 Z\" fill=\"#000000\" fill-rule=\"evenodd\" fill-opacity=\"1\" /><path clip-path=\"url(#clip980)\" d=\"M754.578 12.096 L762.761 12.096 L762.761 65.6895 L792.211 65.6895 L792.211 72.576 L754.578 72.576 L754.578 12.096 Z\" fill=\"#000000\" fill-rule=\"evenodd\" fill-opacity=\"1\" /><path clip-path=\"url(#clip980)\" d=\"M837.824 48.0275 L837.824 51.6733 L803.553 51.6733 Q804.039 59.3701 808.171 63.421 Q812.344 67.4314 819.757 67.4314 Q824.051 67.4314 828.061 66.3781 Q832.112 65.3249 836.082 63.2184 L836.082 70.267 Q832.072 71.9684 827.859 72.8596 Q823.646 73.7508 819.311 73.7508 Q808.455 73.7508 802.095 67.4314 Q795.776 61.1119 795.776 50.3365 Q795.776 39.1965 801.771 32.6746 Q807.807 26.1121 818.015 26.1121 Q827.17 26.1121 832.477 32.0264 Q837.824 37.9003 837.824 48.0275 M830.37 45.84 Q830.289 39.7232 826.927 36.0774 Q823.605 32.4315 818.096 32.4315 Q811.858 32.4315 808.09 35.9558 Q804.363 39.4801 803.796 45.8805 L830.37 45.84 Z\" fill=\"#000000\" fill-rule=\"evenodd\" fill-opacity=\"1\" /><path clip-path=\"url(#clip980)\" d=\"M879.913 49.3643 Q879.913 41.2625 876.551 36.8065 Q873.229 32.3505 867.193 32.3505 Q861.198 32.3505 857.835 36.8065 Q854.514 41.2625 854.514 49.3643 Q854.514 57.4256 857.835 61.8816 Q861.198 66.3376 867.193 66.3376 Q873.229 66.3376 876.551 61.8816 Q879.913 57.4256 879.913 49.3643 M887.366 66.9452 Q887.366 78.5308 882.222 84.1616 Q877.077 89.8329 866.464 89.8329 Q862.534 89.8329 859.051 89.2252 Q855.567 88.6581 852.286 87.4428 L852.286 80.1917 Q855.567 81.9741 858.767 82.8248 Q861.967 83.6755 865.289 83.6755 Q872.621 83.6755 876.267 79.8271 Q879.913 76.0193 879.913 68.282 L879.913 64.5957 Q877.604 68.6061 873.998 70.5911 Q870.393 72.576 865.37 72.576 Q857.025 72.576 851.921 66.2161 Q846.817 59.8562 846.817 49.3643 Q846.817 38.832 851.921 32.472 Q857.025 26.1121 865.37 26.1121 Q870.393 26.1121 873.998 28.0971 Q877.604 30.082 879.913 34.0924 L879.913 27.2059 L887.366 27.2059 L887.366 66.9452 Z\" fill=\"#000000\" fill-rule=\"evenodd\" fill-opacity=\"1\" /><path clip-path=\"url(#clip980)\" d=\"M902.719 27.2059 L910.173 27.2059 L910.173 72.576 L902.719 72.576 L902.719 27.2059 M902.719 9.54393 L910.173 9.54393 L910.173 18.9825 L902.719 18.9825 L902.719 9.54393 Z\" fill=\"#000000\" fill-rule=\"evenodd\" fill-opacity=\"1\" /><path clip-path=\"url(#clip980)\" d=\"M958.338 49.9314 Q958.338 41.7081 954.936 37.0496 Q951.573 32.3505 945.659 32.3505 Q939.745 32.3505 936.342 37.0496 Q932.98 41.7081 932.98 49.9314 Q932.98 58.1548 936.342 62.8538 Q939.745 67.5124 945.659 67.5124 Q951.573 67.5124 954.936 62.8538 Q958.338 58.1548 958.338 49.9314 M932.98 34.0924 Q935.329 30.0415 938.894 28.0971 Q942.499 26.1121 947.482 26.1121 Q955.746 26.1121 960.89 32.6746 Q966.076 39.2371 966.076 49.9314 Q966.076 60.6258 960.89 67.1883 Q955.746 73.7508 947.482 73.7508 Q942.499 73.7508 938.894 71.8063 Q935.329 69.8214 932.98 65.7705 L932.98 72.576 L925.485 72.576 L925.485 9.54393 L932.98 9.54393 L932.98 34.0924 Z\" fill=\"#000000\" fill-rule=\"evenodd\" fill-opacity=\"1\" /><path clip-path=\"url(#clip980)\" d=\"M978.431 9.54393 L985.884 9.54393 L985.884 72.576 L978.431 72.576 L978.431 9.54393 Z\" fill=\"#000000\" fill-rule=\"evenodd\" fill-opacity=\"1\" /><path clip-path=\"url(#clip980)\" d=\"M1040.29 48.0275 L1040.29 51.6733 L1006.02 51.6733 Q1006.5 59.3701 1010.64 63.421 Q1014.81 67.4314 1022.22 67.4314 Q1026.52 67.4314 1030.53 66.3781 Q1034.58 65.3249 1038.55 63.2184 L1038.55 70.267 Q1034.54 71.9684 1030.32 72.8596 Q1026.11 73.7508 1021.78 73.7508 Q1010.92 73.7508 1004.56 67.4314 Q998.24 61.1119 998.24 50.3365 Q998.24 39.1965 1004.24 32.6746 Q1010.27 26.1121 1020.48 26.1121 Q1029.63 26.1121 1034.94 32.0264 Q1040.29 37.9003 1040.29 48.0275 M1032.83 45.84 Q1032.75 39.7232 1029.39 36.0774 Q1026.07 32.4315 1020.56 32.4315 Q1014.32 32.4315 1010.55 35.9558 Q1006.83 39.4801 1006.26 45.8805 L1032.83 45.84 Z\" fill=\"#000000\" fill-rule=\"evenodd\" fill-opacity=\"1\" /><path clip-path=\"url(#clip980)\" d=\"M1079.22 12.096 L1091.41 12.096 L1106.84 53.2532 L1122.36 12.096 L1134.55 12.096 L1134.55 72.576 L1126.57 72.576 L1126.57 19.4686 L1110.98 60.9499 L1102.75 60.9499 L1087.16 19.4686 L1087.16 72.576 L1079.22 72.576 L1079.22 12.096 Z\" fill=\"#000000\" fill-rule=\"evenodd\" fill-opacity=\"1\" /><path clip-path=\"url(#clip980)\" d=\"M1168.05 32.4315 Q1162.06 32.4315 1158.57 37.1306 Q1155.09 41.7891 1155.09 49.9314 Q1155.09 58.0738 1158.53 62.7728 Q1162.02 67.4314 1168.05 67.4314 Q1174.01 67.4314 1177.49 62.7323 Q1180.98 58.0333 1180.98 49.9314 Q1180.98 41.8701 1177.49 37.1711 Q1174.01 32.4315 1168.05 32.4315 M1168.05 26.1121 Q1177.78 26.1121 1183.33 32.4315 Q1188.88 38.7509 1188.88 49.9314 Q1188.88 61.0714 1183.33 67.4314 Q1177.78 73.7508 1168.05 73.7508 Q1158.29 73.7508 1152.74 67.4314 Q1147.23 61.0714 1147.23 49.9314 Q1147.23 38.7509 1152.74 32.4315 Q1158.29 26.1121 1168.05 26.1121 Z\" fill=\"#000000\" fill-rule=\"evenodd\" fill-opacity=\"1\" /><path clip-path=\"url(#clip980)\" d=\"M1208.6 14.324 L1208.6 27.2059 L1223.96 27.2059 L1223.96 32.9987 L1208.6 32.9987 L1208.6 57.6282 Q1208.6 63.1779 1210.1 64.7578 Q1211.64 66.3376 1216.3 66.3376 L1223.96 66.3376 L1223.96 72.576 L1216.3 72.576 Q1207.67 72.576 1204.39 69.3758 Q1201.11 66.1351 1201.11 57.6282 L1201.11 32.9987 L1195.64 32.9987 L1195.64 27.2059 L1201.11 27.2059 L1201.11 14.324 L1208.6 14.324 Z\" fill=\"#000000\" fill-rule=\"evenodd\" fill-opacity=\"1\" /><path clip-path=\"url(#clip980)\" d=\"M1233.76 27.2059 L1241.21 27.2059 L1241.21 72.576 L1233.76 72.576 L1233.76 27.2059 M1233.76 9.54393 L1241.21 9.54393 L1241.21 18.9825 L1233.76 18.9825 L1233.76 9.54393 Z\" fill=\"#000000\" fill-rule=\"evenodd\" fill-opacity=\"1\" /><path clip-path=\"url(#clip980)\" d=\"M1274.39 32.4315 Q1268.39 32.4315 1264.91 37.1306 Q1261.43 41.7891 1261.43 49.9314 Q1261.43 58.0738 1264.87 62.7728 Q1268.35 67.4314 1274.39 67.4314 Q1280.34 67.4314 1283.83 62.7323 Q1287.31 58.0333 1287.31 49.9314 Q1287.31 41.8701 1283.83 37.1711 Q1280.34 32.4315 1274.39 32.4315 M1274.39 26.1121 Q1284.11 26.1121 1289.66 32.4315 Q1295.21 38.7509 1295.21 49.9314 Q1295.21 61.0714 1289.66 67.4314 Q1284.11 73.7508 1274.39 73.7508 Q1264.63 73.7508 1259.08 67.4314 Q1253.57 61.0714 1253.57 49.9314 Q1253.57 38.7509 1259.08 32.4315 Q1264.63 26.1121 1274.39 26.1121 Z\" fill=\"#000000\" fill-rule=\"evenodd\" fill-opacity=\"1\" /><path clip-path=\"url(#clip980)\" d=\"M1345.28 45.1919 L1345.28 72.576 L1337.83 72.576 L1337.83 45.4349 Q1337.83 38.994 1335.32 35.7938 Q1332.8 32.5936 1327.78 32.5936 Q1321.74 32.5936 1318.26 36.4419 Q1314.78 40.2903 1314.78 46.9338 L1314.78 72.576 L1307.28 72.576 L1307.28 27.2059 L1314.78 27.2059 L1314.78 34.2544 Q1317.45 30.163 1321.06 28.1376 Q1324.7 26.1121 1329.44 26.1121 Q1337.26 26.1121 1341.27 30.9732 Q1345.28 35.7938 1345.28 45.1919 Z\" fill=\"#000000\" fill-rule=\"evenodd\" fill-opacity=\"1\" /><path clip-path=\"url(#clip980)\" d=\"M1382.18 27.2059 L1389.64 27.2059 L1398.96 62.6108 L1408.23 27.2059 L1417.02 27.2059 L1426.34 62.6108 L1435.62 27.2059 L1443.07 27.2059 L1431.2 72.576 L1422.41 72.576 L1412.65 35.3887 L1402.84 72.576 L1394.05 72.576 L1382.18 27.2059 Z\" fill=\"#000000\" fill-rule=\"evenodd\" fill-opacity=\"1\" /><path clip-path=\"url(#clip980)\" d=\"M1454.37 27.2059 L1461.83 27.2059 L1461.83 72.576 L1454.37 72.576 L1454.37 27.2059 M1454.37 9.54393 L1461.83 9.54393 L1461.83 18.9825 L1454.37 18.9825 L1454.37 9.54393 Z\" fill=\"#000000\" fill-rule=\"evenodd\" fill-opacity=\"1\" /><path clip-path=\"url(#clip980)\" d=\"M1484.79 14.324 L1484.79 27.2059 L1500.15 27.2059 L1500.15 32.9987 L1484.79 32.9987 L1484.79 57.6282 Q1484.79 63.1779 1486.29 64.7578 Q1487.83 66.3376 1492.49 66.3376 L1500.15 66.3376 L1500.15 72.576 L1492.49 72.576 Q1483.86 72.576 1480.58 69.3758 Q1477.3 66.1351 1477.3 57.6282 L1477.3 32.9987 L1471.83 32.9987 L1471.83 27.2059 L1477.3 27.2059 L1477.3 14.324 L1484.79 14.324 Z\" fill=\"#000000\" fill-rule=\"evenodd\" fill-opacity=\"1\" /><path clip-path=\"url(#clip980)\" d=\"M1547.66 45.1919 L1547.66 72.576 L1540.21 72.576 L1540.21 45.4349 Q1540.21 38.994 1537.7 35.7938 Q1535.19 32.5936 1530.16 32.5936 Q1524.13 32.5936 1520.64 36.4419 Q1517.16 40.2903 1517.16 46.9338 L1517.16 72.576 L1509.67 72.576 L1509.67 9.54393 L1517.16 9.54393 L1517.16 34.2544 Q1519.83 30.163 1523.44 28.1376 Q1527.09 26.1121 1531.82 26.1121 Q1539.64 26.1121 1543.65 30.9732 Q1547.66 35.7938 1547.66 45.1919 Z\" fill=\"#000000\" fill-rule=\"evenodd\" fill-opacity=\"1\" /><path clip-path=\"url(#clip980)\" d=\"M1589.23 12.096 L1597.41 12.096 L1597.41 72.576 L1589.23 72.576 L1589.23 12.096 Z\" fill=\"#000000\" fill-rule=\"evenodd\" fill-opacity=\"1\" /><path clip-path=\"url(#clip980)\" d=\"M1613.69 12.096 L1621.88 12.096 L1621.88 65.6895 L1651.33 65.6895 L1651.33 72.576 L1613.69 72.576 L1613.69 12.096 Z\" fill=\"#000000\" fill-rule=\"evenodd\" fill-opacity=\"1\" /><path clip-path=\"url(#clip980)\" d=\"M1684.46 17.6457 Q1675.55 17.6457 1670.28 24.2892 Q1665.06 30.9327 1665.06 42.3968 Q1665.06 53.8203 1670.28 60.4638 Q1675.55 67.1073 1684.46 67.1073 Q1693.37 67.1073 1698.56 60.4638 Q1703.79 53.8203 1703.79 42.3968 Q1703.79 30.9327 1698.56 24.2892 Q1693.37 17.6457 1684.46 17.6457 M1695.93 71.4823 L1706.7 83.2704 L1696.82 83.2704 L1687.87 73.5887 Q1686.53 73.6697 1685.8 73.7103 Q1685.11 73.7508 1684.46 73.7508 Q1671.7 73.7508 1664.05 65.2439 Q1656.43 56.6965 1656.43 42.3968 Q1656.43 28.0566 1664.05 19.5497 Q1671.7 11.0023 1684.46 11.0023 Q1697.18 11.0023 1704.8 19.5497 Q1712.41 28.0566 1712.41 42.3968 Q1712.41 52.9291 1708.16 60.4233 Q1703.95 67.9175 1695.93 71.4823 Z\" fill=\"#000000\" fill-rule=\"evenodd\" fill-opacity=\"1\" /><path clip-path=\"url(#clip980)\" d=\"M1753.9 44.2197 Q1756.53 45.1109 1759 48.0275 Q1761.51 50.9442 1764.02 56.0483 L1772.33 72.576 L1763.54 72.576 L1755.8 57.061 Q1752.8 50.9847 1749.97 48.9997 Q1747.17 47.0148 1742.31 47.0148 L1733.4 47.0148 L1733.4 72.576 L1725.21 72.576 L1725.21 12.096 L1743.69 12.096 Q1754.06 12.096 1759.16 16.4305 Q1764.27 20.7649 1764.27 29.5149 Q1764.27 35.2267 1761.59 38.994 Q1758.96 42.7613 1753.9 44.2197 M1733.4 18.8205 L1733.4 40.2903 L1743.69 40.2903 Q1749.6 40.2903 1752.6 37.5762 Q1755.64 34.8216 1755.64 29.5149 Q1755.64 24.2082 1752.6 21.5346 Q1749.6 18.8205 1743.69 18.8205 L1733.4 18.8205 Z\" fill=\"#000000\" fill-rule=\"evenodd\" fill-opacity=\"1\" /><circle clip-path=\"url(#clip982)\" cx=\"235.808\" cy=\"1265.05\" r=\"14\" fill=\"#009af9\" fill-rule=\"evenodd\" fill-opacity=\"1\" stroke=\"#000000\" stroke-opacity=\"1\" stroke-width=\"3.2\"/>\n",
       "<circle clip-path=\"url(#clip982)\" cx=\"2232.82\" cy=\"528.52\" r=\"14\" fill=\"#e26f46\" fill-rule=\"evenodd\" fill-opacity=\"1\" stroke=\"#000000\" stroke-opacity=\"1\" stroke-width=\"3.2\"/>\n",
       "<circle clip-path=\"url(#clip982)\" cx=\"735.061\" cy=\"160.256\" r=\"14\" fill=\"#3da44d\" fill-rule=\"evenodd\" fill-opacity=\"1\" stroke=\"#000000\" stroke-opacity=\"1\" stroke-width=\"3.2\"/>\n",
       "<polyline clip-path=\"url(#clip982)\" style=\"stroke:#c271d2; stroke-linecap:butt; stroke-linejoin:round; stroke-width:4; stroke-opacity:1; fill:none\" points=\"\n",
       "  235.808,1265.05 306.371,1279.84 376.266,1293.71 445.449,1306.63 513.877,1318.61 581.507,1329.64 648.297,1339.7 714.205,1348.8 779.19,1356.92 843.211,1364.06 \n",
       "  906.229,1370.23 968.203,1375.4 1029.1,1379.59 1088.87,1382.78 1147.48,1384.98 1204.9,1386.19 1261.1,1386.4 1316.02,1385.61 1369.65,1383.82 1421.94,1381.04 \n",
       "  1472.87,1377.27 1522.41,1372.51 1570.51,1366.75 1617.16,1360.02 1662.32,1352.3 1705.97,1343.62 1748.09,1333.96 1788.64,1323.34 1827.61,1311.76 1864.98,1299.25 \n",
       "  1900.74,1285.79 1934.87,1271.42 1967.38,1256.13 1998.26,1239.95 2027.51,1222.88 2055.15,1204.96 2081.18,1186.19 2105.63,1166.59 2128.52,1146.19 2149.86,1125.01 \n",
       "  2169.68,1103.08 2187.99,1080.4 2204.81,1057 2220.16,1032.91 2234.03,1008.13 2246.43,982.699 2257.36,956.62 2266.81,929.913 2274.76,902.591 2281.18,874.668 \n",
       "  2286.06,846.156 2289.36,817.065 2291.05,787.407 2291.1,757.192 2289.46,726.43 2286.12,695.132 2281.03,663.308 2274.16,630.972 2265.5,598.136 2255.02,564.816 \n",
       "  2242.72,531.027 \n",
       "  \"/>\n",
       "<path clip-path=\"url(#clip980)\" d=\"\n",
       "M246.769 425.996 L985.153 425.996 L985.153 166.796 L246.769 166.796  Z\n",
       "  \" fill=\"#ffffff\" fill-rule=\"evenodd\" fill-opacity=\"1\"/>\n",
       "<polyline clip-path=\"url(#clip980)\" style=\"stroke:#000000; stroke-linecap:butt; stroke-linejoin:round; stroke-width:4; stroke-opacity:1; fill:none\" points=\"\n",
       "  246.769,425.996 985.153,425.996 985.153,166.796 246.769,166.796 246.769,425.996 \n",
       "  \"/>\n",
       "<circle clip-path=\"url(#clip980)\" cx=\"343.596\" cy=\"218.636\" r=\"23\" fill=\"#009af9\" fill-rule=\"evenodd\" fill-opacity=\"1\" stroke=\"#000000\" stroke-opacity=\"1\" stroke-width=\"5.12\"/>\n",
       "<path clip-path=\"url(#clip980)\" d=\"M458.849 210.754 L458.849 214.782 Q457.043 213.856 455.099 213.393 Q453.155 212.93 451.071 212.93 Q447.9 212.93 446.303 213.902 Q444.729 214.874 444.729 216.819 Q444.729 218.3 445.863 219.157 Q446.997 219.99 450.423 220.754 L451.881 221.078 Q456.418 222.05 458.317 223.832 Q460.238 225.592 460.238 228.763 Q460.238 232.374 457.367 234.481 Q454.52 236.587 449.52 236.587 Q447.437 236.587 445.168 236.17 Q442.923 235.777 440.423 234.967 L440.423 230.569 Q442.784 231.795 445.076 232.42 Q447.368 233.022 449.613 233.022 Q452.622 233.022 454.242 232.004 Q455.863 230.962 455.863 229.087 Q455.863 227.351 454.682 226.425 Q453.525 225.499 449.567 224.643 L448.085 224.295 Q444.127 223.462 442.368 221.749 Q440.608 220.013 440.608 217.004 Q440.608 213.346 443.201 211.356 Q445.793 209.365 450.562 209.365 Q452.923 209.365 455.006 209.712 Q457.09 210.059 458.849 210.754 Z\" fill=\"#000000\" fill-rule=\"evenodd\" fill-opacity=\"1\" /><path clip-path=\"url(#clip980)\" d=\"M471.233 202.629 L471.233 209.99 L480.006 209.99 L480.006 213.3 L471.233 213.3 L471.233 227.374 Q471.233 230.545 472.09 231.448 Q472.969 232.351 475.631 232.351 L480.006 232.351 L480.006 235.916 L475.631 235.916 Q470.701 235.916 468.826 234.087 Q466.951 232.235 466.951 227.374 L466.951 213.3 L463.826 213.3 L463.826 209.99 L466.951 209.99 L466.951 202.629 L471.233 202.629 Z\" fill=\"#000000\" fill-rule=\"evenodd\" fill-opacity=\"1\" /><path clip-path=\"url(#clip980)\" d=\"M497.39 222.883 Q492.228 222.883 490.238 224.064 Q488.247 225.244 488.247 228.092 Q488.247 230.36 489.728 231.703 Q491.233 233.022 493.802 233.022 Q497.344 233.022 499.474 230.522 Q501.626 227.999 501.626 223.832 L501.626 222.883 L497.39 222.883 M505.886 221.124 L505.886 235.916 L501.626 235.916 L501.626 231.981 Q500.168 234.342 497.992 235.476 Q495.816 236.587 492.668 236.587 Q488.687 236.587 486.326 234.365 Q483.988 232.119 483.988 228.369 Q483.988 223.994 486.904 221.772 Q489.844 219.55 495.654 219.55 L501.626 219.55 L501.626 219.133 Q501.626 216.194 499.682 214.596 Q497.761 212.976 494.265 212.976 Q492.043 212.976 489.937 213.508 Q487.83 214.041 485.886 215.106 L485.886 211.17 Q488.224 210.268 490.423 209.828 Q492.622 209.365 494.705 209.365 Q500.33 209.365 503.108 212.282 Q505.886 215.198 505.886 221.124 Z\" fill=\"#000000\" fill-rule=\"evenodd\" fill-opacity=\"1\" /><path clip-path=\"url(#clip980)\" d=\"M529.682 213.971 Q528.964 213.555 528.108 213.37 Q527.274 213.161 526.256 213.161 Q522.645 213.161 520.7 215.522 Q518.779 217.86 518.779 222.258 L518.779 235.916 L514.497 235.916 L514.497 209.99 L518.779 209.99 L518.779 214.018 Q520.122 211.657 522.275 210.522 Q524.427 209.365 527.506 209.365 Q527.946 209.365 528.478 209.434 Q529.011 209.481 529.659 209.596 L529.682 213.971 Z\" fill=\"#000000\" fill-rule=\"evenodd\" fill-opacity=\"1\" /><path clip-path=\"url(#clip980)\" d=\"M538.362 202.629 L538.362 209.99 L547.135 209.99 L547.135 213.3 L538.362 213.3 L538.362 227.374 Q538.362 230.545 539.219 231.448 Q540.098 232.351 542.761 232.351 L547.135 232.351 L547.135 235.916 L542.761 235.916 Q537.83 235.916 535.955 234.087 Q534.08 232.235 534.08 227.374 L534.08 213.3 L530.955 213.3 L530.955 209.99 L534.08 209.99 L534.08 202.629 L538.362 202.629 Z\" fill=\"#000000\" fill-rule=\"evenodd\" fill-opacity=\"1\" /><circle clip-path=\"url(#clip980)\" cx=\"343.596\" cy=\"270.476\" r=\"23\" fill=\"#e26f46\" fill-rule=\"evenodd\" fill-opacity=\"1\" stroke=\"#000000\" stroke-opacity=\"1\" stroke-width=\"5.12\"/>\n",
       "<path clip-path=\"url(#clip980)\" d=\"M465.979 282.825 L465.979 273.543 L458.34 273.543 L458.34 269.7 L470.608 269.7 L470.608 284.538 Q467.9 286.459 464.636 287.455 Q461.372 288.427 457.668 288.427 Q449.567 288.427 444.983 283.705 Q440.423 278.959 440.423 270.51 Q440.423 262.038 444.983 257.316 Q449.567 252.571 457.668 252.571 Q461.048 252.571 464.08 253.404 Q467.136 254.237 469.705 255.858 L469.705 260.835 Q467.113 258.636 464.196 257.524 Q461.279 256.413 458.062 256.413 Q451.719 256.413 448.525 259.955 Q445.354 263.497 445.354 270.51 Q445.354 277.501 448.525 281.043 Q451.719 284.584 458.062 284.584 Q460.539 284.584 462.483 284.168 Q464.428 283.728 465.979 282.825 Z\" fill=\"#000000\" fill-rule=\"evenodd\" fill-opacity=\"1\" /><path clip-path=\"url(#clip980)\" d=\"M489.011 264.816 Q485.585 264.816 483.594 267.501 Q481.603 270.163 481.603 274.816 Q481.603 279.469 483.571 282.154 Q485.562 284.816 489.011 284.816 Q492.414 284.816 494.404 282.131 Q496.395 279.446 496.395 274.816 Q496.395 270.21 494.404 267.524 Q492.414 264.816 489.011 264.816 M489.011 261.205 Q494.566 261.205 497.738 264.816 Q500.909 268.427 500.909 274.816 Q500.909 281.182 497.738 284.816 Q494.566 288.427 489.011 288.427 Q483.432 288.427 480.261 284.816 Q477.113 281.182 477.113 274.816 Q477.113 268.427 480.261 264.816 Q483.432 261.205 489.011 261.205 Z\" fill=\"#000000\" fill-rule=\"evenodd\" fill-opacity=\"1\" /><path clip-path=\"url(#clip980)\" d=\"M519.751 274.723 Q514.589 274.723 512.599 275.904 Q510.608 277.084 510.608 279.932 Q510.608 282.2 512.089 283.543 Q513.594 284.862 516.163 284.862 Q519.705 284.862 521.835 282.362 Q523.987 279.839 523.987 275.672 L523.987 274.723 L519.751 274.723 M528.247 272.964 L528.247 287.756 L523.987 287.756 L523.987 283.821 Q522.529 286.182 520.353 287.316 Q518.177 288.427 515.029 288.427 Q511.048 288.427 508.687 286.205 Q506.349 283.959 506.349 280.209 Q506.349 275.834 509.265 273.612 Q512.205 271.39 518.015 271.39 L523.987 271.39 L523.987 270.973 Q523.987 268.034 522.043 266.436 Q520.122 264.816 516.626 264.816 Q514.404 264.816 512.298 265.348 Q510.191 265.881 508.247 266.946 L508.247 263.01 Q510.585 262.108 512.784 261.668 Q514.983 261.205 517.066 261.205 Q522.691 261.205 525.469 264.122 Q528.247 267.038 528.247 272.964 Z\" fill=\"#000000\" fill-rule=\"evenodd\" fill-opacity=\"1\" /><path clip-path=\"url(#clip980)\" d=\"M537.02 251.737 L541.279 251.737 L541.279 287.756 L537.02 287.756 L537.02 251.737 Z\" fill=\"#000000\" fill-rule=\"evenodd\" fill-opacity=\"1\" /><path clip-path=\"url(#clip980)\" d=\"M566.672 283.821 L574.311 283.821 L574.311 257.455 L566.001 259.122 L566.001 254.862 L574.265 253.196 L578.941 253.196 L578.941 283.821 L586.58 283.821 L586.58 287.756 L566.672 287.756 L566.672 283.821 Z\" fill=\"#000000\" fill-rule=\"evenodd\" fill-opacity=\"1\" /><circle clip-path=\"url(#clip980)\" cx=\"343.596\" cy=\"322.316\" r=\"23\" fill=\"#3da44d\" fill-rule=\"evenodd\" fill-opacity=\"1\" stroke=\"#000000\" stroke-opacity=\"1\" stroke-width=\"5.12\"/>\n",
       "<path clip-path=\"url(#clip980)\" d=\"M465.979 334.665 L465.979 325.383 L458.34 325.383 L458.34 321.54 L470.608 321.54 L470.608 336.378 Q467.9 338.299 464.636 339.295 Q461.372 340.267 457.668 340.267 Q449.567 340.267 444.983 335.545 Q440.423 330.799 440.423 322.35 Q440.423 313.878 444.983 309.156 Q449.567 304.411 457.668 304.411 Q461.048 304.411 464.08 305.244 Q467.136 306.077 469.705 307.698 L469.705 312.675 Q467.113 310.476 464.196 309.364 Q461.279 308.253 458.062 308.253 Q451.719 308.253 448.525 311.795 Q445.354 315.337 445.354 322.35 Q445.354 329.341 448.525 332.883 Q451.719 336.424 458.062 336.424 Q460.539 336.424 462.483 336.008 Q464.428 335.568 465.979 334.665 Z\" fill=\"#000000\" fill-rule=\"evenodd\" fill-opacity=\"1\" /><path clip-path=\"url(#clip980)\" d=\"M489.011 316.656 Q485.585 316.656 483.594 319.341 Q481.603 322.003 481.603 326.656 Q481.603 331.309 483.571 333.994 Q485.562 336.656 489.011 336.656 Q492.414 336.656 494.404 333.971 Q496.395 331.286 496.395 326.656 Q496.395 322.05 494.404 319.364 Q492.414 316.656 489.011 316.656 M489.011 313.045 Q494.566 313.045 497.738 316.656 Q500.909 320.267 500.909 326.656 Q500.909 333.022 497.738 336.656 Q494.566 340.267 489.011 340.267 Q483.432 340.267 480.261 336.656 Q477.113 333.022 477.113 326.656 Q477.113 320.267 480.261 316.656 Q483.432 313.045 489.011 313.045 Z\" fill=\"#000000\" fill-rule=\"evenodd\" fill-opacity=\"1\" /><path clip-path=\"url(#clip980)\" d=\"M519.751 326.563 Q514.589 326.563 512.599 327.744 Q510.608 328.924 510.608 331.772 Q510.608 334.04 512.089 335.383 Q513.594 336.702 516.163 336.702 Q519.705 336.702 521.835 334.202 Q523.987 331.679 523.987 327.512 L523.987 326.563 L519.751 326.563 M528.247 324.804 L528.247 339.596 L523.987 339.596 L523.987 335.661 Q522.529 338.022 520.353 339.156 Q518.177 340.267 515.029 340.267 Q511.048 340.267 508.687 338.045 Q506.349 335.799 506.349 332.049 Q506.349 327.674 509.265 325.452 Q512.205 323.23 518.015 323.23 L523.987 323.23 L523.987 322.813 Q523.987 319.874 522.043 318.276 Q520.122 316.656 516.626 316.656 Q514.404 316.656 512.298 317.188 Q510.191 317.721 508.247 318.786 L508.247 314.85 Q510.585 313.948 512.784 313.508 Q514.983 313.045 517.066 313.045 Q522.691 313.045 525.469 315.962 Q528.247 318.878 528.247 324.804 Z\" fill=\"#000000\" fill-rule=\"evenodd\" fill-opacity=\"1\" /><path clip-path=\"url(#clip980)\" d=\"M537.02 303.577 L541.279 303.577 L541.279 339.596 L537.02 339.596 L537.02 303.577 Z\" fill=\"#000000\" fill-rule=\"evenodd\" fill-opacity=\"1\" /><path clip-path=\"url(#clip980)\" d=\"M569.89 335.661 L586.209 335.661 L586.209 339.596 L564.265 339.596 L564.265 335.661 Q566.927 332.906 571.51 328.276 Q576.117 323.624 577.297 322.281 Q579.543 319.758 580.422 318.022 Q581.325 316.263 581.325 314.573 Q581.325 311.818 579.381 310.082 Q577.459 308.346 574.358 308.346 Q572.159 308.346 569.705 309.11 Q567.274 309.874 564.497 311.425 L564.497 306.702 Q567.321 305.568 569.774 304.989 Q572.228 304.411 574.265 304.411 Q579.635 304.411 582.83 307.096 Q586.024 309.781 586.024 314.272 Q586.024 316.401 585.214 318.323 Q584.427 320.221 582.32 322.813 Q581.742 323.485 578.64 326.702 Q575.538 329.897 569.89 335.661 Z\" fill=\"#000000\" fill-rule=\"evenodd\" fill-opacity=\"1\" /><polyline clip-path=\"url(#clip980)\" style=\"stroke:#c271d2; stroke-linecap:butt; stroke-linejoin:round; stroke-width:4; stroke-opacity:1; fill:none\" points=\"\n",
       "  270.976,374.156 416.216,374.156 \n",
       "  \"/>\n",
       "<path clip-path=\"url(#clip980)\" d=\"M440.423 355.417 L444.682 355.417 L444.682 391.436 L440.423 391.436 L440.423 355.417 Z\" fill=\"#000000\" fill-rule=\"evenodd\" fill-opacity=\"1\" /><path clip-path=\"url(#clip980)\" d=\"M475.77 377.408 L475.77 379.491 L456.187 379.491 Q456.465 383.889 458.826 386.204 Q461.21 388.496 465.446 388.496 Q467.9 388.496 470.191 387.894 Q472.506 387.292 474.775 386.089 L474.775 390.116 Q472.483 391.088 470.076 391.598 Q467.668 392.107 465.191 392.107 Q458.988 392.107 455.354 388.496 Q451.742 384.885 451.742 378.727 Q451.742 372.362 455.168 368.635 Q458.617 364.885 464.451 364.885 Q469.682 364.885 472.715 368.265 Q475.77 371.621 475.77 377.408 M471.511 376.158 Q471.465 372.663 469.543 370.579 Q467.645 368.496 464.497 368.496 Q460.932 368.496 458.779 370.51 Q456.65 372.524 456.326 376.181 L471.511 376.158 Z\" fill=\"#000000\" fill-rule=\"evenodd\" fill-opacity=\"1\" /><path clip-path=\"url(#clip980)\" d=\"M499.821 378.172 Q499.821 373.542 497.9 370.996 Q496.002 368.45 492.552 368.45 Q489.127 368.45 487.205 370.996 Q485.307 373.542 485.307 378.172 Q485.307 382.778 487.205 385.325 Q489.127 387.871 492.552 387.871 Q496.002 387.871 497.9 385.325 Q499.821 382.778 499.821 378.172 M504.08 388.218 Q504.08 394.838 501.14 398.056 Q498.201 401.297 492.136 401.297 Q489.89 401.297 487.9 400.95 Q485.909 400.625 484.034 399.931 L484.034 395.788 Q485.909 396.806 487.738 397.292 Q489.566 397.778 491.464 397.778 Q495.654 397.778 497.738 395.579 Q499.821 393.403 499.821 388.982 L499.821 386.876 Q498.501 389.167 496.441 390.301 Q494.381 391.436 491.511 391.436 Q486.742 391.436 483.826 387.801 Q480.909 384.167 480.909 378.172 Q480.909 372.153 483.826 368.519 Q486.742 364.885 491.511 364.885 Q494.381 364.885 496.441 366.019 Q498.501 367.153 499.821 369.445 L499.821 365.51 L504.08 365.51 L504.08 388.218 Z\" fill=\"#000000\" fill-rule=\"evenodd\" fill-opacity=\"1\" /><path clip-path=\"url(#clip980)\" d=\"M512.853 365.51 L517.113 365.51 L517.113 391.436 L512.853 391.436 L512.853 365.51 M512.853 355.417 L517.113 355.417 L517.113 360.811 L512.853 360.811 L512.853 355.417 Z\" fill=\"#000000\" fill-rule=\"evenodd\" fill-opacity=\"1\" /><path clip-path=\"url(#clip980)\" d=\"M544.636 378.496 Q544.636 373.797 542.691 371.135 Q540.77 368.45 537.39 368.45 Q534.011 368.45 532.066 371.135 Q530.145 373.797 530.145 378.496 Q530.145 383.195 532.066 385.88 Q534.011 388.542 537.39 388.542 Q540.77 388.542 542.691 385.88 Q544.636 383.195 544.636 378.496 M530.145 369.445 Q531.487 367.13 533.524 366.019 Q535.585 364.885 538.432 364.885 Q543.154 364.885 546.094 368.635 Q549.057 372.385 549.057 378.496 Q549.057 384.607 546.094 388.357 Q543.154 392.107 538.432 392.107 Q535.585 392.107 533.524 390.996 Q531.487 389.862 530.145 387.547 L530.145 391.436 L525.862 391.436 L525.862 355.417 L530.145 355.417 L530.145 369.445 Z\" fill=\"#000000\" fill-rule=\"evenodd\" fill-opacity=\"1\" /><path clip-path=\"url(#clip980)\" d=\"M556.117 355.417 L560.376 355.417 L560.376 391.436 L556.117 391.436 L556.117 355.417 Z\" fill=\"#000000\" fill-rule=\"evenodd\" fill-opacity=\"1\" /><path clip-path=\"url(#clip980)\" d=\"M591.464 377.408 L591.464 379.491 L571.881 379.491 Q572.159 383.889 574.52 386.204 Q576.904 388.496 581.14 388.496 Q583.594 388.496 585.885 387.894 Q588.2 387.292 590.469 386.089 L590.469 390.116 Q588.177 391.088 585.77 391.598 Q583.362 392.107 580.885 392.107 Q574.682 392.107 571.047 388.496 Q567.436 384.885 567.436 378.727 Q567.436 372.362 570.862 368.635 Q574.311 364.885 580.145 364.885 Q585.376 364.885 588.408 368.265 Q591.464 371.621 591.464 377.408 M587.205 376.158 Q587.158 372.663 585.237 370.579 Q583.339 368.496 580.191 368.496 Q576.626 368.496 574.473 370.51 Q572.344 372.524 572.02 376.181 L587.205 376.158 Z\" fill=\"#000000\" fill-rule=\"evenodd\" fill-opacity=\"1\" /><path clip-path=\"url(#clip980)\" d=\"M617.644 387.547 L617.644 401.297 L613.362 401.297 L613.362 365.51 L617.644 365.51 L617.644 369.445 Q618.987 367.13 621.024 366.019 Q623.084 364.885 625.931 364.885 Q630.654 364.885 633.593 368.635 Q636.556 372.385 636.556 378.496 Q636.556 384.607 633.593 388.357 Q630.654 392.107 625.931 392.107 Q623.084 392.107 621.024 390.996 Q618.987 389.862 617.644 387.547 M632.135 378.496 Q632.135 373.797 630.191 371.135 Q628.269 368.45 624.89 368.45 Q621.51 368.45 619.566 371.135 Q617.644 373.797 617.644 378.496 Q617.644 383.195 619.566 385.88 Q621.51 388.542 624.89 388.542 Q628.269 388.542 630.191 385.88 Q632.135 383.195 632.135 378.496 Z\" fill=\"#000000\" fill-rule=\"evenodd\" fill-opacity=\"1\" /><path clip-path=\"url(#clip980)\" d=\"M655.399 378.403 Q650.237 378.403 648.246 379.584 Q646.255 380.764 646.255 383.612 Q646.255 385.88 647.737 387.223 Q649.241 388.542 651.811 388.542 Q655.353 388.542 657.482 386.042 Q659.635 383.519 659.635 379.352 L659.635 378.403 L655.399 378.403 M663.894 376.644 L663.894 391.436 L659.635 391.436 L659.635 387.501 Q658.177 389.862 656.001 390.996 Q653.825 392.107 650.677 392.107 Q646.695 392.107 644.334 389.885 Q641.996 387.639 641.996 383.889 Q641.996 379.514 644.913 377.292 Q647.853 375.07 653.663 375.07 L659.635 375.07 L659.635 374.653 Q659.635 371.714 657.69 370.116 Q655.769 368.496 652.274 368.496 Q650.052 368.496 647.945 369.028 Q645.839 369.561 643.894 370.626 L643.894 366.69 Q646.232 365.788 648.431 365.348 Q650.63 364.885 652.714 364.885 Q658.339 364.885 661.116 367.802 Q663.894 370.718 663.894 376.644 Z\" fill=\"#000000\" fill-rule=\"evenodd\" fill-opacity=\"1\" /><path clip-path=\"url(#clip980)\" d=\"M676.88 358.149 L676.88 365.51 L685.653 365.51 L685.653 368.82 L676.88 368.82 L676.88 382.894 Q676.88 386.065 677.737 386.968 Q678.616 387.871 681.278 387.871 L685.653 387.871 L685.653 391.436 L681.278 391.436 Q676.348 391.436 674.473 389.607 Q672.598 387.755 672.598 382.894 L672.598 368.82 L669.473 368.82 L669.473 365.51 L672.598 365.51 L672.598 358.149 L676.88 358.149 Z\" fill=\"#000000\" fill-rule=\"evenodd\" fill-opacity=\"1\" /><path clip-path=\"url(#clip980)\" d=\"M712.806 375.788 L712.806 391.436 L708.547 391.436 L708.547 375.927 Q708.547 372.246 707.111 370.417 Q705.676 368.589 702.806 368.589 Q699.357 368.589 697.366 370.788 Q695.375 372.987 695.375 376.783 L695.375 391.436 L691.093 391.436 L691.093 355.417 L695.375 355.417 L695.375 369.538 Q696.903 367.2 698.963 366.042 Q701.047 364.885 703.755 364.885 Q708.223 364.885 710.514 367.663 Q712.806 370.417 712.806 375.788 Z\" fill=\"#000000\" fill-rule=\"evenodd\" fill-opacity=\"1\" /><path clip-path=\"url(#clip980)\" d=\"M740.584 358.149 L740.584 365.51 L749.357 365.51 L749.357 368.82 L740.584 368.82 L740.584 382.894 Q740.584 386.065 741.44 386.968 Q742.32 387.871 744.982 387.871 L749.357 387.871 L749.357 391.436 L744.982 391.436 Q740.051 391.436 738.176 389.607 Q736.301 387.755 736.301 382.894 L736.301 368.82 L733.176 368.82 L733.176 365.51 L736.301 365.51 L736.301 358.149 L740.584 358.149 Z\" fill=\"#000000\" fill-rule=\"evenodd\" fill-opacity=\"1\" /><path clip-path=\"url(#clip980)\" d=\"M765.005 368.496 Q761.579 368.496 759.588 371.181 Q757.597 373.843 757.597 378.496 Q757.597 383.149 759.565 385.834 Q761.556 388.496 765.005 388.496 Q768.407 388.496 770.398 385.811 Q772.389 383.126 772.389 378.496 Q772.389 373.89 770.398 371.204 Q768.407 368.496 765.005 368.496 M765.005 364.885 Q770.56 364.885 773.732 368.496 Q776.903 372.107 776.903 378.496 Q776.903 384.862 773.732 388.496 Q770.56 392.107 765.005 392.107 Q759.426 392.107 756.255 388.496 Q753.107 384.862 753.107 378.496 Q753.107 372.107 756.255 368.496 Q759.426 364.885 765.005 364.885 Z\" fill=\"#000000\" fill-rule=\"evenodd\" fill-opacity=\"1\" /><path clip-path=\"url(#clip980)\" d=\"M816.092 378.172 Q816.092 373.542 814.171 370.996 Q812.273 368.45 808.824 368.45 Q805.398 368.45 803.477 370.996 Q801.579 373.542 801.579 378.172 Q801.579 382.778 803.477 385.325 Q805.398 387.871 808.824 387.871 Q812.273 387.871 814.171 385.325 Q816.092 382.778 816.092 378.172 M820.352 388.218 Q820.352 394.838 817.412 398.056 Q814.472 401.297 808.407 401.297 Q806.162 401.297 804.171 400.95 Q802.18 400.625 800.305 399.931 L800.305 395.788 Q802.18 396.806 804.009 397.292 Q805.838 397.778 807.736 397.778 Q811.926 397.778 814.009 395.579 Q816.092 393.403 816.092 388.982 L816.092 386.876 Q814.773 389.167 812.713 390.301 Q810.653 391.436 807.782 391.436 Q803.014 391.436 800.097 387.801 Q797.18 384.167 797.18 378.172 Q797.18 372.153 800.097 368.519 Q803.014 364.885 807.782 364.885 Q810.653 364.885 812.713 366.019 Q814.773 367.153 816.092 369.445 L816.092 365.51 L820.352 365.51 L820.352 388.218 Z\" fill=\"#000000\" fill-rule=\"evenodd\" fill-opacity=\"1\" /><path clip-path=\"url(#clip980)\" d=\"M839.171 368.496 Q835.745 368.496 833.754 371.181 Q831.764 373.843 831.764 378.496 Q831.764 383.149 833.731 385.834 Q835.722 388.496 839.171 388.496 Q842.574 388.496 844.564 385.811 Q846.555 383.126 846.555 378.496 Q846.555 373.89 844.564 371.204 Q842.574 368.496 839.171 368.496 M839.171 364.885 Q844.726 364.885 847.898 368.496 Q851.069 372.107 851.069 378.496 Q851.069 384.862 847.898 388.496 Q844.726 392.107 839.171 392.107 Q833.592 392.107 830.421 388.496 Q827.273 384.862 827.273 378.496 Q827.273 372.107 830.421 368.496 Q833.592 364.885 839.171 364.885 Z\" fill=\"#000000\" fill-rule=\"evenodd\" fill-opacity=\"1\" /><path clip-path=\"url(#clip980)\" d=\"M869.912 378.403 Q864.75 378.403 862.759 379.584 Q860.768 380.764 860.768 383.612 Q860.768 385.88 862.25 387.223 Q863.754 388.542 866.324 388.542 Q869.865 388.542 871.995 386.042 Q874.148 383.519 874.148 379.352 L874.148 378.403 L869.912 378.403 M878.407 376.644 L878.407 391.436 L874.148 391.436 L874.148 387.501 Q872.689 389.862 870.513 390.996 Q868.337 392.107 865.189 392.107 Q861.208 392.107 858.847 389.885 Q856.509 387.639 856.509 383.889 Q856.509 379.514 859.425 377.292 Q862.365 375.07 868.175 375.07 L874.148 375.07 L874.148 374.653 Q874.148 371.714 872.203 370.116 Q870.282 368.496 866.787 368.496 Q864.564 368.496 862.458 369.028 Q860.351 369.561 858.407 370.626 L858.407 366.69 Q860.745 365.788 862.944 365.348 Q865.143 364.885 867.226 364.885 Q872.851 364.885 875.629 367.802 Q878.407 370.718 878.407 376.644 Z\" fill=\"#000000\" fill-rule=\"evenodd\" fill-opacity=\"1\" /><path clip-path=\"url(#clip980)\" d=\"M887.18 355.417 L891.439 355.417 L891.439 391.436 L887.18 391.436 L887.18 355.417 Z\" fill=\"#000000\" fill-rule=\"evenodd\" fill-opacity=\"1\" /><path clip-path=\"url(#clip980)\" d=\"M916.833 387.501 L924.471 387.501 L924.471 361.135 L916.161 362.802 L916.161 358.542 L924.425 356.876 L929.101 356.876 L929.101 387.501 L936.74 387.501 L936.74 391.436 L916.833 391.436 L916.833 387.501 Z\" fill=\"#000000\" fill-rule=\"evenodd\" fill-opacity=\"1\" /></svg>\n"
      ]
     },
     "execution_count": 25,
     "metadata": {},
     "output_type": "execute_result"
    }
   ],
   "source": [
    "xvals_leg = [Xline[i][1] for i=1:N]\n",
    "yvals_leg = [Xline[i][2] for i=1:N]\n",
    "\n",
    "\n",
    "p = plot()\n",
    "scatter!([start[1]], [start[2]], label=\"start\")\n",
    "for i=1:length(all_goals)\n",
    "    goal = all_goals[i]\n",
    "    scatter!([goal[1]], [goal[2]], label=string(\"Goal \", i) )\n",
    "end\n",
    "\n",
    "plot!(xvals_leg, yvals_leg, legend=:topleft, label=\"legible path to goal 1\")\n",
    "\n",
    "xlabel!(\"X\")\n",
    "ylabel!(\"Y\")\n",
    "\n",
    "title!(\"Legible Motion with ILQR\")\n",
    "\n"
   ]
  },
  {
   "cell_type": "code",
   "execution_count": null,
   "metadata": {},
   "outputs": [],
   "source": []
  }
 ],
 "metadata": {
  "@webio": {
   "lastCommId": null,
   "lastKernelId": null
  },
  "kernelspec": {
   "display_name": "Python 3",
   "language": "python",
   "name": "python3"
  },
  "language_info": {
   "codemirror_mode": {
    "name": "ipython",
    "version": 3
   },
   "file_extension": ".py",
   "mimetype": "text/x-python",
   "name": "python",
   "nbconvert_exporter": "python",
   "pygments_lexer": "ipython3",
   "version": "3.7.10"
  }
 },
 "nbformat": 4,
 "nbformat_minor": 4
}
